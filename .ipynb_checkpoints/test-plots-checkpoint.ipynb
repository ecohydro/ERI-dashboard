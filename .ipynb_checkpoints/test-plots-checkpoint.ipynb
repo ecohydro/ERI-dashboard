{
 "cells": [
  {
   "cell_type": "code",
   "execution_count": 14,
   "metadata": {},
   "outputs": [],
   "source": [
    "# LOAD\n",
    "import pandas as pd\n",
    "import numpy as np\n",
    "import plotly.graph_objects as go\n",
    "import plotly.express as px\n",
    "\n",
    "# OPTIONAL FRAME SETTINGS \n",
    "# desired_width = 320\n",
    "# pd.set_option('display.max_columns', 20)\n",
    "# pd.set_option('display.width', desired_width)"
   ]
  },
  {
   "cell_type": "code",
   "execution_count": 15,
   "metadata": {},
   "outputs": [],
   "source": [
    "# DATA\n",
    "all_teams_df = pd.read_csv('shot_dist_compiled_data_2019_20.csv')"
   ]
  },
  {
   "cell_type": "code",
   "execution_count": 16,
   "metadata": {},
   "outputs": [
    {
     "data": {
      "application/vnd.plotly.v1+json": {
       "config": {
        "plotlyServerURL": "https://plot.ly"
       },
       "data": [
        {
         "type": "bar",
         "y": [
          2,
          3,
          1
         ]
        }
       ],
       "layout": {
        "autosize": true,
        "template": {
         "data": {
          "bar": [
           {
            "error_x": {
             "color": "#2a3f5f"
            },
            "error_y": {
             "color": "#2a3f5f"
            },
            "marker": {
             "line": {
              "color": "#E5ECF6",
              "width": 0.5
             }
            },
            "type": "bar"
           }
          ],
          "barpolar": [
           {
            "marker": {
             "line": {
              "color": "#E5ECF6",
              "width": 0.5
             }
            },
            "type": "barpolar"
           }
          ],
          "carpet": [
           {
            "aaxis": {
             "endlinecolor": "#2a3f5f",
             "gridcolor": "white",
             "linecolor": "white",
             "minorgridcolor": "white",
             "startlinecolor": "#2a3f5f"
            },
            "baxis": {
             "endlinecolor": "#2a3f5f",
             "gridcolor": "white",
             "linecolor": "white",
             "minorgridcolor": "white",
             "startlinecolor": "#2a3f5f"
            },
            "type": "carpet"
           }
          ],
          "choropleth": [
           {
            "colorbar": {
             "outlinewidth": 0,
             "ticks": ""
            },
            "type": "choropleth"
           }
          ],
          "contour": [
           {
            "colorbar": {
             "outlinewidth": 0,
             "ticks": ""
            },
            "colorscale": [
             [
              0,
              "#0d0887"
             ],
             [
              0.1111111111111111,
              "#46039f"
             ],
             [
              0.2222222222222222,
              "#7201a8"
             ],
             [
              0.3333333333333333,
              "#9c179e"
             ],
             [
              0.4444444444444444,
              "#bd3786"
             ],
             [
              0.5555555555555556,
              "#d8576b"
             ],
             [
              0.6666666666666666,
              "#ed7953"
             ],
             [
              0.7777777777777778,
              "#fb9f3a"
             ],
             [
              0.8888888888888888,
              "#fdca26"
             ],
             [
              1,
              "#f0f921"
             ]
            ],
            "type": "contour"
           }
          ],
          "contourcarpet": [
           {
            "colorbar": {
             "outlinewidth": 0,
             "ticks": ""
            },
            "type": "contourcarpet"
           }
          ],
          "heatmap": [
           {
            "colorbar": {
             "outlinewidth": 0,
             "ticks": ""
            },
            "colorscale": [
             [
              0,
              "#0d0887"
             ],
             [
              0.1111111111111111,
              "#46039f"
             ],
             [
              0.2222222222222222,
              "#7201a8"
             ],
             [
              0.3333333333333333,
              "#9c179e"
             ],
             [
              0.4444444444444444,
              "#bd3786"
             ],
             [
              0.5555555555555556,
              "#d8576b"
             ],
             [
              0.6666666666666666,
              "#ed7953"
             ],
             [
              0.7777777777777778,
              "#fb9f3a"
             ],
             [
              0.8888888888888888,
              "#fdca26"
             ],
             [
              1,
              "#f0f921"
             ]
            ],
            "type": "heatmap"
           }
          ],
          "heatmapgl": [
           {
            "colorbar": {
             "outlinewidth": 0,
             "ticks": ""
            },
            "colorscale": [
             [
              0,
              "#0d0887"
             ],
             [
              0.1111111111111111,
              "#46039f"
             ],
             [
              0.2222222222222222,
              "#7201a8"
             ],
             [
              0.3333333333333333,
              "#9c179e"
             ],
             [
              0.4444444444444444,
              "#bd3786"
             ],
             [
              0.5555555555555556,
              "#d8576b"
             ],
             [
              0.6666666666666666,
              "#ed7953"
             ],
             [
              0.7777777777777778,
              "#fb9f3a"
             ],
             [
              0.8888888888888888,
              "#fdca26"
             ],
             [
              1,
              "#f0f921"
             ]
            ],
            "type": "heatmapgl"
           }
          ],
          "histogram": [
           {
            "marker": {
             "colorbar": {
              "outlinewidth": 0,
              "ticks": ""
             }
            },
            "type": "histogram"
           }
          ],
          "histogram2d": [
           {
            "colorbar": {
             "outlinewidth": 0,
             "ticks": ""
            },
            "colorscale": [
             [
              0,
              "#0d0887"
             ],
             [
              0.1111111111111111,
              "#46039f"
             ],
             [
              0.2222222222222222,
              "#7201a8"
             ],
             [
              0.3333333333333333,
              "#9c179e"
             ],
             [
              0.4444444444444444,
              "#bd3786"
             ],
             [
              0.5555555555555556,
              "#d8576b"
             ],
             [
              0.6666666666666666,
              "#ed7953"
             ],
             [
              0.7777777777777778,
              "#fb9f3a"
             ],
             [
              0.8888888888888888,
              "#fdca26"
             ],
             [
              1,
              "#f0f921"
             ]
            ],
            "type": "histogram2d"
           }
          ],
          "histogram2dcontour": [
           {
            "colorbar": {
             "outlinewidth": 0,
             "ticks": ""
            },
            "colorscale": [
             [
              0,
              "#0d0887"
             ],
             [
              0.1111111111111111,
              "#46039f"
             ],
             [
              0.2222222222222222,
              "#7201a8"
             ],
             [
              0.3333333333333333,
              "#9c179e"
             ],
             [
              0.4444444444444444,
              "#bd3786"
             ],
             [
              0.5555555555555556,
              "#d8576b"
             ],
             [
              0.6666666666666666,
              "#ed7953"
             ],
             [
              0.7777777777777778,
              "#fb9f3a"
             ],
             [
              0.8888888888888888,
              "#fdca26"
             ],
             [
              1,
              "#f0f921"
             ]
            ],
            "type": "histogram2dcontour"
           }
          ],
          "mesh3d": [
           {
            "colorbar": {
             "outlinewidth": 0,
             "ticks": ""
            },
            "type": "mesh3d"
           }
          ],
          "parcoords": [
           {
            "line": {
             "colorbar": {
              "outlinewidth": 0,
              "ticks": ""
             }
            },
            "type": "parcoords"
           }
          ],
          "pie": [
           {
            "automargin": true,
            "type": "pie"
           }
          ],
          "scatter": [
           {
            "marker": {
             "colorbar": {
              "outlinewidth": 0,
              "ticks": ""
             }
            },
            "type": "scatter"
           }
          ],
          "scatter3d": [
           {
            "line": {
             "colorbar": {
              "outlinewidth": 0,
              "ticks": ""
             }
            },
            "marker": {
             "colorbar": {
              "outlinewidth": 0,
              "ticks": ""
             }
            },
            "type": "scatter3d"
           }
          ],
          "scattercarpet": [
           {
            "marker": {
             "colorbar": {
              "outlinewidth": 0,
              "ticks": ""
             }
            },
            "type": "scattercarpet"
           }
          ],
          "scattergeo": [
           {
            "marker": {
             "colorbar": {
              "outlinewidth": 0,
              "ticks": ""
             }
            },
            "type": "scattergeo"
           }
          ],
          "scattergl": [
           {
            "marker": {
             "colorbar": {
              "outlinewidth": 0,
              "ticks": ""
             }
            },
            "type": "scattergl"
           }
          ],
          "scattermapbox": [
           {
            "marker": {
             "colorbar": {
              "outlinewidth": 0,
              "ticks": ""
             }
            },
            "type": "scattermapbox"
           }
          ],
          "scatterpolar": [
           {
            "marker": {
             "colorbar": {
              "outlinewidth": 0,
              "ticks": ""
             }
            },
            "type": "scatterpolar"
           }
          ],
          "scatterpolargl": [
           {
            "marker": {
             "colorbar": {
              "outlinewidth": 0,
              "ticks": ""
             }
            },
            "type": "scatterpolargl"
           }
          ],
          "scatterternary": [
           {
            "marker": {
             "colorbar": {
              "outlinewidth": 0,
              "ticks": ""
             }
            },
            "type": "scatterternary"
           }
          ],
          "surface": [
           {
            "colorbar": {
             "outlinewidth": 0,
             "ticks": ""
            },
            "colorscale": [
             [
              0,
              "#0d0887"
             ],
             [
              0.1111111111111111,
              "#46039f"
             ],
             [
              0.2222222222222222,
              "#7201a8"
             ],
             [
              0.3333333333333333,
              "#9c179e"
             ],
             [
              0.4444444444444444,
              "#bd3786"
             ],
             [
              0.5555555555555556,
              "#d8576b"
             ],
             [
              0.6666666666666666,
              "#ed7953"
             ],
             [
              0.7777777777777778,
              "#fb9f3a"
             ],
             [
              0.8888888888888888,
              "#fdca26"
             ],
             [
              1,
              "#f0f921"
             ]
            ],
            "type": "surface"
           }
          ],
          "table": [
           {
            "cells": {
             "fill": {
              "color": "#EBF0F8"
             },
             "line": {
              "color": "white"
             }
            },
            "header": {
             "fill": {
              "color": "#C8D4E3"
             },
             "line": {
              "color": "white"
             }
            },
            "type": "table"
           }
          ]
         },
         "layout": {
          "annotationdefaults": {
           "arrowcolor": "#2a3f5f",
           "arrowhead": 0,
           "arrowwidth": 1
          },
          "coloraxis": {
           "colorbar": {
            "outlinewidth": 0,
            "ticks": ""
           }
          },
          "colorscale": {
           "diverging": [
            [
             0,
             "#8e0152"
            ],
            [
             0.1,
             "#c51b7d"
            ],
            [
             0.2,
             "#de77ae"
            ],
            [
             0.3,
             "#f1b6da"
            ],
            [
             0.4,
             "#fde0ef"
            ],
            [
             0.5,
             "#f7f7f7"
            ],
            [
             0.6,
             "#e6f5d0"
            ],
            [
             0.7,
             "#b8e186"
            ],
            [
             0.8,
             "#7fbc41"
            ],
            [
             0.9,
             "#4d9221"
            ],
            [
             1,
             "#276419"
            ]
           ],
           "sequential": [
            [
             0,
             "#0d0887"
            ],
            [
             0.1111111111111111,
             "#46039f"
            ],
            [
             0.2222222222222222,
             "#7201a8"
            ],
            [
             0.3333333333333333,
             "#9c179e"
            ],
            [
             0.4444444444444444,
             "#bd3786"
            ],
            [
             0.5555555555555556,
             "#d8576b"
            ],
            [
             0.6666666666666666,
             "#ed7953"
            ],
            [
             0.7777777777777778,
             "#fb9f3a"
            ],
            [
             0.8888888888888888,
             "#fdca26"
            ],
            [
             1,
             "#f0f921"
            ]
           ],
           "sequentialminus": [
            [
             0,
             "#0d0887"
            ],
            [
             0.1111111111111111,
             "#46039f"
            ],
            [
             0.2222222222222222,
             "#7201a8"
            ],
            [
             0.3333333333333333,
             "#9c179e"
            ],
            [
             0.4444444444444444,
             "#bd3786"
            ],
            [
             0.5555555555555556,
             "#d8576b"
            ],
            [
             0.6666666666666666,
             "#ed7953"
            ],
            [
             0.7777777777777778,
             "#fb9f3a"
            ],
            [
             0.8888888888888888,
             "#fdca26"
            ],
            [
             1,
             "#f0f921"
            ]
           ]
          },
          "colorway": [
           "#636efa",
           "#EF553B",
           "#00cc96",
           "#ab63fa",
           "#FFA15A",
           "#19d3f3",
           "#FF6692",
           "#B6E880",
           "#FF97FF",
           "#FECB52"
          ],
          "font": {
           "color": "#2a3f5f"
          },
          "geo": {
           "bgcolor": "white",
           "lakecolor": "white",
           "landcolor": "#E5ECF6",
           "showlakes": true,
           "showland": true,
           "subunitcolor": "white"
          },
          "hoverlabel": {
           "align": "left"
          },
          "hovermode": "closest",
          "mapbox": {
           "style": "light"
          },
          "paper_bgcolor": "white",
          "plot_bgcolor": "#E5ECF6",
          "polar": {
           "angularaxis": {
            "gridcolor": "white",
            "linecolor": "white",
            "ticks": ""
           },
           "bgcolor": "#E5ECF6",
           "radialaxis": {
            "gridcolor": "white",
            "linecolor": "white",
            "ticks": ""
           }
          },
          "scene": {
           "xaxis": {
            "backgroundcolor": "#E5ECF6",
            "gridcolor": "white",
            "gridwidth": 2,
            "linecolor": "white",
            "showbackground": true,
            "ticks": "",
            "zerolinecolor": "white"
           },
           "yaxis": {
            "backgroundcolor": "#E5ECF6",
            "gridcolor": "white",
            "gridwidth": 2,
            "linecolor": "white",
            "showbackground": true,
            "ticks": "",
            "zerolinecolor": "white"
           },
           "zaxis": {
            "backgroundcolor": "#E5ECF6",
            "gridcolor": "white",
            "gridwidth": 2,
            "linecolor": "white",
            "showbackground": true,
            "ticks": "",
            "zerolinecolor": "white"
           }
          },
          "shapedefaults": {
           "line": {
            "color": "#2a3f5f"
           }
          },
          "ternary": {
           "aaxis": {
            "gridcolor": "white",
            "linecolor": "white",
            "ticks": ""
           },
           "baxis": {
            "gridcolor": "white",
            "linecolor": "white",
            "ticks": ""
           },
           "bgcolor": "#E5ECF6",
           "caxis": {
            "gridcolor": "white",
            "linecolor": "white",
            "ticks": ""
           }
          },
          "title": {
           "x": 0.05
          },
          "xaxis": {
           "automargin": true,
           "gridcolor": "white",
           "linecolor": "white",
           "ticks": "",
           "title": {
            "standoff": 15
           },
           "zerolinecolor": "white",
           "zerolinewidth": 2
          },
          "yaxis": {
           "automargin": true,
           "gridcolor": "white",
           "linecolor": "white",
           "ticks": "",
           "title": {
            "standoff": 15
           },
           "zerolinecolor": "white",
           "zerolinewidth": 2
          }
         }
        },
        "xaxis": {
         "autorange": true,
         "range": [
          -0.5,
          2.5
         ]
        },
        "yaxis": {
         "autorange": true,
         "range": [
          0,
          3.1578947368421053
         ],
         "type": "linear"
        }
       }
      },
      "image/png": "[encoded data removed]",
      "text/html": [
       "<div>\n",
       "        \n",
       "        \n",
       "            <div id=\"3f0614bc-324a-4e38-ac87-f923b2d23dae\" class=\"plotly-graph-div\" style=\"height:525px; width:100%;\"></div>\n",
       "            <script type=\"text/javascript\">\n",
       "                require([\"plotly\"], function(Plotly) {\n",
       "                    window.PLOTLYENV=window.PLOTLYENV || {};\n",
       "                    \n",
       "                if (document.getElementById(\"3f0614bc-324a-4e38-ac87-f923b2d23dae\")) {\n",
       "                    Plotly.newPlot(\n",
       "                        '3f0614bc-324a-4e38-ac87-f923b2d23dae',\n",
       "                        [{\"type\": \"bar\", \"y\": [2, 3, 1]}],\n",
       "                        {\"template\": {\"data\": {\"bar\": [{\"error_x\": {\"color\": \"#2a3f5f\"}, \"error_y\": {\"color\": \"#2a3f5f\"}, \"marker\": {\"line\": {\"color\": \"#E5ECF6\", \"width\": 0.5}}, \"type\": \"bar\"}], \"barpolar\": [{\"marker\": {\"line\": {\"color\": \"#E5ECF6\", \"width\": 0.5}}, \"type\": \"barpolar\"}], \"carpet\": [{\"aaxis\": {\"endlinecolor\": \"#2a3f5f\", \"gridcolor\": \"white\", \"linecolor\": \"white\", \"minorgridcolor\": \"white\", \"startlinecolor\": \"#2a3f5f\"}, \"baxis\": {\"endlinecolor\": \"#2a3f5f\", \"gridcolor\": \"white\", \"linecolor\": \"white\", \"minorgridcolor\": \"white\", \"startlinecolor\": \"#2a3f5f\"}, \"type\": \"carpet\"}], \"choropleth\": [{\"colorbar\": {\"outlinewidth\": 0, \"ticks\": \"\"}, \"type\": \"choropleth\"}], \"contour\": [{\"colorbar\": {\"outlinewidth\": 0, \"ticks\": \"\"}, \"colorscale\": [[0.0, \"#0d0887\"], [0.1111111111111111, \"#46039f\"], [0.2222222222222222, \"#7201a8\"], [0.3333333333333333, \"#9c179e\"], [0.4444444444444444, \"#bd3786\"], [0.5555555555555556, \"#d8576b\"], [0.6666666666666666, \"#ed7953\"], [0.7777777777777778, \"#fb9f3a\"], [0.8888888888888888, \"#fdca26\"], [1.0, \"#f0f921\"]], \"type\": \"contour\"}], \"contourcarpet\": [{\"colorbar\": {\"outlinewidth\": 0, \"ticks\": \"\"}, \"type\": \"contourcarpet\"}], \"heatmap\": [{\"colorbar\": {\"outlinewidth\": 0, \"ticks\": \"\"}, \"colorscale\": [[0.0, \"#0d0887\"], [0.1111111111111111, \"#46039f\"], [0.2222222222222222, \"#7201a8\"], [0.3333333333333333, \"#9c179e\"], [0.4444444444444444, \"#bd3786\"], [0.5555555555555556, \"#d8576b\"], [0.6666666666666666, \"#ed7953\"], [0.7777777777777778, \"#fb9f3a\"], [0.8888888888888888, \"#fdca26\"], [1.0, \"#f0f921\"]], \"type\": \"heatmap\"}], \"heatmapgl\": [{\"colorbar\": {\"outlinewidth\": 0, \"ticks\": \"\"}, \"colorscale\": [[0.0, \"#0d0887\"], [0.1111111111111111, \"#46039f\"], [0.2222222222222222, \"#7201a8\"], [0.3333333333333333, \"#9c179e\"], [0.4444444444444444, \"#bd3786\"], [0.5555555555555556, \"#d8576b\"], [0.6666666666666666, \"#ed7953\"], [0.7777777777777778, \"#fb9f3a\"], [0.8888888888888888, \"#fdca26\"], [1.0, \"#f0f921\"]], \"type\": \"heatmapgl\"}], \"histogram\": [{\"marker\": {\"colorbar\": {\"outlinewidth\": 0, \"ticks\": \"\"}}, \"type\": \"histogram\"}], \"histogram2d\": [{\"colorbar\": {\"outlinewidth\": 0, \"ticks\": \"\"}, \"colorscale\": [[0.0, \"#0d0887\"], [0.1111111111111111, \"#46039f\"], [0.2222222222222222, \"#7201a8\"], [0.3333333333333333, \"#9c179e\"], [0.4444444444444444, \"#bd3786\"], [0.5555555555555556, \"#d8576b\"], [0.6666666666666666, \"#ed7953\"], [0.7777777777777778, \"#fb9f3a\"], [0.8888888888888888, \"#fdca26\"], [1.0, \"#f0f921\"]], \"type\": \"histogram2d\"}], \"histogram2dcontour\": [{\"colorbar\": {\"outlinewidth\": 0, \"ticks\": \"\"}, \"colorscale\": [[0.0, \"#0d0887\"], [0.1111111111111111, \"#46039f\"], [0.2222222222222222, \"#7201a8\"], [0.3333333333333333, \"#9c179e\"], [0.4444444444444444, \"#bd3786\"], [0.5555555555555556, \"#d8576b\"], [0.6666666666666666, \"#ed7953\"], [0.7777777777777778, \"#fb9f3a\"], [0.8888888888888888, \"#fdca26\"], [1.0, \"#f0f921\"]], \"type\": \"histogram2dcontour\"}], \"mesh3d\": [{\"colorbar\": {\"outlinewidth\": 0, \"ticks\": \"\"}, \"type\": \"mesh3d\"}], \"parcoords\": [{\"line\": {\"colorbar\": {\"outlinewidth\": 0, \"ticks\": \"\"}}, \"type\": \"parcoords\"}], \"pie\": [{\"automargin\": true, \"type\": \"pie\"}], \"scatter\": [{\"marker\": {\"colorbar\": {\"outlinewidth\": 0, \"ticks\": \"\"}}, \"type\": \"scatter\"}], \"scatter3d\": [{\"line\": {\"colorbar\": {\"outlinewidth\": 0, \"ticks\": \"\"}}, \"marker\": {\"colorbar\": {\"outlinewidth\": 0, \"ticks\": \"\"}}, \"type\": \"scatter3d\"}], \"scattercarpet\": [{\"marker\": {\"colorbar\": {\"outlinewidth\": 0, \"ticks\": \"\"}}, \"type\": \"scattercarpet\"}], \"scattergeo\": [{\"marker\": {\"colorbar\": {\"outlinewidth\": 0, \"ticks\": \"\"}}, \"type\": \"scattergeo\"}], \"scattergl\": [{\"marker\": {\"colorbar\": {\"outlinewidth\": 0, \"ticks\": \"\"}}, \"type\": \"scattergl\"}], \"scattermapbox\": [{\"marker\": {\"colorbar\": {\"outlinewidth\": 0, \"ticks\": \"\"}}, \"type\": \"scattermapbox\"}], \"scatterpolar\": [{\"marker\": {\"colorbar\": {\"outlinewidth\": 0, \"ticks\": \"\"}}, \"type\": \"scatterpolar\"}], \"scatterpolargl\": [{\"marker\": {\"colorbar\": {\"outlinewidth\": 0, \"ticks\": \"\"}}, \"type\": \"scatterpolargl\"}], \"scatterternary\": [{\"marker\": {\"colorbar\": {\"outlinewidth\": 0, \"ticks\": \"\"}}, \"type\": \"scatterternary\"}], \"surface\": [{\"colorbar\": {\"outlinewidth\": 0, \"ticks\": \"\"}, \"colorscale\": [[0.0, \"#0d0887\"], [0.1111111111111111, \"#46039f\"], [0.2222222222222222, \"#7201a8\"], [0.3333333333333333, \"#9c179e\"], [0.4444444444444444, \"#bd3786\"], [0.5555555555555556, \"#d8576b\"], [0.6666666666666666, \"#ed7953\"], [0.7777777777777778, \"#fb9f3a\"], [0.8888888888888888, \"#fdca26\"], [1.0, \"#f0f921\"]], \"type\": \"surface\"}], \"table\": [{\"cells\": {\"fill\": {\"color\": \"#EBF0F8\"}, \"line\": {\"color\": \"white\"}}, \"header\": {\"fill\": {\"color\": \"#C8D4E3\"}, \"line\": {\"color\": \"white\"}}, \"type\": \"table\"}]}, \"layout\": {\"annotationdefaults\": {\"arrowcolor\": \"#2a3f5f\", \"arrowhead\": 0, \"arrowwidth\": 1}, \"coloraxis\": {\"colorbar\": {\"outlinewidth\": 0, \"ticks\": \"\"}}, \"colorscale\": {\"diverging\": [[0, \"#8e0152\"], [0.1, \"#c51b7d\"], [0.2, \"#de77ae\"], [0.3, \"#f1b6da\"], [0.4, \"#fde0ef\"], [0.5, \"#f7f7f7\"], [0.6, \"#e6f5d0\"], [0.7, \"#b8e186\"], [0.8, \"#7fbc41\"], [0.9, \"#4d9221\"], [1, \"#276419\"]], \"sequential\": [[0.0, \"#0d0887\"], [0.1111111111111111, \"#46039f\"], [0.2222222222222222, \"#7201a8\"], [0.3333333333333333, \"#9c179e\"], [0.4444444444444444, \"#bd3786\"], [0.5555555555555556, \"#d8576b\"], [0.6666666666666666, \"#ed7953\"], [0.7777777777777778, \"#fb9f3a\"], [0.8888888888888888, \"#fdca26\"], [1.0, \"#f0f921\"]], \"sequentialminus\": [[0.0, \"#0d0887\"], [0.1111111111111111, \"#46039f\"], [0.2222222222222222, \"#7201a8\"], [0.3333333333333333, \"#9c179e\"], [0.4444444444444444, \"#bd3786\"], [0.5555555555555556, \"#d8576b\"], [0.6666666666666666, \"#ed7953\"], [0.7777777777777778, \"#fb9f3a\"], [0.8888888888888888, \"#fdca26\"], [1.0, \"#f0f921\"]]}, \"colorway\": [\"#636efa\", \"#EF553B\", \"#00cc96\", \"#ab63fa\", \"#FFA15A\", \"#19d3f3\", \"#FF6692\", \"#B6E880\", \"#FF97FF\", \"#FECB52\"], \"font\": {\"color\": \"#2a3f5f\"}, \"geo\": {\"bgcolor\": \"white\", \"lakecolor\": \"white\", \"landcolor\": \"#E5ECF6\", \"showlakes\": true, \"showland\": true, \"subunitcolor\": \"white\"}, \"hoverlabel\": {\"align\": \"left\"}, \"hovermode\": \"closest\", \"mapbox\": {\"style\": \"light\"}, \"paper_bgcolor\": \"white\", \"plot_bgcolor\": \"#E5ECF6\", \"polar\": {\"angularaxis\": {\"gridcolor\": \"white\", \"linecolor\": \"white\", \"ticks\": \"\"}, \"bgcolor\": \"#E5ECF6\", \"radialaxis\": {\"gridcolor\": \"white\", \"linecolor\": \"white\", \"ticks\": \"\"}}, \"scene\": {\"xaxis\": {\"backgroundcolor\": \"#E5ECF6\", \"gridcolor\": \"white\", \"gridwidth\": 2, \"linecolor\": \"white\", \"showbackground\": true, \"ticks\": \"\", \"zerolinecolor\": \"white\"}, \"yaxis\": {\"backgroundcolor\": \"#E5ECF6\", \"gridcolor\": \"white\", \"gridwidth\": 2, \"linecolor\": \"white\", \"showbackground\": true, \"ticks\": \"\", \"zerolinecolor\": \"white\"}, \"zaxis\": {\"backgroundcolor\": \"#E5ECF6\", \"gridcolor\": \"white\", \"gridwidth\": 2, \"linecolor\": \"white\", \"showbackground\": true, \"ticks\": \"\", \"zerolinecolor\": \"white\"}}, \"shapedefaults\": {\"line\": {\"color\": \"#2a3f5f\"}}, \"ternary\": {\"aaxis\": {\"gridcolor\": \"white\", \"linecolor\": \"white\", \"ticks\": \"\"}, \"baxis\": {\"gridcolor\": \"white\", \"linecolor\": \"white\", \"ticks\": \"\"}, \"bgcolor\": \"#E5ECF6\", \"caxis\": {\"gridcolor\": \"white\", \"linecolor\": \"white\", \"ticks\": \"\"}}, \"title\": {\"x\": 0.05}, \"xaxis\": {\"automargin\": true, \"gridcolor\": \"white\", \"linecolor\": \"white\", \"ticks\": \"\", \"title\": {\"standoff\": 15}, \"zerolinecolor\": \"white\", \"zerolinewidth\": 2}, \"yaxis\": {\"automargin\": true, \"gridcolor\": \"white\", \"linecolor\": \"white\", \"ticks\": \"\", \"title\": {\"standoff\": 15}, \"zerolinecolor\": \"white\", \"zerolinewidth\": 2}}}},\n",
       "                        {\"responsive\": true}\n",
       "                    ).then(function(){\n",
       "                            \n",
       "var gd = document.getElementById('3f0614bc-324a-4e38-ac87-f923b2d23dae');\n",
       "var x = new MutationObserver(function (mutations, observer) {{\n",
       "        var display = window.getComputedStyle(gd).display;\n",
       "        if (!display || display === 'none') {{\n",
       "            console.log([gd, 'removed!']);\n",
       "            Plotly.purge(gd);\n",
       "            observer.disconnect();\n",
       "        }}\n",
       "}});\n",
       "\n",
       "// Listen for the removal of the full notebook cells\n",
       "var notebookContainer = gd.closest('#notebook-container');\n",
       "if (notebookContainer) {{\n",
       "    x.observe(notebookContainer, {childList: true});\n",
       "}}\n",
       "\n",
       "// Listen for the clearing of the current output cell\n",
       "var outputEl = gd.closest('.output');\n",
       "if (outputEl) {{\n",
       "    x.observe(outputEl, {childList: true});\n",
       "}}\n",
       "\n",
       "                        })\n",
       "                };\n",
       "                });\n",
       "            </script>\n",
       "        </div>"
      ]
     },
     "metadata": {},
     "output_type": "display_data"
    }
   ],
   "source": [
    "# GRAPH OBJECT\n",
    "fig = go.Figure(data=go.Bar(y=[2, 3, 1]))\n",
    "fig.show()"
   ]
  },
  {
   "cell_type": "code",
   "execution_count": 11,
   "metadata": {},
   "outputs": [
    {
     "data": {
      "application/vnd.plotly.v1+json": {
       "config": {
        "plotlyServerURL": "https://plot.ly"
       },
       "data": [
        {
         "hovertemplate": "min_mid=%{x}<br>player=%{y}<br>shots_freq=%{marker.size}<br>pl_pps=%{marker.color}<extra></extra>",
         "legendgroup": "",
         "marker": {
          "color": [
           132.6,
           155.6,
           88.6,
           111.4,
           105.3,
           57.8,
           95.5,
           142,
           100,
           107.1,
           122.7,
           103.2,
           101.9,
           109,
           132.6,
           155.6,
           88.6,
           111.4,
           105.3,
           57.8,
           95.5,
           142,
           100,
           107.1,
           122.7,
           103.2,
           101.9,
           109,
           132.6,
           155.6,
           88.6,
           111.4,
           105.3,
           57.8,
           95.5,
           142,
           100,
           107.1,
           122.7,
           103.2,
           101.9,
           109,
           132.6,
           155.6,
           88.6,
           111.4,
           105.3,
           57.8,
           95.5,
           142,
           100,
           107.1,
           122.7,
           103.2,
           101.9,
           109,
           132.6,
           155.6,
           88.6,
           111.4,
           105.3,
           57.8,
           95.5,
           142,
           100,
           107.1,
           122.7,
           103.2,
           101.9,
           109,
           132.6,
           155.6,
           88.6,
           111.4,
           105.3,
           57.8,
           95.5,
           142,
           100,
           107.1,
           122.7,
           103.2,
           101.9,
           109,
           132.6,
           155.6,
           88.6,
           111.4,
           105.3,
           57.8,
           95.5,
           142,
           100,
           107.1,
           122.7,
           103.2,
           101.9,
           109,
           132.6,
           155.6,
           88.6,
           111.4,
           105.3,
           57.8,
           95.5,
           142,
           100,
           107.1,
           122.7,
           103.2,
           101.9,
           109,
           132.6,
           155.6,
           88.6,
           111.4,
           105.3,
           57.8,
           95.5,
           142,
           100,
           107.1,
           122.7,
           103.2,
           101.9,
           109,
           132.6,
           155.6,
           88.6,
           111.4,
           105.3,
           57.8,
           95.5,
           142,
           100,
           107.1,
           122.7,
           103.2,
           101.9,
           109,
           132.6,
           155.6,
           88.6,
           111.4,
           105.3,
           57.8,
           95.5,
           142,
           100,
           107.1,
           122.7,
           103.2,
           101.9,
           109,
           132.6,
           155.6,
           88.6,
           111.4,
           105.3,
           57.8,
           95.5,
           142,
           100,
           107.1,
           122.7,
           103.2,
           101.9,
           109,
           123.8,
           117.7,
           131.4,
           120.8,
           95.1,
           81.4,
           54.5,
           110.9,
           102.5,
           84.4,
           118.4,
           118.6,
           113.7,
           93.7,
           123.8,
           117.7,
           131.4,
           120.8,
           95.1,
           81.4,
           54.5,
           110.9,
           102.5,
           84.4,
           118.4,
           118.6,
           113.7,
           93.7,
           123.8,
           117.7,
           131.4,
           120.8,
           95.1,
           81.4,
           54.5,
           110.9,
           102.5,
           84.4,
           118.4,
           118.6,
           113.7,
           93.7,
           123.8,
           117.7,
           131.4,
           120.8,
           95.1,
           81.4,
           54.5,
           110.9,
           102.5,
           84.4,
           118.4,
           118.6,
           113.7,
           93.7,
           123.8,
           117.7,
           131.4,
           120.8,
           95.1,
           81.4,
           54.5,
           110.9,
           102.5,
           84.4,
           118.4,
           118.6,
           113.7,
           93.7,
           123.8,
           117.7,
           131.4,
           120.8,
           95.1,
           81.4,
           54.5,
           110.9,
           102.5,
           84.4,
           118.4,
           118.6,
           113.7,
           93.7,
           123.8,
           117.7,
           131.4,
           120.8,
           95.1,
           81.4,
           54.5,
           110.9,
           102.5,
           84.4,
           118.4,
           118.6,
           113.7,
           93.7,
           123.8,
           117.7,
           131.4,
           120.8,
           95.1,
           81.4,
           54.5,
           110.9,
           102.5,
           84.4,
           118.4,
           118.6,
           113.7,
           93.7,
           123.8,
           117.7,
           131.4,
           120.8,
           95.1,
           81.4,
           54.5,
           110.9,
           102.5,
           84.4,
           118.4,
           118.6,
           113.7,
           93.7,
           123.8,
           117.7,
           131.4,
           120.8,
           95.1,
           81.4,
           54.5,
           110.9,
           102.5,
           84.4,
           118.4,
           118.6,
           113.7,
           93.7,
           123.8,
           117.7,
           131.4,
           120.8,
           95.1,
           81.4,
           54.5,
           110.9,
           102.5,
           84.4,
           118.4,
           118.6,
           113.7,
           93.7,
           123.8,
           117.7,
           131.4,
           120.8,
           95.1,
           81.4,
           54.5,
           110.9,
           102.5,
           84.4,
           118.4,
           118.6,
           113.7,
           93.7,
           125,
           122.8,
           140.9,
           129.7,
           116.7,
           91.7,
           83.3,
           129.3,
           98.6,
           97.2,
           112,
           90.4,
           103.8,
           114.5,
           125,
           122.8,
           140.9,
           129.7,
           116.7,
           91.7,
           83.3,
           129.3,
           98.6,
           97.2,
           112,
           90.4,
           103.8,
           114.5,
           125,
           122.8,
           140.9,
           129.7,
           116.7,
           91.7,
           83.3,
           129.3,
           98.6,
           97.2,
           112,
           90.4,
           103.8,
           114.5,
           125,
           122.8,
           140.9,
           129.7,
           116.7,
           91.7,
           83.3,
           129.3,
           98.6,
           97.2,
           112,
           90.4,
           103.8,
           114.5,
           125,
           122.8,
           140.9,
           129.7,
           116.7,
           91.7,
           83.3,
           129.3,
           98.6,
           97.2,
           112,
           90.4,
           103.8,
           114.5,
           125,
           122.8,
           140.9,
           129.7,
           116.7,
           91.7,
           83.3,
           129.3,
           98.6,
           97.2,
           112,
           90.4,
           103.8,
           114.5,
           125,
           122.8,
           140.9,
           129.7,
           116.7,
           91.7,
           83.3,
           129.3,
           98.6,
           97.2,
           112,
           90.4,
           103.8,
           114.5,
           125,
           122.8,
           140.9,
           129.7,
           116.7,
           91.7,
           83.3,
           129.3,
           98.6,
           97.2,
           112,
           90.4,
           103.8,
           114.5,
           125,
           122.8,
           140.9,
           129.7,
           116.7,
           91.7,
           83.3,
           129.3,
           98.6,
           97.2,
           112,
           90.4,
           103.8,
           114.5,
           125,
           122.8,
           140.9,
           129.7,
           116.7,
           91.7,
           83.3,
           129.3,
           98.6,
           97.2,
           112,
           90.4,
           103.8,
           114.5,
           125,
           122.8,
           140.9,
           129.7,
           116.7,
           91.7,
           83.3,
           129.3,
           98.6,
           97.2,
           112,
           90.4,
           103.8,
           114.5,
           125,
           122.8,
           140.9,
           129.7,
           116.7,
           91.7,
           83.3,
           129.3,
           98.6,
           97.2,
           112,
           90.4,
           103.8,
           114.5,
           105.9,
           130.8,
           110.5,
           125.7,
           73.7,
           117.9,
           94.1,
           123.1,
           98,
           112.4,
           114.3,
           126.2,
           87.4,
           110.6,
           105.9,
           130.8,
           110.5,
           125.7,
           73.7,
           117.9,
           94.1,
           123.1,
           98,
           112.4,
           114.3,
           126.2,
           87.4,
           110.6,
           105.9,
           130.8,
           110.5,
           125.7,
           73.7,
           117.9,
           94.1,
           123.1,
           98,
           112.4,
           114.3,
           126.2,
           87.4,
           110.6,
           105.9,
           130.8,
           110.5,
           125.7,
           73.7,
           117.9,
           94.1,
           123.1,
           98,
           112.4,
           114.3,
           126.2,
           87.4,
           110.6,
           105.9,
           130.8,
           110.5,
           125.7,
           73.7,
           117.9,
           94.1,
           123.1,
           98,
           112.4,
           114.3,
           126.2,
           87.4,
           110.6,
           105.9,
           130.8,
           110.5,
           125.7,
           73.7,
           117.9,
           94.1,
           123.1,
           98,
           112.4,
           114.3,
           126.2,
           87.4,
           110.6,
           105.9,
           130.8,
           110.5,
           125.7,
           73.7,
           117.9,
           94.1,
           123.1,
           98,
           112.4,
           114.3,
           126.2,
           87.4,
           110.6,
           105.9,
           130.8,
           110.5,
           125.7,
           73.7,
           117.9,
           94.1,
           123.1,
           98,
           112.4,
           114.3,
           126.2,
           87.4,
           110.6,
           105.9,
           130.8,
           110.5,
           125.7,
           73.7,
           117.9,
           94.1,
           123.1,
           98,
           112.4,
           114.3,
           126.2,
           87.4,
           110.6,
           105.9,
           130.8,
           110.5,
           125.7,
           73.7,
           117.9,
           94.1,
           123.1,
           98,
           112.4,
           114.3,
           126.2,
           87.4,
           110.6,
           105.9,
           130.8,
           110.5,
           125.7,
           73.7,
           117.9,
           94.1,
           123.1,
           98,
           112.4,
           114.3,
           126.2,
           87.4,
           110.6,
           105.9,
           130.8,
           110.5,
           125.7,
           73.7,
           117.9,
           94.1,
           123.1,
           98,
           112.4,
           114.3,
           126.2,
           87.4,
           110.6
          ],
          "coloraxis": "coloraxis",
          "size": [
           3.7,
           3.7,
           1.2,
           2.5,
           0,
           0,
           1.2,
           8.6,
           2.5,
           13.6,
           19.8,
           2.5,
           22.2,
           18.5,
           0,
           4.8,
           2.9,
           6.7,
           0,
           0,
           1.9,
           10.5,
           2.9,
           17.1,
           12.4,
           1.9,
           19,
           20,
           3.1,
           5.3,
           1.5,
           3.1,
           0.8,
           0,
           2.3,
           7.6,
           0.8,
           12.2,
           10.7,
           0.8,
           19.8,
           32.1,
           0.9,
           0.9,
           1.8,
           7.3,
           0.9,
           0,
           5.5,
           5.5,
           3.6,
           12.7,
           17.3,
           0.9,
           19.1,
           23.6,
           0,
           0.9,
           1.7,
           5.2,
           0.9,
           0,
           5.2,
           11.3,
           0.9,
           13,
           15.7,
           7,
           18.3,
           20,
           5.6,
           4.6,
           1.9,
           4.6,
           0,
           0,
           4.6,
           7.4,
           2.8,
           14.8,
           15.7,
           4.6,
           19.4,
           13.9,
           2.8,
           4.6,
           0.9,
           1.9,
           0.9,
           0.9,
           2.8,
           4.6,
           0.9,
           13.9,
           16.7,
           7.4,
           17.6,
           24.1,
           7.1,
           5.1,
           2,
           1,
           2,
           2,
           3.1,
           4.1,
           2,
           13.3,
           14.3,
           5.1,
           17.3,
           21.4,
           1.7,
           8.7,
           5.2,
           0,
           3.5,
           6.1,
           3.5,
           0.9,
           4.3,
           7.8,
           19.1,
           6.1,
           12.2,
           20.9,
           9.5,
           8.4,
           8.4,
           0,
           6.3,
           9.5,
           2.1,
           0,
           6.3,
           13.7,
           8.4,
           8.4,
           6.3,
           11.6,
           2.9,
           4.9,
           8.7,
           0,
           7.8,
           12.6,
           5.8,
           1.9,
           7.8,
           5.8,
           10.7,
           8.7,
           8.7,
           13.6,
           4,
           6.4,
           4.8,
           0,
           11.2,
           10.4,
           2.4,
           1.6,
           7.2,
           8,
           8.8,
           4.8,
           16.8,
           13.6,
           0,
           2.2,
           7.5,
           7.5,
           9.7,
           14,
           4.3,
           2.2,
           19.4,
           7.5,
           3.2,
           7.5,
           10.8,
           4.3,
           6.5,
           3.7,
           7.4,
           4.6,
           13,
           6.5,
           3.7,
           1.9,
           10.2,
           9.3,
           4.6,
           13.9,
           12,
           1.9,
           6.4,
           6.4,
           11,
           1.8,
           15.6,
           8.3,
           1.8,
           2.8,
           10.1,
           13.8,
           5.5,
           3.7,
           10.1,
           2.8,
           5.3,
           5.3,
           8.8,
           7.1,
           3.5,
           8,
           0.9,
           3.5,
           15.9,
           4.4,
           6.2,
           11.5,
           8.8,
           10.6,
           2.8,
           2.8,
           6.4,
           7.3,
           2.8,
           6.4,
           1.8,
           0,
           19.3,
           5.5,
           6.4,
           9.2,
           17.4,
           11,
           3,
           5,
           8.9,
           5.9,
           6.9,
           3,
           4,
           6.9,
           9.9,
           6.9,
           5,
           8.9,
           13.9,
           11.9,
           4,
           10.9,
           5,
           0,
           5,
           3,
           2,
           7.9,
           7.9,
           12.9,
           5.9,
           8.9,
           13.9,
           11.9,
           3.7,
           0.9,
           0.9,
           0.9,
           6.5,
           2.8,
           3.7,
           9.3,
           3.7,
           12,
           15.7,
           7.4,
           13.9,
           17.6,
           2.9,
           3.9,
           1.9,
           1.9,
           1.9,
           0,
           0,
           3.9,
           3.9,
           16.5,
           19.4,
           7.8,
           15.5,
           19.4,
           0,
           6.2,
           2.7,
           1.8,
           3.6,
           0.9,
           2.7,
           5.4,
           5.4,
           8.9,
           13.4,
           7.1,
           17.9,
           24.1,
           1.9,
           6.6,
           3.8,
           2.8,
           2.8,
           1.9,
           1.9,
           2.8,
           4.7,
           9.4,
           14.2,
           10.4,
           15.1,
           21.7,
           2.4,
           4.1,
           1.6,
           3.3,
           4.9,
           1.6,
           4.1,
           4.9,
           4.9,
           7.3,
           15.4,
           8.9,
           13.8,
           22.8,
           1.1,
           3.4,
           1.1,
           3.4,
           0,
           0,
           1.1,
           6.9,
           1.1,
           16.1,
           14.9,
           5.7,
           25.3,
           19.5,
           0.9,
           4.7,
           0.9,
           6.5,
           0,
           0,
           1.9,
           14,
           2.8,
           12.1,
           14,
           5.6,
           18.7,
           17.8,
           4.4,
           2.6,
           1.8,
           5.3,
           0,
           0,
           4.4,
           12.3,
           2.6,
           13.2,
           10.5,
           2.6,
           19.3,
           21.1,
           2,
           4,
           1,
           5,
           0,
           0,
           4,
           9,
           2,
           8,
           12,
           8,
           23,
           22,
           1.8,
           0.9,
           3.6,
           5.4,
           0.9,
           0,
           5.4,
           10.7,
           2.7,
           11.6,
           9.8,
           6.2,
           18.8,
           22.3,
           1.8,
           5.4,
           4.5,
           5.4,
           0,
           0,
           4.5,
           10.7,
           5.4,
           8.9,
           11.6,
           7.1,
           14.3,
           20.5,
           1.8,
           1.8,
           2.7,
           2.7,
           0.9,
           1.8,
           3.6,
           5.4,
           2.7,
           14.3,
           17.9,
           8.9,
           15.2,
           20.5,
           4,
           5,
           4,
           1,
           3,
           5,
           1,
           4,
           6.9,
           6.9,
           13.9,
           14.9,
           14.9,
           15.8,
           5,
           5.9,
           6.9,
           0,
           4,
           2,
           5.9,
           2,
           4,
           11.9,
           10.9,
           4,
           14.9,
           21.8,
           1,
           4.8,
           1.9,
           0,
           3.8,
           5.8,
           0,
           1.9,
           14.4,
           12.5,
           12.5,
           13.5,
           13.5,
           14.4,
           0,
           7.3,
           0.9,
           0,
           11,
           6.4,
           4.6,
           0,
           9.2,
           11,
           14.7,
           10.1,
           12.8,
           11.9,
           5.7,
           7.3,
           10.6,
           0,
           8.9,
           11.4,
           2.4,
           0,
           10.6,
           7.3,
           6.5,
           10.6,
           11.4,
           7.3,
           2.3,
           3.4,
           4.6,
           3.4,
           4.6,
           9.2,
           1.1,
           5.7,
           16.1,
           12.6,
           2.3,
           12.6,
           13.8,
           8,
           2.3,
           4.5,
           9.1,
           3.4,
           8,
           8,
           1.1,
           4.5,
           11.4,
           10.2,
           5.7,
           8,
           19.3,
           4.5,
           1.3,
           5.3,
           6.6,
           1.3,
           5.3,
           10.5,
           1.3,
           0,
           17.1,
           9.2,
           5.3,
           11.8,
           15.8,
           9.2,
           2.2,
           2.2,
           5.5,
           8.8,
           5.5,
           8.8,
           0,
           2.2,
           12.1,
           5.5,
           5.5,
           14.3,
           19.8,
           7.7,
           0,
           4.7,
           0.9,
           10.4,
           4.7,
           6.6,
           0,
           2.8,
           12.3,
           10.4,
           6.6,
           12.3,
           15.1,
           13.2,
           2.4,
           3.6,
           6,
           3.6,
           3.6,
           7.1,
           3.6,
           4.8,
           10.7,
           2.4,
           4.8,
           10.7,
           21.4,
           15.5,
           3.8,
           0,
           5.1,
           0,
           1.3,
           3.8,
           1.3,
           6.4,
           9,
           14.1,
           9,
           7.7,
           17.9,
           20.5,
           0,
           1.3,
           2.6,
           0,
           2.6,
           2.6,
           2.6,
           10.4,
           9.1,
           7.8,
           5.2,
           11.7,
           23.4,
           20.8,
           2.8,
           2.8,
           0,
           2.8,
           0,
           2.8,
           4.2,
           1.4,
           4.2,
           9.9,
           7,
           11.3,
           21.1,
           29.6,
           1.6,
           1.6,
           0,
           3.1,
           1.6,
           3.1,
           1.6,
           4.7,
           12.5,
           10.9,
           6.2,
           9.4,
           18.8,
           25,
           2.7,
           1.4,
           1.4,
           2.7,
           5.5,
           1.4,
           0,
           4.1,
           1.4,
           12.3,
           8.2,
           12.3,
           20.5,
           26,
           0,
           0,
           3.8,
           0,
           2.5,
           2.5,
           5.1,
           1.3,
           5.1,
           5.1,
           21.5,
           8.9,
           19,
           25.3
          ],
          "sizemode": "area",
          "sizeref": 0.08025,
          "symbol": "circle"
         },
         "mode": "markers",
         "name": "",
         "showlegend": false,
         "type": "scatter",
         "x": [
          0.5,
          0.5,
          0.5,
          0.5,
          0.5,
          0.5,
          0.5,
          0.5,
          0.5,
          0.5,
          0.5,
          0.5,
          0.5,
          0.5,
          1.5,
          1.5,
          1.5,
          1.5,
          1.5,
          1.5,
          1.5,
          1.5,
          1.5,
          1.5,
          1.5,
          1.5,
          1.5,
          1.5,
          2.5,
          2.5,
          2.5,
          2.5,
          2.5,
          2.5,
          2.5,
          2.5,
          2.5,
          2.5,
          2.5,
          2.5,
          2.5,
          2.5,
          3.5,
          3.5,
          3.5,
          3.5,
          3.5,
          3.5,
          3.5,
          3.5,
          3.5,
          3.5,
          3.5,
          3.5,
          3.5,
          3.5,
          4.5,
          4.5,
          4.5,
          4.5,
          4.5,
          4.5,
          4.5,
          4.5,
          4.5,
          4.5,
          4.5,
          4.5,
          4.5,
          4.5,
          5.5,
          5.5,
          5.5,
          5.5,
          5.5,
          5.5,
          5.5,
          5.5,
          5.5,
          5.5,
          5.5,
          5.5,
          5.5,
          5.5,
          6.5,
          6.5,
          6.5,
          6.5,
          6.5,
          6.5,
          6.5,
          6.5,
          6.5,
          6.5,
          6.5,
          6.5,
          6.5,
          6.5,
          7.5,
          7.5,
          7.5,
          7.5,
          7.5,
          7.5,
          7.5,
          7.5,
          7.5,
          7.5,
          7.5,
          7.5,
          7.5,
          7.5,
          8.5,
          8.5,
          8.5,
          8.5,
          8.5,
          8.5,
          8.5,
          8.5,
          8.5,
          8.5,
          8.5,
          8.5,
          8.5,
          8.5,
          9.5,
          9.5,
          9.5,
          9.5,
          9.5,
          9.5,
          9.5,
          9.5,
          9.5,
          9.5,
          9.5,
          9.5,
          9.5,
          9.5,
          10.5,
          10.5,
          10.5,
          10.5,
          10.5,
          10.5,
          10.5,
          10.5,
          10.5,
          10.5,
          10.5,
          10.5,
          10.5,
          10.5,
          11.5,
          11.5,
          11.5,
          11.5,
          11.5,
          11.5,
          11.5,
          11.5,
          11.5,
          11.5,
          11.5,
          11.5,
          11.5,
          11.5,
          12.5,
          12.5,
          12.5,
          12.5,
          12.5,
          12.5,
          12.5,
          12.5,
          12.5,
          12.5,
          12.5,
          12.5,
          12.5,
          12.5,
          13.5,
          13.5,
          13.5,
          13.5,
          13.5,
          13.5,
          13.5,
          13.5,
          13.5,
          13.5,
          13.5,
          13.5,
          13.5,
          13.5,
          14.5,
          14.5,
          14.5,
          14.5,
          14.5,
          14.5,
          14.5,
          14.5,
          14.5,
          14.5,
          14.5,
          14.5,
          14.5,
          14.5,
          15.5,
          15.5,
          15.5,
          15.5,
          15.5,
          15.5,
          15.5,
          15.5,
          15.5,
          15.5,
          15.5,
          15.5,
          15.5,
          15.5,
          16.5,
          16.5,
          16.5,
          16.5,
          16.5,
          16.5,
          16.5,
          16.5,
          16.5,
          16.5,
          16.5,
          16.5,
          16.5,
          16.5,
          17.5,
          17.5,
          17.5,
          17.5,
          17.5,
          17.5,
          17.5,
          17.5,
          17.5,
          17.5,
          17.5,
          17.5,
          17.5,
          17.5,
          18.5,
          18.5,
          18.5,
          18.5,
          18.5,
          18.5,
          18.5,
          18.5,
          18.5,
          18.5,
          18.5,
          18.5,
          18.5,
          18.5,
          19.5,
          19.5,
          19.5,
          19.5,
          19.5,
          19.5,
          19.5,
          19.5,
          19.5,
          19.5,
          19.5,
          19.5,
          19.5,
          19.5,
          20.5,
          20.5,
          20.5,
          20.5,
          20.5,
          20.5,
          20.5,
          20.5,
          20.5,
          20.5,
          20.5,
          20.5,
          20.5,
          20.5,
          21.5,
          21.5,
          21.5,
          21.5,
          21.5,
          21.5,
          21.5,
          21.5,
          21.5,
          21.5,
          21.5,
          21.5,
          21.5,
          21.5,
          22.5,
          22.5,
          22.5,
          22.5,
          22.5,
          22.5,
          22.5,
          22.5,
          22.5,
          22.5,
          22.5,
          22.5,
          22.5,
          22.5,
          23.5,
          23.5,
          23.5,
          23.5,
          23.5,
          23.5,
          23.5,
          23.5,
          23.5,
          23.5,
          23.5,
          23.5,
          23.5,
          23.5,
          24.5,
          24.5,
          24.5,
          24.5,
          24.5,
          24.5,
          24.5,
          24.5,
          24.5,
          24.5,
          24.5,
          24.5,
          24.5,
          24.5,
          25.5,
          25.5,
          25.5,
          25.5,
          25.5,
          25.5,
          25.5,
          25.5,
          25.5,
          25.5,
          25.5,
          25.5,
          25.5,
          25.5,
          26.5,
          26.5,
          26.5,
          26.5,
          26.5,
          26.5,
          26.5,
          26.5,
          26.5,
          26.5,
          26.5,
          26.5,
          26.5,
          26.5,
          27.5,
          27.5,
          27.5,
          27.5,
          27.5,
          27.5,
          27.5,
          27.5,
          27.5,
          27.5,
          27.5,
          27.5,
          27.5,
          27.5,
          28.5,
          28.5,
          28.5,
          28.5,
          28.5,
          28.5,
          28.5,
          28.5,
          28.5,
          28.5,
          28.5,
          28.5,
          28.5,
          28.5,
          29.5,
          29.5,
          29.5,
          29.5,
          29.5,
          29.5,
          29.5,
          29.5,
          29.5,
          29.5,
          29.5,
          29.5,
          29.5,
          29.5,
          30.5,
          30.5,
          30.5,
          30.5,
          30.5,
          30.5,
          30.5,
          30.5,
          30.5,
          30.5,
          30.5,
          30.5,
          30.5,
          30.5,
          31.5,
          31.5,
          31.5,
          31.5,
          31.5,
          31.5,
          31.5,
          31.5,
          31.5,
          31.5,
          31.5,
          31.5,
          31.5,
          31.5,
          32.5,
          32.5,
          32.5,
          32.5,
          32.5,
          32.5,
          32.5,
          32.5,
          32.5,
          32.5,
          32.5,
          32.5,
          32.5,
          32.5,
          33.5,
          33.5,
          33.5,
          33.5,
          33.5,
          33.5,
          33.5,
          33.5,
          33.5,
          33.5,
          33.5,
          33.5,
          33.5,
          33.5,
          34.5,
          34.5,
          34.5,
          34.5,
          34.5,
          34.5,
          34.5,
          34.5,
          34.5,
          34.5,
          34.5,
          34.5,
          34.5,
          34.5,
          35.5,
          35.5,
          35.5,
          35.5,
          35.5,
          35.5,
          35.5,
          35.5,
          35.5,
          35.5,
          35.5,
          35.5,
          35.5,
          35.5,
          36.5,
          36.5,
          36.5,
          36.5,
          36.5,
          36.5,
          36.5,
          36.5,
          36.5,
          36.5,
          36.5,
          36.5,
          36.5,
          36.5,
          37.5,
          37.5,
          37.5,
          37.5,
          37.5,
          37.5,
          37.5,
          37.5,
          37.5,
          37.5,
          37.5,
          37.5,
          37.5,
          37.5,
          38.5,
          38.5,
          38.5,
          38.5,
          38.5,
          38.5,
          38.5,
          38.5,
          38.5,
          38.5,
          38.5,
          38.5,
          38.5,
          38.5,
          39.5,
          39.5,
          39.5,
          39.5,
          39.5,
          39.5,
          39.5,
          39.5,
          39.5,
          39.5,
          39.5,
          39.5,
          39.5,
          39.5,
          40.5,
          40.5,
          40.5,
          40.5,
          40.5,
          40.5,
          40.5,
          40.5,
          40.5,
          40.5,
          40.5,
          40.5,
          40.5,
          40.5,
          41.5,
          41.5,
          41.5,
          41.5,
          41.5,
          41.5,
          41.5,
          41.5,
          41.5,
          41.5,
          41.5,
          41.5,
          41.5,
          41.5,
          42.5,
          42.5,
          42.5,
          42.5,
          42.5,
          42.5,
          42.5,
          42.5,
          42.5,
          42.5,
          42.5,
          42.5,
          42.5,
          42.5,
          43.5,
          43.5,
          43.5,
          43.5,
          43.5,
          43.5,
          43.5,
          43.5,
          43.5,
          43.5,
          43.5,
          43.5,
          43.5,
          43.5,
          44.5,
          44.5,
          44.5,
          44.5,
          44.5,
          44.5,
          44.5,
          44.5,
          44.5,
          44.5,
          44.5,
          44.5,
          44.5,
          44.5,
          45.5,
          45.5,
          45.5,
          45.5,
          45.5,
          45.5,
          45.5,
          45.5,
          45.5,
          45.5,
          45.5,
          45.5,
          45.5,
          45.5,
          46.5,
          46.5,
          46.5,
          46.5,
          46.5,
          46.5,
          46.5,
          46.5,
          46.5,
          46.5,
          46.5,
          46.5,
          46.5,
          46.5,
          47.5,
          47.5,
          47.5,
          47.5,
          47.5,
          47.5,
          47.5,
          47.5,
          47.5,
          47.5,
          47.5,
          47.5,
          47.5,
          47.5
         ],
         "xaxis": "x",
         "y": [
          "Jahlil Okafor",
          "Jaxson Hayes",
          "Nicolo Melli",
          "Zion Williamson",
          "Frank Jackson",
          "Nickeil Alexander-Walker",
          "Kenrich Williams",
          "Derrick Favors",
          "E'Twaun Moore",
          "Lonzo Ball",
          "JJ Redick",
          "Josh Hart",
          "Jrue Holiday",
          "Brandon Ingram",
          "Jahlil Okafor",
          "Jaxson Hayes",
          "Nicolo Melli",
          "Zion Williamson",
          "Frank Jackson",
          "Nickeil Alexander-Walker",
          "Kenrich Williams",
          "Derrick Favors",
          "E'Twaun Moore",
          "Lonzo Ball",
          "JJ Redick",
          "Josh Hart",
          "Jrue Holiday",
          "Brandon Ingram",
          "Jahlil Okafor",
          "Jaxson Hayes",
          "Nicolo Melli",
          "Zion Williamson",
          "Frank Jackson",
          "Nickeil Alexander-Walker",
          "Kenrich Williams",
          "Derrick Favors",
          "E'Twaun Moore",
          "Lonzo Ball",
          "JJ Redick",
          "Josh Hart",
          "Jrue Holiday",
          "Brandon Ingram",
          "Jahlil Okafor",
          "Jaxson Hayes",
          "Nicolo Melli",
          "Zion Williamson",
          "Frank Jackson",
          "Nickeil Alexander-Walker",
          "Kenrich Williams",
          "Derrick Favors",
          "E'Twaun Moore",
          "Lonzo Ball",
          "JJ Redick",
          "Josh Hart",
          "Jrue Holiday",
          "Brandon Ingram",
          "Jahlil Okafor",
          "Jaxson Hayes",
          "Nicolo Melli",
          "Zion Williamson",
          "Frank Jackson",
          "Nickeil Alexander-Walker",
          "Kenrich Williams",
          "Derrick Favors",
          "E'Twaun Moore",
          "Lonzo Ball",
          "JJ Redick",
          "Josh Hart",
          "Jrue Holiday",
          "Brandon Ingram",
          "Jahlil Okafor",
          "Jaxson Hayes",
          "Nicolo Melli",
          "Zion Williamson",
          "Frank Jackson",
          "Nickeil Alexander-Walker",
          "Kenrich Williams",
          "Derrick Favors",
          "E'Twaun Moore",
          "Lonzo Ball",
          "JJ Redick",
          "Josh Hart",
          "Jrue Holiday",
          "Brandon Ingram",
          "Jahlil Okafor",
          "Jaxson Hayes",
          "Nicolo Melli",
          "Zion Williamson",
          "Frank Jackson",
          "Nickeil Alexander-Walker",
          "Kenrich Williams",
          "Derrick Favors",
          "E'Twaun Moore",
          "Lonzo Ball",
          "JJ Redick",
          "Josh Hart",
          "Jrue Holiday",
          "Brandon Ingram",
          "Jahlil Okafor",
          "Jaxson Hayes",
          "Nicolo Melli",
          "Zion Williamson",
          "Frank Jackson",
          "Nickeil Alexander-Walker",
          "Kenrich Williams",
          "Derrick Favors",
          "E'Twaun Moore",
          "Lonzo Ball",
          "JJ Redick",
          "Josh Hart",
          "Jrue Holiday",
          "Brandon Ingram",
          "Jahlil Okafor",
          "Jaxson Hayes",
          "Nicolo Melli",
          "Zion Williamson",
          "Frank Jackson",
          "Nickeil Alexander-Walker",
          "Kenrich Williams",
          "Derrick Favors",
          "E'Twaun Moore",
          "Lonzo Ball",
          "JJ Redick",
          "Josh Hart",
          "Jrue Holiday",
          "Brandon Ingram",
          "Jahlil Okafor",
          "Jaxson Hayes",
          "Nicolo Melli",
          "Zion Williamson",
          "Frank Jackson",
          "Nickeil Alexander-Walker",
          "Kenrich Williams",
          "Derrick Favors",
          "E'Twaun Moore",
          "Lonzo Ball",
          "JJ Redick",
          "Josh Hart",
          "Jrue Holiday",
          "Brandon Ingram",
          "Jahlil Okafor",
          "Jaxson Hayes",
          "Nicolo Melli",
          "Zion Williamson",
          "Frank Jackson",
          "Nickeil Alexander-Walker",
          "Kenrich Williams",
          "Derrick Favors",
          "E'Twaun Moore",
          "Lonzo Ball",
          "JJ Redick",
          "Josh Hart",
          "Jrue Holiday",
          "Brandon Ingram",
          "Jahlil Okafor",
          "Jaxson Hayes",
          "Nicolo Melli",
          "Zion Williamson",
          "Frank Jackson",
          "Nickeil Alexander-Walker",
          "Kenrich Williams",
          "Derrick Favors",
          "E'Twaun Moore",
          "Lonzo Ball",
          "JJ Redick",
          "Josh Hart",
          "Jrue Holiday",
          "Brandon Ingram",
          "Jahlil Okafor",
          "Jaxson Hayes",
          "Nicolo Melli",
          "Zion Williamson",
          "Frank Jackson",
          "Nickeil Alexander-Walker",
          "Kenrich Williams",
          "Derrick Favors",
          "E'Twaun Moore",
          "Lonzo Ball",
          "JJ Redick",
          "Josh Hart",
          "Jrue Holiday",
          "Brandon Ingram",
          "Jahlil Okafor",
          "Jaxson Hayes",
          "Nicolo Melli",
          "Zion Williamson",
          "Frank Jackson",
          "Nickeil Alexander-Walker",
          "Kenrich Williams",
          "Derrick Favors",
          "E'Twaun Moore",
          "Lonzo Ball",
          "JJ Redick",
          "Josh Hart",
          "Jrue Holiday",
          "Brandon Ingram",
          "Jahlil Okafor",
          "Jaxson Hayes",
          "Nicolo Melli",
          "Zion Williamson",
          "Frank Jackson",
          "Nickeil Alexander-Walker",
          "Kenrich Williams",
          "Derrick Favors",
          "E'Twaun Moore",
          "Lonzo Ball",
          "JJ Redick",
          "Josh Hart",
          "Jrue Holiday",
          "Brandon Ingram",
          "Jahlil Okafor",
          "Jaxson Hayes",
          "Nicolo Melli",
          "Zion Williamson",
          "Frank Jackson",
          "Nickeil Alexander-Walker",
          "Kenrich Williams",
          "Derrick Favors",
          "E'Twaun Moore",
          "Lonzo Ball",
          "JJ Redick",
          "Josh Hart",
          "Jrue Holiday",
          "Brandon Ingram",
          "Jahlil Okafor",
          "Jaxson Hayes",
          "Nicolo Melli",
          "Zion Williamson",
          "Frank Jackson",
          "Nickeil Alexander-Walker",
          "Kenrich Williams",
          "Derrick Favors",
          "E'Twaun Moore",
          "Lonzo Ball",
          "JJ Redick",
          "Josh Hart",
          "Jrue Holiday",
          "Brandon Ingram",
          "Jahlil Okafor",
          "Jaxson Hayes",
          "Nicolo Melli",
          "Zion Williamson",
          "Frank Jackson",
          "Nickeil Alexander-Walker",
          "Kenrich Williams",
          "Derrick Favors",
          "E'Twaun Moore",
          "Lonzo Ball",
          "JJ Redick",
          "Josh Hart",
          "Jrue Holiday",
          "Brandon Ingram",
          "Jahlil Okafor",
          "Jaxson Hayes",
          "Nicolo Melli",
          "Zion Williamson",
          "Frank Jackson",
          "Nickeil Alexander-Walker",
          "Kenrich Williams",
          "Derrick Favors",
          "E'Twaun Moore",
          "Lonzo Ball",
          "JJ Redick",
          "Josh Hart",
          "Jrue Holiday",
          "Brandon Ingram",
          "Jahlil Okafor",
          "Jaxson Hayes",
          "Nicolo Melli",
          "Zion Williamson",
          "Frank Jackson",
          "Nickeil Alexander-Walker",
          "Kenrich Williams",
          "Derrick Favors",
          "E'Twaun Moore",
          "Lonzo Ball",
          "JJ Redick",
          "Josh Hart",
          "Jrue Holiday",
          "Brandon Ingram",
          "Jahlil Okafor",
          "Jaxson Hayes",
          "Nicolo Melli",
          "Zion Williamson",
          "Frank Jackson",
          "Nickeil Alexander-Walker",
          "Kenrich Williams",
          "Derrick Favors",
          "E'Twaun Moore",
          "Lonzo Ball",
          "JJ Redick",
          "Josh Hart",
          "Jrue Holiday",
          "Brandon Ingram",
          "Jahlil Okafor",
          "Jaxson Hayes",
          "Nicolo Melli",
          "Zion Williamson",
          "Frank Jackson",
          "Nickeil Alexander-Walker",
          "Kenrich Williams",
          "Derrick Favors",
          "E'Twaun Moore",
          "Lonzo Ball",
          "JJ Redick",
          "Josh Hart",
          "Jrue Holiday",
          "Brandon Ingram",
          "Jahlil Okafor",
          "Jaxson Hayes",
          "Nicolo Melli",
          "Zion Williamson",
          "Frank Jackson",
          "Nickeil Alexander-Walker",
          "Kenrich Williams",
          "Derrick Favors",
          "E'Twaun Moore",
          "Lonzo Ball",
          "JJ Redick",
          "Josh Hart",
          "Jrue Holiday",
          "Brandon Ingram",
          "Jahlil Okafor",
          "Jaxson Hayes",
          "Nicolo Melli",
          "Zion Williamson",
          "Frank Jackson",
          "Nickeil Alexander-Walker",
          "Kenrich Williams",
          "Derrick Favors",
          "E'Twaun Moore",
          "Lonzo Ball",
          "JJ Redick",
          "Josh Hart",
          "Jrue Holiday",
          "Brandon Ingram",
          "Jahlil Okafor",
          "Jaxson Hayes",
          "Nicolo Melli",
          "Zion Williamson",
          "Frank Jackson",
          "Nickeil Alexander-Walker",
          "Kenrich Williams",
          "Derrick Favors",
          "E'Twaun Moore",
          "Lonzo Ball",
          "JJ Redick",
          "Josh Hart",
          "Jrue Holiday",
          "Brandon Ingram",
          "Jahlil Okafor",
          "Jaxson Hayes",
          "Nicolo Melli",
          "Zion Williamson",
          "Frank Jackson",
          "Nickeil Alexander-Walker",
          "Kenrich Williams",
          "Derrick Favors",
          "E'Twaun Moore",
          "Lonzo Ball",
          "JJ Redick",
          "Josh Hart",
          "Jrue Holiday",
          "Brandon Ingram",
          "Jahlil Okafor",
          "Jaxson Hayes",
          "Nicolo Melli",
          "Zion Williamson",
          "Frank Jackson",
          "Nickeil Alexander-Walker",
          "Kenrich Williams",
          "Derrick Favors",
          "E'Twaun Moore",
          "Lonzo Ball",
          "JJ Redick",
          "Josh Hart",
          "Jrue Holiday",
          "Brandon Ingram",
          "Jahlil Okafor",
          "Jaxson Hayes",
          "Nicolo Melli",
          "Zion Williamson",
          "Frank Jackson",
          "Nickeil Alexander-Walker",
          "Kenrich Williams",
          "Derrick Favors",
          "E'Twaun Moore",
          "Lonzo Ball",
          "JJ Redick",
          "Josh Hart",
          "Jrue Holiday",
          "Brandon Ingram",
          "Jahlil Okafor",
          "Jaxson Hayes",
          "Nicolo Melli",
          "Zion Williamson",
          "Frank Jackson",
          "Nickeil Alexander-Walker",
          "Kenrich Williams",
          "Derrick Favors",
          "E'Twaun Moore",
          "Lonzo Ball",
          "JJ Redick",
          "Josh Hart",
          "Jrue Holiday",
          "Brandon Ingram",
          "Jahlil Okafor",
          "Jaxson Hayes",
          "Nicolo Melli",
          "Zion Williamson",
          "Frank Jackson",
          "Nickeil Alexander-Walker",
          "Kenrich Williams",
          "Derrick Favors",
          "E'Twaun Moore",
          "Lonzo Ball",
          "JJ Redick",
          "Josh Hart",
          "Jrue Holiday",
          "Brandon Ingram",
          "Jahlil Okafor",
          "Jaxson Hayes",
          "Nicolo Melli",
          "Zion Williamson",
          "Frank Jackson",
          "Nickeil Alexander-Walker",
          "Kenrich Williams",
          "Derrick Favors",
          "E'Twaun Moore",
          "Lonzo Ball",
          "JJ Redick",
          "Josh Hart",
          "Jrue Holiday",
          "Brandon Ingram",
          "Jahlil Okafor",
          "Jaxson Hayes",
          "Nicolo Melli",
          "Zion Williamson",
          "Frank Jackson",
          "Nickeil Alexander-Walker",
          "Kenrich Williams",
          "Derrick Favors",
          "E'Twaun Moore",
          "Lonzo Ball",
          "JJ Redick",
          "Josh Hart",
          "Jrue Holiday",
          "Brandon Ingram",
          "Jahlil Okafor",
          "Jaxson Hayes",
          "Nicolo Melli",
          "Zion Williamson",
          "Frank Jackson",
          "Nickeil Alexander-Walker",
          "Kenrich Williams",
          "Derrick Favors",
          "E'Twaun Moore",
          "Lonzo Ball",
          "JJ Redick",
          "Josh Hart",
          "Jrue Holiday",
          "Brandon Ingram",
          "Jahlil Okafor",
          "Jaxson Hayes",
          "Nicolo Melli",
          "Zion Williamson",
          "Frank Jackson",
          "Nickeil Alexander-Walker",
          "Kenrich Williams",
          "Derrick Favors",
          "E'Twaun Moore",
          "Lonzo Ball",
          "JJ Redick",
          "Josh Hart",
          "Jrue Holiday",
          "Brandon Ingram",
          "Jahlil Okafor",
          "Jaxson Hayes",
          "Nicolo Melli",
          "Zion Williamson",
          "Frank Jackson",
          "Nickeil Alexander-Walker",
          "Kenrich Williams",
          "Derrick Favors",
          "E'Twaun Moore",
          "Lonzo Ball",
          "JJ Redick",
          "Josh Hart",
          "Jrue Holiday",
          "Brandon Ingram",
          "Jahlil Okafor",
          "Jaxson Hayes",
          "Nicolo Melli",
          "Zion Williamson",
          "Frank Jackson",
          "Nickeil Alexander-Walker",
          "Kenrich Williams",
          "Derrick Favors",
          "E'Twaun Moore",
          "Lonzo Ball",
          "JJ Redick",
          "Josh Hart",
          "Jrue Holiday",
          "Brandon Ingram",
          "Jahlil Okafor",
          "Jaxson Hayes",
          "Nicolo Melli",
          "Zion Williamson",
          "Frank Jackson",
          "Nickeil Alexander-Walker",
          "Kenrich Williams",
          "Derrick Favors",
          "E'Twaun Moore",
          "Lonzo Ball",
          "JJ Redick",
          "Josh Hart",
          "Jrue Holiday",
          "Brandon Ingram",
          "Jahlil Okafor",
          "Jaxson Hayes",
          "Nicolo Melli",
          "Zion Williamson",
          "Frank Jackson",
          "Nickeil Alexander-Walker",
          "Kenrich Williams",
          "Derrick Favors",
          "E'Twaun Moore",
          "Lonzo Ball",
          "JJ Redick",
          "Josh Hart",
          "Jrue Holiday",
          "Brandon Ingram",
          "Jahlil Okafor",
          "Jaxson Hayes",
          "Nicolo Melli",
          "Zion Williamson",
          "Frank Jackson",
          "Nickeil Alexander-Walker",
          "Kenrich Williams",
          "Derrick Favors",
          "E'Twaun Moore",
          "Lonzo Ball",
          "JJ Redick",
          "Josh Hart",
          "Jrue Holiday",
          "Brandon Ingram",
          "Jahlil Okafor",
          "Jaxson Hayes",
          "Nicolo Melli",
          "Zion Williamson",
          "Frank Jackson",
          "Nickeil Alexander-Walker",
          "Kenrich Williams",
          "Derrick Favors",
          "E'Twaun Moore",
          "Lonzo Ball",
          "JJ Redick",
          "Josh Hart",
          "Jrue Holiday",
          "Brandon Ingram",
          "Jahlil Okafor",
          "Jaxson Hayes",
          "Nicolo Melli",
          "Zion Williamson",
          "Frank Jackson",
          "Nickeil Alexander-Walker",
          "Kenrich Williams",
          "Derrick Favors",
          "E'Twaun Moore",
          "Lonzo Ball",
          "JJ Redick",
          "Josh Hart",
          "Jrue Holiday",
          "Brandon Ingram",
          "Jahlil Okafor",
          "Jaxson Hayes",
          "Nicolo Melli",
          "Zion Williamson",
          "Frank Jackson",
          "Nickeil Alexander-Walker",
          "Kenrich Williams",
          "Derrick Favors",
          "E'Twaun Moore",
          "Lonzo Ball",
          "JJ Redick",
          "Josh Hart",
          "Jrue Holiday",
          "Brandon Ingram",
          "Jahlil Okafor",
          "Jaxson Hayes",
          "Nicolo Melli",
          "Zion Williamson",
          "Frank Jackson",
          "Nickeil Alexander-Walker",
          "Kenrich Williams",
          "Derrick Favors",
          "E'Twaun Moore",
          "Lonzo Ball",
          "JJ Redick",
          "Josh Hart",
          "Jrue Holiday",
          "Brandon Ingram",
          "Jahlil Okafor",
          "Jaxson Hayes",
          "Nicolo Melli",
          "Zion Williamson",
          "Frank Jackson",
          "Nickeil Alexander-Walker",
          "Kenrich Williams",
          "Derrick Favors",
          "E'Twaun Moore",
          "Lonzo Ball",
          "JJ Redick",
          "Josh Hart",
          "Jrue Holiday",
          "Brandon Ingram",
          "Jahlil Okafor",
          "Jaxson Hayes",
          "Nicolo Melli",
          "Zion Williamson",
          "Frank Jackson",
          "Nickeil Alexander-Walker",
          "Kenrich Williams",
          "Derrick Favors",
          "E'Twaun Moore",
          "Lonzo Ball",
          "JJ Redick",
          "Josh Hart",
          "Jrue Holiday",
          "Brandon Ingram",
          "Jahlil Okafor",
          "Jaxson Hayes",
          "Nicolo Melli",
          "Zion Williamson",
          "Frank Jackson",
          "Nickeil Alexander-Walker",
          "Kenrich Williams",
          "Derrick Favors",
          "E'Twaun Moore",
          "Lonzo Ball",
          "JJ Redick",
          "Josh Hart",
          "Jrue Holiday",
          "Brandon Ingram",
          "Jahlil Okafor",
          "Jaxson Hayes",
          "Nicolo Melli",
          "Zion Williamson",
          "Frank Jackson",
          "Nickeil Alexander-Walker",
          "Kenrich Williams",
          "Derrick Favors",
          "E'Twaun Moore",
          "Lonzo Ball",
          "JJ Redick",
          "Josh Hart",
          "Jrue Holiday",
          "Brandon Ingram",
          "Jahlil Okafor",
          "Jaxson Hayes",
          "Nicolo Melli",
          "Zion Williamson",
          "Frank Jackson",
          "Nickeil Alexander-Walker",
          "Kenrich Williams",
          "Derrick Favors",
          "E'Twaun Moore",
          "Lonzo Ball",
          "JJ Redick",
          "Josh Hart",
          "Jrue Holiday",
          "Brandon Ingram"
         ],
         "yaxis": "y"
        }
       ],
       "layout": {
        "autosize": true,
        "coloraxis": {
         "colorbar": {
          "title": {
           "text": "pl_pps"
          }
         },
         "colorscale": [
          [
           0,
           "#0d0887"
          ],
          [
           0.1111111111111111,
           "#46039f"
          ],
          [
           0.2222222222222222,
           "#7201a8"
          ],
          [
           0.3333333333333333,
           "#9c179e"
          ],
          [
           0.4444444444444444,
           "#bd3786"
          ],
          [
           0.5555555555555556,
           "#d8576b"
          ],
          [
           0.6666666666666666,
           "#ed7953"
          ],
          [
           0.7777777777777778,
           "#fb9f3a"
          ],
          [
           0.8888888888888888,
           "#fdca26"
          ],
          [
           1,
           "#f0f921"
          ]
         ]
        },
        "legend": {
         "itemsizing": "constant",
         "tracegroupgap": 0
        },
        "margin": {
         "t": 60
        },
        "template": {
         "data": {
          "bar": [
           {
            "error_x": {
             "color": "#2a3f5f"
            },
            "error_y": {
             "color": "#2a3f5f"
            },
            "marker": {
             "line": {
              "color": "#E5ECF6",
              "width": 0.5
             }
            },
            "type": "bar"
           }
          ],
          "barpolar": [
           {
            "marker": {
             "line": {
              "color": "#E5ECF6",
              "width": 0.5
             }
            },
            "type": "barpolar"
           }
          ],
          "carpet": [
           {
            "aaxis": {
             "endlinecolor": "#2a3f5f",
             "gridcolor": "white",
             "linecolor": "white",
             "minorgridcolor": "white",
             "startlinecolor": "#2a3f5f"
            },
            "baxis": {
             "endlinecolor": "#2a3f5f",
             "gridcolor": "white",
             "linecolor": "white",
             "minorgridcolor": "white",
             "startlinecolor": "#2a3f5f"
            },
            "type": "carpet"
           }
          ],
          "choropleth": [
           {
            "colorbar": {
             "outlinewidth": 0,
             "ticks": ""
            },
            "type": "choropleth"
           }
          ],
          "contour": [
           {
            "colorbar": {
             "outlinewidth": 0,
             "ticks": ""
            },
            "colorscale": [
             [
              0,
              "#0d0887"
             ],
             [
              0.1111111111111111,
              "#46039f"
             ],
             [
              0.2222222222222222,
              "#7201a8"
             ],
             [
              0.3333333333333333,
              "#9c179e"
             ],
             [
              0.4444444444444444,
              "#bd3786"
             ],
             [
              0.5555555555555556,
              "#d8576b"
             ],
             [
              0.6666666666666666,
              "#ed7953"
             ],
             [
              0.7777777777777778,
              "#fb9f3a"
             ],
             [
              0.8888888888888888,
              "#fdca26"
             ],
             [
              1,
              "#f0f921"
             ]
            ],
            "type": "contour"
           }
          ],
          "contourcarpet": [
           {
            "colorbar": {
             "outlinewidth": 0,
             "ticks": ""
            },
            "type": "contourcarpet"
           }
          ],
          "heatmap": [
           {
            "colorbar": {
             "outlinewidth": 0,
             "ticks": ""
            },
            "colorscale": [
             [
              0,
              "#0d0887"
             ],
             [
              0.1111111111111111,
              "#46039f"
             ],
             [
              0.2222222222222222,
              "#7201a8"
             ],
             [
              0.3333333333333333,
              "#9c179e"
             ],
             [
              0.4444444444444444,
              "#bd3786"
             ],
             [
              0.5555555555555556,
              "#d8576b"
             ],
             [
              0.6666666666666666,
              "#ed7953"
             ],
             [
              0.7777777777777778,
              "#fb9f3a"
             ],
             [
              0.8888888888888888,
              "#fdca26"
             ],
             [
              1,
              "#f0f921"
             ]
            ],
            "type": "heatmap"
           }
          ],
          "heatmapgl": [
           {
            "colorbar": {
             "outlinewidth": 0,
             "ticks": ""
            },
            "colorscale": [
             [
              0,
              "#0d0887"
             ],
             [
              0.1111111111111111,
              "#46039f"
             ],
             [
              0.2222222222222222,
              "#7201a8"
             ],
             [
              0.3333333333333333,
              "#9c179e"
             ],
             [
              0.4444444444444444,
              "#bd3786"
             ],
             [
              0.5555555555555556,
              "#d8576b"
             ],
             [
              0.6666666666666666,
              "#ed7953"
             ],
             [
              0.7777777777777778,
              "#fb9f3a"
             ],
             [
              0.8888888888888888,
              "#fdca26"
             ],
             [
              1,
              "#f0f921"
             ]
            ],
            "type": "heatmapgl"
           }
          ],
          "histogram": [
           {
            "marker": {
             "colorbar": {
              "outlinewidth": 0,
              "ticks": ""
             }
            },
            "type": "histogram"
           }
          ],
          "histogram2d": [
           {
            "colorbar": {
             "outlinewidth": 0,
             "ticks": ""
            },
            "colorscale": [
             [
              0,
              "#0d0887"
             ],
             [
              0.1111111111111111,
              "#46039f"
             ],
             [
              0.2222222222222222,
              "#7201a8"
             ],
             [
              0.3333333333333333,
              "#9c179e"
             ],
             [
              0.4444444444444444,
              "#bd3786"
             ],
             [
              0.5555555555555556,
              "#d8576b"
             ],
             [
              0.6666666666666666,
              "#ed7953"
             ],
             [
              0.7777777777777778,
              "#fb9f3a"
             ],
             [
              0.8888888888888888,
              "#fdca26"
             ],
             [
              1,
              "#f0f921"
             ]
            ],
            "type": "histogram2d"
           }
          ],
          "histogram2dcontour": [
           {
            "colorbar": {
             "outlinewidth": 0,
             "ticks": ""
            },
            "colorscale": [
             [
              0,
              "#0d0887"
             ],
             [
              0.1111111111111111,
              "#46039f"
             ],
             [
              0.2222222222222222,
              "#7201a8"
             ],
             [
              0.3333333333333333,
              "#9c179e"
             ],
             [
              0.4444444444444444,
              "#bd3786"
             ],
             [
              0.5555555555555556,
              "#d8576b"
             ],
             [
              0.6666666666666666,
              "#ed7953"
             ],
             [
              0.7777777777777778,
              "#fb9f3a"
             ],
             [
              0.8888888888888888,
              "#fdca26"
             ],
             [
              1,
              "#f0f921"
             ]
            ],
            "type": "histogram2dcontour"
           }
          ],
          "mesh3d": [
           {
            "colorbar": {
             "outlinewidth": 0,
             "ticks": ""
            },
            "type": "mesh3d"
           }
          ],
          "parcoords": [
           {
            "line": {
             "colorbar": {
              "outlinewidth": 0,
              "ticks": ""
             }
            },
            "type": "parcoords"
           }
          ],
          "pie": [
           {
            "automargin": true,
            "type": "pie"
           }
          ],
          "scatter": [
           {
            "marker": {
             "colorbar": {
              "outlinewidth": 0,
              "ticks": ""
             }
            },
            "type": "scatter"
           }
          ],
          "scatter3d": [
           {
            "line": {
             "colorbar": {
              "outlinewidth": 0,
              "ticks": ""
             }
            },
            "marker": {
             "colorbar": {
              "outlinewidth": 0,
              "ticks": ""
             }
            },
            "type": "scatter3d"
           }
          ],
          "scattercarpet": [
           {
            "marker": {
             "colorbar": {
              "outlinewidth": 0,
              "ticks": ""
             }
            },
            "type": "scattercarpet"
           }
          ],
          "scattergeo": [
           {
            "marker": {
             "colorbar": {
              "outlinewidth": 0,
              "ticks": ""
             }
            },
            "type": "scattergeo"
           }
          ],
          "scattergl": [
           {
            "marker": {
             "colorbar": {
              "outlinewidth": 0,
              "ticks": ""
             }
            },
            "type": "scattergl"
           }
          ],
          "scattermapbox": [
           {
            "marker": {
             "colorbar": {
              "outlinewidth": 0,
              "ticks": ""
             }
            },
            "type": "scattermapbox"
           }
          ],
          "scatterpolar": [
           {
            "marker": {
             "colorbar": {
              "outlinewidth": 0,
              "ticks": ""
             }
            },
            "type": "scatterpolar"
           }
          ],
          "scatterpolargl": [
           {
            "marker": {
             "colorbar": {
              "outlinewidth": 0,
              "ticks": ""
             }
            },
            "type": "scatterpolargl"
           }
          ],
          "scatterternary": [
           {
            "marker": {
             "colorbar": {
              "outlinewidth": 0,
              "ticks": ""
             }
            },
            "type": "scatterternary"
           }
          ],
          "surface": [
           {
            "colorbar": {
             "outlinewidth": 0,
             "ticks": ""
            },
            "colorscale": [
             [
              0,
              "#0d0887"
             ],
             [
              0.1111111111111111,
              "#46039f"
             ],
             [
              0.2222222222222222,
              "#7201a8"
             ],
             [
              0.3333333333333333,
              "#9c179e"
             ],
             [
              0.4444444444444444,
              "#bd3786"
             ],
             [
              0.5555555555555556,
              "#d8576b"
             ],
             [
              0.6666666666666666,
              "#ed7953"
             ],
             [
              0.7777777777777778,
              "#fb9f3a"
             ],
             [
              0.8888888888888888,
              "#fdca26"
             ],
             [
              1,
              "#f0f921"
             ]
            ],
            "type": "surface"
           }
          ],
          "table": [
           {
            "cells": {
             "fill": {
              "color": "#EBF0F8"
             },
             "line": {
              "color": "white"
             }
            },
            "header": {
             "fill": {
              "color": "#C8D4E3"
             },
             "line": {
              "color": "white"
             }
            },
            "type": "table"
           }
          ]
         },
         "layout": {
          "annotationdefaults": {
           "arrowcolor": "#2a3f5f",
           "arrowhead": 0,
           "arrowwidth": 1
          },
          "coloraxis": {
           "colorbar": {
            "outlinewidth": 0,
            "ticks": ""
           }
          },
          "colorscale": {
           "diverging": [
            [
             0,
             "#8e0152"
            ],
            [
             0.1,
             "#c51b7d"
            ],
            [
             0.2,
             "#de77ae"
            ],
            [
             0.3,
             "#f1b6da"
            ],
            [
             0.4,
             "#fde0ef"
            ],
            [
             0.5,
             "#f7f7f7"
            ],
            [
             0.6,
             "#e6f5d0"
            ],
            [
             0.7,
             "#b8e186"
            ],
            [
             0.8,
             "#7fbc41"
            ],
            [
             0.9,
             "#4d9221"
            ],
            [
             1,
             "#276419"
            ]
           ],
           "sequential": [
            [
             0,
             "#0d0887"
            ],
            [
             0.1111111111111111,
             "#46039f"
            ],
            [
             0.2222222222222222,
             "#7201a8"
            ],
            [
             0.3333333333333333,
             "#9c179e"
            ],
            [
             0.4444444444444444,
             "#bd3786"
            ],
            [
             0.5555555555555556,
             "#d8576b"
            ],
            [
             0.6666666666666666,
             "#ed7953"
            ],
            [
             0.7777777777777778,
             "#fb9f3a"
            ],
            [
             0.8888888888888888,
             "#fdca26"
            ],
            [
             1,
             "#f0f921"
            ]
           ],
           "sequentialminus": [
            [
             0,
             "#0d0887"
            ],
            [
             0.1111111111111111,
             "#46039f"
            ],
            [
             0.2222222222222222,
             "#7201a8"
            ],
            [
             0.3333333333333333,
             "#9c179e"
            ],
            [
             0.4444444444444444,
             "#bd3786"
            ],
            [
             0.5555555555555556,
             "#d8576b"
            ],
            [
             0.6666666666666666,
             "#ed7953"
            ],
            [
             0.7777777777777778,
             "#fb9f3a"
            ],
            [
             0.8888888888888888,
             "#fdca26"
            ],
            [
             1,
             "#f0f921"
            ]
           ]
          },
          "colorway": [
           "#636efa",
           "#EF553B",
           "#00cc96",
           "#ab63fa",
           "#FFA15A",
           "#19d3f3",
           "#FF6692",
           "#B6E880",
           "#FF97FF",
           "#FECB52"
          ],
          "font": {
           "color": "#2a3f5f"
          },
          "geo": {
           "bgcolor": "white",
           "lakecolor": "white",
           "landcolor": "#E5ECF6",
           "showlakes": true,
           "showland": true,
           "subunitcolor": "white"
          },
          "hoverlabel": {
           "align": "left"
          },
          "hovermode": "closest",
          "mapbox": {
           "style": "light"
          },
          "paper_bgcolor": "white",
          "plot_bgcolor": "#E5ECF6",
          "polar": {
           "angularaxis": {
            "gridcolor": "white",
            "linecolor": "white",
            "ticks": ""
           },
           "bgcolor": "#E5ECF6",
           "radialaxis": {
            "gridcolor": "white",
            "linecolor": "white",
            "ticks": ""
           }
          },
          "scene": {
           "xaxis": {
            "backgroundcolor": "#E5ECF6",
            "gridcolor": "white",
            "gridwidth": 2,
            "linecolor": "white",
            "showbackground": true,
            "ticks": "",
            "zerolinecolor": "white"
           },
           "yaxis": {
            "backgroundcolor": "#E5ECF6",
            "gridcolor": "white",
            "gridwidth": 2,
            "linecolor": "white",
            "showbackground": true,
            "ticks": "",
            "zerolinecolor": "white"
           },
           "zaxis": {
            "backgroundcolor": "#E5ECF6",
            "gridcolor": "white",
            "gridwidth": 2,
            "linecolor": "white",
            "showbackground": true,
            "ticks": "",
            "zerolinecolor": "white"
           }
          },
          "shapedefaults": {
           "line": {
            "color": "#2a3f5f"
           }
          },
          "ternary": {
           "aaxis": {
            "gridcolor": "white",
            "linecolor": "white",
            "ticks": ""
           },
           "baxis": {
            "gridcolor": "white",
            "linecolor": "white",
            "ticks": ""
           },
           "bgcolor": "#E5ECF6",
           "caxis": {
            "gridcolor": "white",
            "linecolor": "white",
            "ticks": ""
           }
          },
          "title": {
           "x": 0.05
          },
          "xaxis": {
           "automargin": true,
           "gridcolor": "white",
           "linecolor": "white",
           "ticks": "",
           "title": {
            "standoff": 15
           },
           "zerolinecolor": "white",
           "zerolinewidth": 2
          },
          "yaxis": {
           "automargin": true,
           "gridcolor": "white",
           "linecolor": "white",
           "ticks": "",
           "title": {
            "standoff": 15
           },
           "zerolinecolor": "white",
           "zerolinewidth": 2
          }
         }
        },
        "xaxis": {
         "anchor": "y",
         "autorange": true,
         "domain": [
          0,
          1
         ],
         "range": [
          -3.282040100094815,
          51.35297565054063
         ],
         "title": {
          "text": "min_mid"
         },
         "type": "linear"
        },
        "yaxis": {
         "anchor": "x",
         "autorange": true,
         "domain": [
          0,
          1
         ],
         "range": [
          -1.230702271334474,
          14.59885630738449
         ],
         "title": {
          "text": "player"
         },
         "type": "category"
        }
       }
      },
      "image/png": "[encoded data removed]",
      "text/html": [
       "<div>\n",
       "        \n",
       "        \n",
       "            <div id=\"799b3d75-c0f0-4e29-a8f4-31bc6e087b70\" class=\"plotly-graph-div\" style=\"height:525px; width:100%;\"></div>\n",
       "            <script type=\"text/javascript\">\n",
       "                require([\"plotly\"], function(Plotly) {\n",
       "                    window.PLOTLYENV=window.PLOTLYENV || {};\n",
       "                    \n",
       "                if (document.getElementById(\"799b3d75-c0f0-4e29-a8f4-31bc6e087b70\")) {\n",
       "                    Plotly.newPlot(\n",
       "                        '799b3d75-c0f0-4e29-a8f4-31bc6e087b70',\n",
       "                        [{\"hovertemplate\": \"min_mid=%{x}<br>player=%{y}<br>shots_freq=%{marker.size}<br>pl_pps=%{marker.color}<extra></extra>\", \"legendgroup\": \"\", \"marker\": {\"color\": [132.6, 155.6, 88.6, 111.4, 105.3, 57.8, 95.5, 142.0, 100.0, 107.1, 122.7, 103.2, 101.9, 109.0, 132.6, 155.6, 88.6, 111.4, 105.3, 57.8, 95.5, 142.0, 100.0, 107.1, 122.7, 103.2, 101.9, 109.0, 132.6, 155.6, 88.6, 111.4, 105.3, 57.8, 95.5, 142.0, 100.0, 107.1, 122.7, 103.2, 101.9, 109.0, 132.6, 155.6, 88.6, 111.4, 105.3, 57.8, 95.5, 142.0, 100.0, 107.1, 122.7, 103.2, 101.9, 109.0, 132.6, 155.6, 88.6, 111.4, 105.3, 57.8, 95.5, 142.0, 100.0, 107.1, 122.7, 103.2, 101.9, 109.0, 132.6, 155.6, 88.6, 111.4, 105.3, 57.8, 95.5, 142.0, 100.0, 107.1, 122.7, 103.2, 101.9, 109.0, 132.6, 155.6, 88.6, 111.4, 105.3, 57.8, 95.5, 142.0, 100.0, 107.1, 122.7, 103.2, 101.9, 109.0, 132.6, 155.6, 88.6, 111.4, 105.3, 57.8, 95.5, 142.0, 100.0, 107.1, 122.7, 103.2, 101.9, 109.0, 132.6, 155.6, 88.6, 111.4, 105.3, 57.8, 95.5, 142.0, 100.0, 107.1, 122.7, 103.2, 101.9, 109.0, 132.6, 155.6, 88.6, 111.4, 105.3, 57.8, 95.5, 142.0, 100.0, 107.1, 122.7, 103.2, 101.9, 109.0, 132.6, 155.6, 88.6, 111.4, 105.3, 57.8, 95.5, 142.0, 100.0, 107.1, 122.7, 103.2, 101.9, 109.0, 132.6, 155.6, 88.6, 111.4, 105.3, 57.8, 95.5, 142.0, 100.0, 107.1, 122.7, 103.2, 101.9, 109.0, 123.8, 117.7, 131.4, 120.8, 95.1, 81.4, 54.5, 110.9, 102.5, 84.4, 118.4, 118.6, 113.7, 93.7, 123.8, 117.7, 131.4, 120.8, 95.1, 81.4, 54.5, 110.9, 102.5, 84.4, 118.4, 118.6, 113.7, 93.7, 123.8, 117.7, 131.4, 120.8, 95.1, 81.4, 54.5, 110.9, 102.5, 84.4, 118.4, 118.6, 113.7, 93.7, 123.8, 117.7, 131.4, 120.8, 95.1, 81.4, 54.5, 110.9, 102.5, 84.4, 118.4, 118.6, 113.7, 93.7, 123.8, 117.7, 131.4, 120.8, 95.1, 81.4, 54.5, 110.9, 102.5, 84.4, 118.4, 118.6, 113.7, 93.7, 123.8, 117.7, 131.4, 120.8, 95.1, 81.4, 54.5, 110.9, 102.5, 84.4, 118.4, 118.6, 113.7, 93.7, 123.8, 117.7, 131.4, 120.8, 95.1, 81.4, 54.5, 110.9, 102.5, 84.4, 118.4, 118.6, 113.7, 93.7, 123.8, 117.7, 131.4, 120.8, 95.1, 81.4, 54.5, 110.9, 102.5, 84.4, 118.4, 118.6, 113.7, 93.7, 123.8, 117.7, 131.4, 120.8, 95.1, 81.4, 54.5, 110.9, 102.5, 84.4, 118.4, 118.6, 113.7, 93.7, 123.8, 117.7, 131.4, 120.8, 95.1, 81.4, 54.5, 110.9, 102.5, 84.4, 118.4, 118.6, 113.7, 93.7, 123.8, 117.7, 131.4, 120.8, 95.1, 81.4, 54.5, 110.9, 102.5, 84.4, 118.4, 118.6, 113.7, 93.7, 123.8, 117.7, 131.4, 120.8, 95.1, 81.4, 54.5, 110.9, 102.5, 84.4, 118.4, 118.6, 113.7, 93.7, 125.0, 122.8, 140.9, 129.7, 116.7, 91.7, 83.3, 129.3, 98.6, 97.2, 112.0, 90.4, 103.8, 114.5, 125.0, 122.8, 140.9, 129.7, 116.7, 91.7, 83.3, 129.3, 98.6, 97.2, 112.0, 90.4, 103.8, 114.5, 125.0, 122.8, 140.9, 129.7, 116.7, 91.7, 83.3, 129.3, 98.6, 97.2, 112.0, 90.4, 103.8, 114.5, 125.0, 122.8, 140.9, 129.7, 116.7, 91.7, 83.3, 129.3, 98.6, 97.2, 112.0, 90.4, 103.8, 114.5, 125.0, 122.8, 140.9, 129.7, 116.7, 91.7, 83.3, 129.3, 98.6, 97.2, 112.0, 90.4, 103.8, 114.5, 125.0, 122.8, 140.9, 129.7, 116.7, 91.7, 83.3, 129.3, 98.6, 97.2, 112.0, 90.4, 103.8, 114.5, 125.0, 122.8, 140.9, 129.7, 116.7, 91.7, 83.3, 129.3, 98.6, 97.2, 112.0, 90.4, 103.8, 114.5, 125.0, 122.8, 140.9, 129.7, 116.7, 91.7, 83.3, 129.3, 98.6, 97.2, 112.0, 90.4, 103.8, 114.5, 125.0, 122.8, 140.9, 129.7, 116.7, 91.7, 83.3, 129.3, 98.6, 97.2, 112.0, 90.4, 103.8, 114.5, 125.0, 122.8, 140.9, 129.7, 116.7, 91.7, 83.3, 129.3, 98.6, 97.2, 112.0, 90.4, 103.8, 114.5, 125.0, 122.8, 140.9, 129.7, 116.7, 91.7, 83.3, 129.3, 98.6, 97.2, 112.0, 90.4, 103.8, 114.5, 125.0, 122.8, 140.9, 129.7, 116.7, 91.7, 83.3, 129.3, 98.6, 97.2, 112.0, 90.4, 103.8, 114.5, 105.9, 130.8, 110.5, 125.7, 73.7, 117.9, 94.1, 123.1, 98.0, 112.4, 114.3, 126.2, 87.4, 110.6, 105.9, 130.8, 110.5, 125.7, 73.7, 117.9, 94.1, 123.1, 98.0, 112.4, 114.3, 126.2, 87.4, 110.6, 105.9, 130.8, 110.5, 125.7, 73.7, 117.9, 94.1, 123.1, 98.0, 112.4, 114.3, 126.2, 87.4, 110.6, 105.9, 130.8, 110.5, 125.7, 73.7, 117.9, 94.1, 123.1, 98.0, 112.4, 114.3, 126.2, 87.4, 110.6, 105.9, 130.8, 110.5, 125.7, 73.7, 117.9, 94.1, 123.1, 98.0, 112.4, 114.3, 126.2, 87.4, 110.6, 105.9, 130.8, 110.5, 125.7, 73.7, 117.9, 94.1, 123.1, 98.0, 112.4, 114.3, 126.2, 87.4, 110.6, 105.9, 130.8, 110.5, 125.7, 73.7, 117.9, 94.1, 123.1, 98.0, 112.4, 114.3, 126.2, 87.4, 110.6, 105.9, 130.8, 110.5, 125.7, 73.7, 117.9, 94.1, 123.1, 98.0, 112.4, 114.3, 126.2, 87.4, 110.6, 105.9, 130.8, 110.5, 125.7, 73.7, 117.9, 94.1, 123.1, 98.0, 112.4, 114.3, 126.2, 87.4, 110.6, 105.9, 130.8, 110.5, 125.7, 73.7, 117.9, 94.1, 123.1, 98.0, 112.4, 114.3, 126.2, 87.4, 110.6, 105.9, 130.8, 110.5, 125.7, 73.7, 117.9, 94.1, 123.1, 98.0, 112.4, 114.3, 126.2, 87.4, 110.6, 105.9, 130.8, 110.5, 125.7, 73.7, 117.9, 94.1, 123.1, 98.0, 112.4, 114.3, 126.2, 87.4, 110.6], \"coloraxis\": \"coloraxis\", \"size\": [3.7, 3.7, 1.2, 2.5, 0.0, 0.0, 1.2, 8.6, 2.5, 13.6, 19.8, 2.5, 22.2, 18.5, 0.0, 4.8, 2.9, 6.7, 0.0, 0.0, 1.9, 10.5, 2.9, 17.1, 12.4, 1.9, 19.0, 20.0, 3.1, 5.3, 1.5, 3.1, 0.8, 0.0, 2.3, 7.6, 0.8, 12.2, 10.7, 0.8, 19.8, 32.1, 0.9, 0.9, 1.8, 7.3, 0.9, 0.0, 5.5, 5.5, 3.6, 12.7, 17.3, 0.9, 19.1, 23.6, 0.0, 0.9, 1.7, 5.2, 0.9, 0.0, 5.2, 11.3, 0.9, 13.0, 15.7, 7.0, 18.3, 20.0, 5.6, 4.6, 1.9, 4.6, 0.0, 0.0, 4.6, 7.4, 2.8, 14.8, 15.7, 4.6, 19.4, 13.9, 2.8, 4.6, 0.9, 1.9, 0.9, 0.9, 2.8, 4.6, 0.9, 13.9, 16.7, 7.4, 17.6, 24.1, 7.1, 5.1, 2.0, 1.0, 2.0, 2.0, 3.1, 4.1, 2.0, 13.3, 14.3, 5.1, 17.3, 21.4, 1.7, 8.7, 5.2, 0.0, 3.5, 6.1, 3.5, 0.9, 4.3, 7.8, 19.1, 6.1, 12.2, 20.9, 9.5, 8.4, 8.4, 0.0, 6.3, 9.5, 2.1, 0.0, 6.3, 13.7, 8.4, 8.4, 6.3, 11.6, 2.9, 4.9, 8.7, 0.0, 7.8, 12.6, 5.8, 1.9, 7.8, 5.8, 10.7, 8.7, 8.7, 13.6, 4.0, 6.4, 4.8, 0.0, 11.2, 10.4, 2.4, 1.6, 7.2, 8.0, 8.8, 4.8, 16.8, 13.6, 0.0, 2.2, 7.5, 7.5, 9.7, 14.0, 4.3, 2.2, 19.4, 7.5, 3.2, 7.5, 10.8, 4.3, 6.5, 3.7, 7.4, 4.6, 13.0, 6.5, 3.7, 1.9, 10.2, 9.3, 4.6, 13.9, 12.0, 1.9, 6.4, 6.4, 11.0, 1.8, 15.6, 8.3, 1.8, 2.8, 10.1, 13.8, 5.5, 3.7, 10.1, 2.8, 5.3, 5.3, 8.8, 7.1, 3.5, 8.0, 0.9, 3.5, 15.9, 4.4, 6.2, 11.5, 8.8, 10.6, 2.8, 2.8, 6.4, 7.3, 2.8, 6.4, 1.8, 0.0, 19.3, 5.5, 6.4, 9.2, 17.4, 11.0, 3.0, 5.0, 8.9, 5.9, 6.9, 3.0, 4.0, 6.9, 9.9, 6.9, 5.0, 8.9, 13.9, 11.9, 4.0, 10.9, 5.0, 0.0, 5.0, 3.0, 2.0, 7.9, 7.9, 12.9, 5.9, 8.9, 13.9, 11.9, 3.7, 0.9, 0.9, 0.9, 6.5, 2.8, 3.7, 9.3, 3.7, 12.0, 15.7, 7.4, 13.9, 17.6, 2.9, 3.9, 1.9, 1.9, 1.9, 0.0, 0.0, 3.9, 3.9, 16.5, 19.4, 7.8, 15.5, 19.4, 0.0, 6.2, 2.7, 1.8, 3.6, 0.9, 2.7, 5.4, 5.4, 8.9, 13.4, 7.1, 17.9, 24.1, 1.9, 6.6, 3.8, 2.8, 2.8, 1.9, 1.9, 2.8, 4.7, 9.4, 14.2, 10.4, 15.1, 21.7, 2.4, 4.1, 1.6, 3.3, 4.9, 1.6, 4.1, 4.9, 4.9, 7.3, 15.4, 8.9, 13.8, 22.8, 1.1, 3.4, 1.1, 3.4, 0.0, 0.0, 1.1, 6.9, 1.1, 16.1, 14.9, 5.7, 25.3, 19.5, 0.9, 4.7, 0.9, 6.5, 0.0, 0.0, 1.9, 14.0, 2.8, 12.1, 14.0, 5.6, 18.7, 17.8, 4.4, 2.6, 1.8, 5.3, 0.0, 0.0, 4.4, 12.3, 2.6, 13.2, 10.5, 2.6, 19.3, 21.1, 2.0, 4.0, 1.0, 5.0, 0.0, 0.0, 4.0, 9.0, 2.0, 8.0, 12.0, 8.0, 23.0, 22.0, 1.8, 0.9, 3.6, 5.4, 0.9, 0.0, 5.4, 10.7, 2.7, 11.6, 9.8, 6.2, 18.8, 22.3, 1.8, 5.4, 4.5, 5.4, 0.0, 0.0, 4.5, 10.7, 5.4, 8.9, 11.6, 7.1, 14.3, 20.5, 1.8, 1.8, 2.7, 2.7, 0.9, 1.8, 3.6, 5.4, 2.7, 14.3, 17.9, 8.9, 15.2, 20.5, 4.0, 5.0, 4.0, 1.0, 3.0, 5.0, 1.0, 4.0, 6.9, 6.9, 13.9, 14.9, 14.9, 15.8, 5.0, 5.9, 6.9, 0.0, 4.0, 2.0, 5.9, 2.0, 4.0, 11.9, 10.9, 4.0, 14.9, 21.8, 1.0, 4.8, 1.9, 0.0, 3.8, 5.8, 0.0, 1.9, 14.4, 12.5, 12.5, 13.5, 13.5, 14.4, 0.0, 7.3, 0.9, 0.0, 11.0, 6.4, 4.6, 0.0, 9.2, 11.0, 14.7, 10.1, 12.8, 11.9, 5.7, 7.3, 10.6, 0.0, 8.9, 11.4, 2.4, 0.0, 10.6, 7.3, 6.5, 10.6, 11.4, 7.3, 2.3, 3.4, 4.6, 3.4, 4.6, 9.2, 1.1, 5.7, 16.1, 12.6, 2.3, 12.6, 13.8, 8.0, 2.3, 4.5, 9.1, 3.4, 8.0, 8.0, 1.1, 4.5, 11.4, 10.2, 5.7, 8.0, 19.3, 4.5, 1.3, 5.3, 6.6, 1.3, 5.3, 10.5, 1.3, 0.0, 17.1, 9.2, 5.3, 11.8, 15.8, 9.2, 2.2, 2.2, 5.5, 8.8, 5.5, 8.8, 0.0, 2.2, 12.1, 5.5, 5.5, 14.3, 19.8, 7.7, 0.0, 4.7, 0.9, 10.4, 4.7, 6.6, 0.0, 2.8, 12.3, 10.4, 6.6, 12.3, 15.1, 13.2, 2.4, 3.6, 6.0, 3.6, 3.6, 7.1, 3.6, 4.8, 10.7, 2.4, 4.8, 10.7, 21.4, 15.5, 3.8, 0.0, 5.1, 0.0, 1.3, 3.8, 1.3, 6.4, 9.0, 14.1, 9.0, 7.7, 17.9, 20.5, 0.0, 1.3, 2.6, 0.0, 2.6, 2.6, 2.6, 10.4, 9.1, 7.8, 5.2, 11.7, 23.4, 20.8, 2.8, 2.8, 0.0, 2.8, 0.0, 2.8, 4.2, 1.4, 4.2, 9.9, 7.0, 11.3, 21.1, 29.6, 1.6, 1.6, 0.0, 3.1, 1.6, 3.1, 1.6, 4.7, 12.5, 10.9, 6.2, 9.4, 18.8, 25.0, 2.7, 1.4, 1.4, 2.7, 5.5, 1.4, 0.0, 4.1, 1.4, 12.3, 8.2, 12.3, 20.5, 26.0, 0.0, 0.0, 3.8, 0.0, 2.5, 2.5, 5.1, 1.3, 5.1, 5.1, 21.5, 8.9, 19.0, 25.3], \"sizemode\": \"area\", \"sizeref\": 0.08025, \"symbol\": \"circle\"}, \"mode\": \"markers\", \"name\": \"\", \"showlegend\": false, \"type\": \"scatter\", \"x\": [0.5, 0.5, 0.5, 0.5, 0.5, 0.5, 0.5, 0.5, 0.5, 0.5, 0.5, 0.5, 0.5, 0.5, 1.5, 1.5, 1.5, 1.5, 1.5, 1.5, 1.5, 1.5, 1.5, 1.5, 1.5, 1.5, 1.5, 1.5, 2.5, 2.5, 2.5, 2.5, 2.5, 2.5, 2.5, 2.5, 2.5, 2.5, 2.5, 2.5, 2.5, 2.5, 3.5, 3.5, 3.5, 3.5, 3.5, 3.5, 3.5, 3.5, 3.5, 3.5, 3.5, 3.5, 3.5, 3.5, 4.5, 4.5, 4.5, 4.5, 4.5, 4.5, 4.5, 4.5, 4.5, 4.5, 4.5, 4.5, 4.5, 4.5, 5.5, 5.5, 5.5, 5.5, 5.5, 5.5, 5.5, 5.5, 5.5, 5.5, 5.5, 5.5, 5.5, 5.5, 6.5, 6.5, 6.5, 6.5, 6.5, 6.5, 6.5, 6.5, 6.5, 6.5, 6.5, 6.5, 6.5, 6.5, 7.5, 7.5, 7.5, 7.5, 7.5, 7.5, 7.5, 7.5, 7.5, 7.5, 7.5, 7.5, 7.5, 7.5, 8.5, 8.5, 8.5, 8.5, 8.5, 8.5, 8.5, 8.5, 8.5, 8.5, 8.5, 8.5, 8.5, 8.5, 9.5, 9.5, 9.5, 9.5, 9.5, 9.5, 9.5, 9.5, 9.5, 9.5, 9.5, 9.5, 9.5, 9.5, 10.5, 10.5, 10.5, 10.5, 10.5, 10.5, 10.5, 10.5, 10.5, 10.5, 10.5, 10.5, 10.5, 10.5, 11.5, 11.5, 11.5, 11.5, 11.5, 11.5, 11.5, 11.5, 11.5, 11.5, 11.5, 11.5, 11.5, 11.5, 12.5, 12.5, 12.5, 12.5, 12.5, 12.5, 12.5, 12.5, 12.5, 12.5, 12.5, 12.5, 12.5, 12.5, 13.5, 13.5, 13.5, 13.5, 13.5, 13.5, 13.5, 13.5, 13.5, 13.5, 13.5, 13.5, 13.5, 13.5, 14.5, 14.5, 14.5, 14.5, 14.5, 14.5, 14.5, 14.5, 14.5, 14.5, 14.5, 14.5, 14.5, 14.5, 15.5, 15.5, 15.5, 15.5, 15.5, 15.5, 15.5, 15.5, 15.5, 15.5, 15.5, 15.5, 15.5, 15.5, 16.5, 16.5, 16.5, 16.5, 16.5, 16.5, 16.5, 16.5, 16.5, 16.5, 16.5, 16.5, 16.5, 16.5, 17.5, 17.5, 17.5, 17.5, 17.5, 17.5, 17.5, 17.5, 17.5, 17.5, 17.5, 17.5, 17.5, 17.5, 18.5, 18.5, 18.5, 18.5, 18.5, 18.5, 18.5, 18.5, 18.5, 18.5, 18.5, 18.5, 18.5, 18.5, 19.5, 19.5, 19.5, 19.5, 19.5, 19.5, 19.5, 19.5, 19.5, 19.5, 19.5, 19.5, 19.5, 19.5, 20.5, 20.5, 20.5, 20.5, 20.5, 20.5, 20.5, 20.5, 20.5, 20.5, 20.5, 20.5, 20.5, 20.5, 21.5, 21.5, 21.5, 21.5, 21.5, 21.5, 21.5, 21.5, 21.5, 21.5, 21.5, 21.5, 21.5, 21.5, 22.5, 22.5, 22.5, 22.5, 22.5, 22.5, 22.5, 22.5, 22.5, 22.5, 22.5, 22.5, 22.5, 22.5, 23.5, 23.5, 23.5, 23.5, 23.5, 23.5, 23.5, 23.5, 23.5, 23.5, 23.5, 23.5, 23.5, 23.5, 24.5, 24.5, 24.5, 24.5, 24.5, 24.5, 24.5, 24.5, 24.5, 24.5, 24.5, 24.5, 24.5, 24.5, 25.5, 25.5, 25.5, 25.5, 25.5, 25.5, 25.5, 25.5, 25.5, 25.5, 25.5, 25.5, 25.5, 25.5, 26.5, 26.5, 26.5, 26.5, 26.5, 26.5, 26.5, 26.5, 26.5, 26.5, 26.5, 26.5, 26.5, 26.5, 27.5, 27.5, 27.5, 27.5, 27.5, 27.5, 27.5, 27.5, 27.5, 27.5, 27.5, 27.5, 27.5, 27.5, 28.5, 28.5, 28.5, 28.5, 28.5, 28.5, 28.5, 28.5, 28.5, 28.5, 28.5, 28.5, 28.5, 28.5, 29.5, 29.5, 29.5, 29.5, 29.5, 29.5, 29.5, 29.5, 29.5, 29.5, 29.5, 29.5, 29.5, 29.5, 30.5, 30.5, 30.5, 30.5, 30.5, 30.5, 30.5, 30.5, 30.5, 30.5, 30.5, 30.5, 30.5, 30.5, 31.5, 31.5, 31.5, 31.5, 31.5, 31.5, 31.5, 31.5, 31.5, 31.5, 31.5, 31.5, 31.5, 31.5, 32.5, 32.5, 32.5, 32.5, 32.5, 32.5, 32.5, 32.5, 32.5, 32.5, 32.5, 32.5, 32.5, 32.5, 33.5, 33.5, 33.5, 33.5, 33.5, 33.5, 33.5, 33.5, 33.5, 33.5, 33.5, 33.5, 33.5, 33.5, 34.5, 34.5, 34.5, 34.5, 34.5, 34.5, 34.5, 34.5, 34.5, 34.5, 34.5, 34.5, 34.5, 34.5, 35.5, 35.5, 35.5, 35.5, 35.5, 35.5, 35.5, 35.5, 35.5, 35.5, 35.5, 35.5, 35.5, 35.5, 36.5, 36.5, 36.5, 36.5, 36.5, 36.5, 36.5, 36.5, 36.5, 36.5, 36.5, 36.5, 36.5, 36.5, 37.5, 37.5, 37.5, 37.5, 37.5, 37.5, 37.5, 37.5, 37.5, 37.5, 37.5, 37.5, 37.5, 37.5, 38.5, 38.5, 38.5, 38.5, 38.5, 38.5, 38.5, 38.5, 38.5, 38.5, 38.5, 38.5, 38.5, 38.5, 39.5, 39.5, 39.5, 39.5, 39.5, 39.5, 39.5, 39.5, 39.5, 39.5, 39.5, 39.5, 39.5, 39.5, 40.5, 40.5, 40.5, 40.5, 40.5, 40.5, 40.5, 40.5, 40.5, 40.5, 40.5, 40.5, 40.5, 40.5, 41.5, 41.5, 41.5, 41.5, 41.5, 41.5, 41.5, 41.5, 41.5, 41.5, 41.5, 41.5, 41.5, 41.5, 42.5, 42.5, 42.5, 42.5, 42.5, 42.5, 42.5, 42.5, 42.5, 42.5, 42.5, 42.5, 42.5, 42.5, 43.5, 43.5, 43.5, 43.5, 43.5, 43.5, 43.5, 43.5, 43.5, 43.5, 43.5, 43.5, 43.5, 43.5, 44.5, 44.5, 44.5, 44.5, 44.5, 44.5, 44.5, 44.5, 44.5, 44.5, 44.5, 44.5, 44.5, 44.5, 45.5, 45.5, 45.5, 45.5, 45.5, 45.5, 45.5, 45.5, 45.5, 45.5, 45.5, 45.5, 45.5, 45.5, 46.5, 46.5, 46.5, 46.5, 46.5, 46.5, 46.5, 46.5, 46.5, 46.5, 46.5, 46.5, 46.5, 46.5, 47.5, 47.5, 47.5, 47.5, 47.5, 47.5, 47.5, 47.5, 47.5, 47.5, 47.5, 47.5, 47.5, 47.5], \"xaxis\": \"x\", \"y\": [\"Jahlil Okafor\", \"Jaxson Hayes\", \"Nicolo Melli\", \"Zion Williamson\", \"Frank Jackson\", \"Nickeil Alexander-Walker\", \"Kenrich Williams\", \"Derrick Favors\", \"E'Twaun Moore\", \"Lonzo Ball\", \"JJ Redick\", \"Josh Hart\", \"Jrue Holiday\", \"Brandon Ingram\", \"Jahlil Okafor\", \"Jaxson Hayes\", \"Nicolo Melli\", \"Zion Williamson\", \"Frank Jackson\", \"Nickeil Alexander-Walker\", \"Kenrich Williams\", \"Derrick Favors\", \"E'Twaun Moore\", \"Lonzo Ball\", \"JJ Redick\", \"Josh Hart\", \"Jrue Holiday\", \"Brandon Ingram\", \"Jahlil Okafor\", \"Jaxson Hayes\", \"Nicolo Melli\", \"Zion Williamson\", \"Frank Jackson\", \"Nickeil Alexander-Walker\", \"Kenrich Williams\", \"Derrick Favors\", \"E'Twaun Moore\", \"Lonzo Ball\", \"JJ Redick\", \"Josh Hart\", \"Jrue Holiday\", \"Brandon Ingram\", \"Jahlil Okafor\", \"Jaxson Hayes\", \"Nicolo Melli\", \"Zion Williamson\", \"Frank Jackson\", \"Nickeil Alexander-Walker\", \"Kenrich Williams\", \"Derrick Favors\", \"E'Twaun Moore\", \"Lonzo Ball\", \"JJ Redick\", \"Josh Hart\", \"Jrue Holiday\", \"Brandon Ingram\", \"Jahlil Okafor\", \"Jaxson Hayes\", \"Nicolo Melli\", \"Zion Williamson\", \"Frank Jackson\", \"Nickeil Alexander-Walker\", \"Kenrich Williams\", \"Derrick Favors\", \"E'Twaun Moore\", \"Lonzo Ball\", \"JJ Redick\", \"Josh Hart\", \"Jrue Holiday\", \"Brandon Ingram\", \"Jahlil Okafor\", \"Jaxson Hayes\", \"Nicolo Melli\", \"Zion Williamson\", \"Frank Jackson\", \"Nickeil Alexander-Walker\", \"Kenrich Williams\", \"Derrick Favors\", \"E'Twaun Moore\", \"Lonzo Ball\", \"JJ Redick\", \"Josh Hart\", \"Jrue Holiday\", \"Brandon Ingram\", \"Jahlil Okafor\", \"Jaxson Hayes\", \"Nicolo Melli\", \"Zion Williamson\", \"Frank Jackson\", \"Nickeil Alexander-Walker\", \"Kenrich Williams\", \"Derrick Favors\", \"E'Twaun Moore\", \"Lonzo Ball\", \"JJ Redick\", \"Josh Hart\", \"Jrue Holiday\", \"Brandon Ingram\", \"Jahlil Okafor\", \"Jaxson Hayes\", \"Nicolo Melli\", \"Zion Williamson\", \"Frank Jackson\", \"Nickeil Alexander-Walker\", \"Kenrich Williams\", \"Derrick Favors\", \"E'Twaun Moore\", \"Lonzo Ball\", \"JJ Redick\", \"Josh Hart\", \"Jrue Holiday\", \"Brandon Ingram\", \"Jahlil Okafor\", \"Jaxson Hayes\", \"Nicolo Melli\", \"Zion Williamson\", \"Frank Jackson\", \"Nickeil Alexander-Walker\", \"Kenrich Williams\", \"Derrick Favors\", \"E'Twaun Moore\", \"Lonzo Ball\", \"JJ Redick\", \"Josh Hart\", \"Jrue Holiday\", \"Brandon Ingram\", \"Jahlil Okafor\", \"Jaxson Hayes\", \"Nicolo Melli\", \"Zion Williamson\", \"Frank Jackson\", \"Nickeil Alexander-Walker\", \"Kenrich Williams\", \"Derrick Favors\", \"E'Twaun Moore\", \"Lonzo Ball\", \"JJ Redick\", \"Josh Hart\", \"Jrue Holiday\", \"Brandon Ingram\", \"Jahlil Okafor\", \"Jaxson Hayes\", \"Nicolo Melli\", \"Zion Williamson\", \"Frank Jackson\", \"Nickeil Alexander-Walker\", \"Kenrich Williams\", \"Derrick Favors\", \"E'Twaun Moore\", \"Lonzo Ball\", \"JJ Redick\", \"Josh Hart\", \"Jrue Holiday\", \"Brandon Ingram\", \"Jahlil Okafor\", \"Jaxson Hayes\", \"Nicolo Melli\", \"Zion Williamson\", \"Frank Jackson\", \"Nickeil Alexander-Walker\", \"Kenrich Williams\", \"Derrick Favors\", \"E'Twaun Moore\", \"Lonzo Ball\", \"JJ Redick\", \"Josh Hart\", \"Jrue Holiday\", \"Brandon Ingram\", \"Jahlil Okafor\", \"Jaxson Hayes\", \"Nicolo Melli\", \"Zion Williamson\", \"Frank Jackson\", \"Nickeil Alexander-Walker\", \"Kenrich Williams\", \"Derrick Favors\", \"E'Twaun Moore\", \"Lonzo Ball\", \"JJ Redick\", \"Josh Hart\", \"Jrue Holiday\", \"Brandon Ingram\", \"Jahlil Okafor\", \"Jaxson Hayes\", \"Nicolo Melli\", \"Zion Williamson\", \"Frank Jackson\", \"Nickeil Alexander-Walker\", \"Kenrich Williams\", \"Derrick Favors\", \"E'Twaun Moore\", \"Lonzo Ball\", \"JJ Redick\", \"Josh Hart\", \"Jrue Holiday\", \"Brandon Ingram\", \"Jahlil Okafor\", \"Jaxson Hayes\", \"Nicolo Melli\", \"Zion Williamson\", \"Frank Jackson\", \"Nickeil Alexander-Walker\", \"Kenrich Williams\", \"Derrick Favors\", \"E'Twaun Moore\", \"Lonzo Ball\", \"JJ Redick\", \"Josh Hart\", \"Jrue Holiday\", \"Brandon Ingram\", \"Jahlil Okafor\", \"Jaxson Hayes\", \"Nicolo Melli\", \"Zion Williamson\", \"Frank Jackson\", \"Nickeil Alexander-Walker\", \"Kenrich Williams\", \"Derrick Favors\", \"E'Twaun Moore\", \"Lonzo Ball\", \"JJ Redick\", \"Josh Hart\", \"Jrue Holiday\", \"Brandon Ingram\", \"Jahlil Okafor\", \"Jaxson Hayes\", \"Nicolo Melli\", \"Zion Williamson\", \"Frank Jackson\", \"Nickeil Alexander-Walker\", \"Kenrich Williams\", \"Derrick Favors\", \"E'Twaun Moore\", \"Lonzo Ball\", \"JJ Redick\", \"Josh Hart\", \"Jrue Holiday\", \"Brandon Ingram\", \"Jahlil Okafor\", \"Jaxson Hayes\", \"Nicolo Melli\", \"Zion Williamson\", \"Frank Jackson\", \"Nickeil Alexander-Walker\", \"Kenrich Williams\", \"Derrick Favors\", \"E'Twaun Moore\", \"Lonzo Ball\", \"JJ Redick\", \"Josh Hart\", \"Jrue Holiday\", \"Brandon Ingram\", \"Jahlil Okafor\", \"Jaxson Hayes\", \"Nicolo Melli\", \"Zion Williamson\", \"Frank Jackson\", \"Nickeil Alexander-Walker\", \"Kenrich Williams\", \"Derrick Favors\", \"E'Twaun Moore\", \"Lonzo Ball\", \"JJ Redick\", \"Josh Hart\", \"Jrue Holiday\", \"Brandon Ingram\", \"Jahlil Okafor\", \"Jaxson Hayes\", \"Nicolo Melli\", \"Zion Williamson\", \"Frank Jackson\", \"Nickeil Alexander-Walker\", \"Kenrich Williams\", \"Derrick Favors\", \"E'Twaun Moore\", \"Lonzo Ball\", \"JJ Redick\", \"Josh Hart\", \"Jrue Holiday\", \"Brandon Ingram\", \"Jahlil Okafor\", \"Jaxson Hayes\", \"Nicolo Melli\", \"Zion Williamson\", \"Frank Jackson\", \"Nickeil Alexander-Walker\", \"Kenrich Williams\", \"Derrick Favors\", \"E'Twaun Moore\", \"Lonzo Ball\", \"JJ Redick\", \"Josh Hart\", \"Jrue Holiday\", \"Brandon Ingram\", \"Jahlil Okafor\", \"Jaxson Hayes\", \"Nicolo Melli\", \"Zion Williamson\", \"Frank Jackson\", \"Nickeil Alexander-Walker\", \"Kenrich Williams\", \"Derrick Favors\", \"E'Twaun Moore\", \"Lonzo Ball\", \"JJ Redick\", \"Josh Hart\", \"Jrue Holiday\", \"Brandon Ingram\", \"Jahlil Okafor\", \"Jaxson Hayes\", \"Nicolo Melli\", \"Zion Williamson\", \"Frank Jackson\", \"Nickeil Alexander-Walker\", \"Kenrich Williams\", \"Derrick Favors\", \"E'Twaun Moore\", \"Lonzo Ball\", \"JJ Redick\", \"Josh Hart\", \"Jrue Holiday\", \"Brandon Ingram\", \"Jahlil Okafor\", \"Jaxson Hayes\", \"Nicolo Melli\", \"Zion Williamson\", \"Frank Jackson\", \"Nickeil Alexander-Walker\", \"Kenrich Williams\", \"Derrick Favors\", \"E'Twaun Moore\", \"Lonzo Ball\", \"JJ Redick\", \"Josh Hart\", \"Jrue Holiday\", \"Brandon Ingram\", \"Jahlil Okafor\", \"Jaxson Hayes\", \"Nicolo Melli\", \"Zion Williamson\", \"Frank Jackson\", \"Nickeil Alexander-Walker\", \"Kenrich Williams\", \"Derrick Favors\", \"E'Twaun Moore\", \"Lonzo Ball\", \"JJ Redick\", \"Josh Hart\", \"Jrue Holiday\", \"Brandon Ingram\", \"Jahlil Okafor\", \"Jaxson Hayes\", \"Nicolo Melli\", \"Zion Williamson\", \"Frank Jackson\", \"Nickeil Alexander-Walker\", \"Kenrich Williams\", \"Derrick Favors\", \"E'Twaun Moore\", \"Lonzo Ball\", \"JJ Redick\", \"Josh Hart\", \"Jrue Holiday\", \"Brandon Ingram\", \"Jahlil Okafor\", \"Jaxson Hayes\", \"Nicolo Melli\", \"Zion Williamson\", \"Frank Jackson\", \"Nickeil Alexander-Walker\", \"Kenrich Williams\", \"Derrick Favors\", \"E'Twaun Moore\", \"Lonzo Ball\", \"JJ Redick\", \"Josh Hart\", \"Jrue Holiday\", \"Brandon Ingram\", \"Jahlil Okafor\", \"Jaxson Hayes\", \"Nicolo Melli\", \"Zion Williamson\", \"Frank Jackson\", \"Nickeil Alexander-Walker\", \"Kenrich Williams\", \"Derrick Favors\", \"E'Twaun Moore\", \"Lonzo Ball\", \"JJ Redick\", \"Josh Hart\", \"Jrue Holiday\", \"Brandon Ingram\", \"Jahlil Okafor\", \"Jaxson Hayes\", \"Nicolo Melli\", \"Zion Williamson\", \"Frank Jackson\", \"Nickeil Alexander-Walker\", \"Kenrich Williams\", \"Derrick Favors\", \"E'Twaun Moore\", \"Lonzo Ball\", \"JJ Redick\", \"Josh Hart\", \"Jrue Holiday\", \"Brandon Ingram\", \"Jahlil Okafor\", \"Jaxson Hayes\", \"Nicolo Melli\", \"Zion Williamson\", \"Frank Jackson\", \"Nickeil Alexander-Walker\", \"Kenrich Williams\", \"Derrick Favors\", \"E'Twaun Moore\", \"Lonzo Ball\", \"JJ Redick\", \"Josh Hart\", \"Jrue Holiday\", \"Brandon Ingram\", \"Jahlil Okafor\", \"Jaxson Hayes\", \"Nicolo Melli\", \"Zion Williamson\", \"Frank Jackson\", \"Nickeil Alexander-Walker\", \"Kenrich Williams\", \"Derrick Favors\", \"E'Twaun Moore\", \"Lonzo Ball\", \"JJ Redick\", \"Josh Hart\", \"Jrue Holiday\", \"Brandon Ingram\", \"Jahlil Okafor\", \"Jaxson Hayes\", \"Nicolo Melli\", \"Zion Williamson\", \"Frank Jackson\", \"Nickeil Alexander-Walker\", \"Kenrich Williams\", \"Derrick Favors\", \"E'Twaun Moore\", \"Lonzo Ball\", \"JJ Redick\", \"Josh Hart\", \"Jrue Holiday\", \"Brandon Ingram\", \"Jahlil Okafor\", \"Jaxson Hayes\", \"Nicolo Melli\", \"Zion Williamson\", \"Frank Jackson\", \"Nickeil Alexander-Walker\", \"Kenrich Williams\", \"Derrick Favors\", \"E'Twaun Moore\", \"Lonzo Ball\", \"JJ Redick\", \"Josh Hart\", \"Jrue Holiday\", \"Brandon Ingram\", \"Jahlil Okafor\", \"Jaxson Hayes\", \"Nicolo Melli\", \"Zion Williamson\", \"Frank Jackson\", \"Nickeil Alexander-Walker\", \"Kenrich Williams\", \"Derrick Favors\", \"E'Twaun Moore\", \"Lonzo Ball\", \"JJ Redick\", \"Josh Hart\", \"Jrue Holiday\", \"Brandon Ingram\", \"Jahlil Okafor\", \"Jaxson Hayes\", \"Nicolo Melli\", \"Zion Williamson\", \"Frank Jackson\", \"Nickeil Alexander-Walker\", \"Kenrich Williams\", \"Derrick Favors\", \"E'Twaun Moore\", \"Lonzo Ball\", \"JJ Redick\", \"Josh Hart\", \"Jrue Holiday\", \"Brandon Ingram\", \"Jahlil Okafor\", \"Jaxson Hayes\", \"Nicolo Melli\", \"Zion Williamson\", \"Frank Jackson\", \"Nickeil Alexander-Walker\", \"Kenrich Williams\", \"Derrick Favors\", \"E'Twaun Moore\", \"Lonzo Ball\", \"JJ Redick\", \"Josh Hart\", \"Jrue Holiday\", \"Brandon Ingram\", \"Jahlil Okafor\", \"Jaxson Hayes\", \"Nicolo Melli\", \"Zion Williamson\", \"Frank Jackson\", \"Nickeil Alexander-Walker\", \"Kenrich Williams\", \"Derrick Favors\", \"E'Twaun Moore\", \"Lonzo Ball\", \"JJ Redick\", \"Josh Hart\", \"Jrue Holiday\", \"Brandon Ingram\", \"Jahlil Okafor\", \"Jaxson Hayes\", \"Nicolo Melli\", \"Zion Williamson\", \"Frank Jackson\", \"Nickeil Alexander-Walker\", \"Kenrich Williams\", \"Derrick Favors\", \"E'Twaun Moore\", \"Lonzo Ball\", \"JJ Redick\", \"Josh Hart\", \"Jrue Holiday\", \"Brandon Ingram\", \"Jahlil Okafor\", \"Jaxson Hayes\", \"Nicolo Melli\", \"Zion Williamson\", \"Frank Jackson\", \"Nickeil Alexander-Walker\", \"Kenrich Williams\", \"Derrick Favors\", \"E'Twaun Moore\", \"Lonzo Ball\", \"JJ Redick\", \"Josh Hart\", \"Jrue Holiday\", \"Brandon Ingram\", \"Jahlil Okafor\", \"Jaxson Hayes\", \"Nicolo Melli\", \"Zion Williamson\", \"Frank Jackson\", \"Nickeil Alexander-Walker\", \"Kenrich Williams\", \"Derrick Favors\", \"E'Twaun Moore\", \"Lonzo Ball\", \"JJ Redick\", \"Josh Hart\", \"Jrue Holiday\", \"Brandon Ingram\", \"Jahlil Okafor\", \"Jaxson Hayes\", \"Nicolo Melli\", \"Zion Williamson\", \"Frank Jackson\", \"Nickeil Alexander-Walker\", \"Kenrich Williams\", \"Derrick Favors\", \"E'Twaun Moore\", \"Lonzo Ball\", \"JJ Redick\", \"Josh Hart\", \"Jrue Holiday\", \"Brandon Ingram\", \"Jahlil Okafor\", \"Jaxson Hayes\", \"Nicolo Melli\", \"Zion Williamson\", \"Frank Jackson\", \"Nickeil Alexander-Walker\", \"Kenrich Williams\", \"Derrick Favors\", \"E'Twaun Moore\", \"Lonzo Ball\", \"JJ Redick\", \"Josh Hart\", \"Jrue Holiday\", \"Brandon Ingram\", \"Jahlil Okafor\", \"Jaxson Hayes\", \"Nicolo Melli\", \"Zion Williamson\", \"Frank Jackson\", \"Nickeil Alexander-Walker\", \"Kenrich Williams\", \"Derrick Favors\", \"E'Twaun Moore\", \"Lonzo Ball\", \"JJ Redick\", \"Josh Hart\", \"Jrue Holiday\", \"Brandon Ingram\", \"Jahlil Okafor\", \"Jaxson Hayes\", \"Nicolo Melli\", \"Zion Williamson\", \"Frank Jackson\", \"Nickeil Alexander-Walker\", \"Kenrich Williams\", \"Derrick Favors\", \"E'Twaun Moore\", \"Lonzo Ball\", \"JJ Redick\", \"Josh Hart\", \"Jrue Holiday\", \"Brandon Ingram\", \"Jahlil Okafor\", \"Jaxson Hayes\", \"Nicolo Melli\", \"Zion Williamson\", \"Frank Jackson\", \"Nickeil Alexander-Walker\", \"Kenrich Williams\", \"Derrick Favors\", \"E'Twaun Moore\", \"Lonzo Ball\", \"JJ Redick\", \"Josh Hart\", \"Jrue Holiday\", \"Brandon Ingram\", \"Jahlil Okafor\", \"Jaxson Hayes\", \"Nicolo Melli\", \"Zion Williamson\", \"Frank Jackson\", \"Nickeil Alexander-Walker\", \"Kenrich Williams\", \"Derrick Favors\", \"E'Twaun Moore\", \"Lonzo Ball\", \"JJ Redick\", \"Josh Hart\", \"Jrue Holiday\", \"Brandon Ingram\", \"Jahlil Okafor\", \"Jaxson Hayes\", \"Nicolo Melli\", \"Zion Williamson\", \"Frank Jackson\", \"Nickeil Alexander-Walker\", \"Kenrich Williams\", \"Derrick Favors\", \"E'Twaun Moore\", \"Lonzo Ball\", \"JJ Redick\", \"Josh Hart\", \"Jrue Holiday\", \"Brandon Ingram\", \"Jahlil Okafor\", \"Jaxson Hayes\", \"Nicolo Melli\", \"Zion Williamson\", \"Frank Jackson\", \"Nickeil Alexander-Walker\", \"Kenrich Williams\", \"Derrick Favors\", \"E'Twaun Moore\", \"Lonzo Ball\", \"JJ Redick\", \"Josh Hart\", \"Jrue Holiday\", \"Brandon Ingram\"], \"yaxis\": \"y\"}],\n",
       "                        {\"coloraxis\": {\"colorbar\": {\"title\": {\"text\": \"pl_pps\"}}, \"colorscale\": [[0.0, \"#0d0887\"], [0.1111111111111111, \"#46039f\"], [0.2222222222222222, \"#7201a8\"], [0.3333333333333333, \"#9c179e\"], [0.4444444444444444, \"#bd3786\"], [0.5555555555555556, \"#d8576b\"], [0.6666666666666666, \"#ed7953\"], [0.7777777777777778, \"#fb9f3a\"], [0.8888888888888888, \"#fdca26\"], [1.0, \"#f0f921\"]]}, \"legend\": {\"itemsizing\": \"constant\", \"tracegroupgap\": 0}, \"margin\": {\"t\": 60}, \"template\": {\"data\": {\"bar\": [{\"error_x\": {\"color\": \"#2a3f5f\"}, \"error_y\": {\"color\": \"#2a3f5f\"}, \"marker\": {\"line\": {\"color\": \"#E5ECF6\", \"width\": 0.5}}, \"type\": \"bar\"}], \"barpolar\": [{\"marker\": {\"line\": {\"color\": \"#E5ECF6\", \"width\": 0.5}}, \"type\": \"barpolar\"}], \"carpet\": [{\"aaxis\": {\"endlinecolor\": \"#2a3f5f\", \"gridcolor\": \"white\", \"linecolor\": \"white\", \"minorgridcolor\": \"white\", \"startlinecolor\": \"#2a3f5f\"}, \"baxis\": {\"endlinecolor\": \"#2a3f5f\", \"gridcolor\": \"white\", \"linecolor\": \"white\", \"minorgridcolor\": \"white\", \"startlinecolor\": \"#2a3f5f\"}, \"type\": \"carpet\"}], \"choropleth\": [{\"colorbar\": {\"outlinewidth\": 0, \"ticks\": \"\"}, \"type\": \"choropleth\"}], \"contour\": [{\"colorbar\": {\"outlinewidth\": 0, \"ticks\": \"\"}, \"colorscale\": [[0.0, \"#0d0887\"], [0.1111111111111111, \"#46039f\"], [0.2222222222222222, \"#7201a8\"], [0.3333333333333333, \"#9c179e\"], [0.4444444444444444, \"#bd3786\"], [0.5555555555555556, \"#d8576b\"], [0.6666666666666666, \"#ed7953\"], [0.7777777777777778, \"#fb9f3a\"], [0.8888888888888888, \"#fdca26\"], [1.0, \"#f0f921\"]], \"type\": \"contour\"}], \"contourcarpet\": [{\"colorbar\": {\"outlinewidth\": 0, \"ticks\": \"\"}, \"type\": \"contourcarpet\"}], \"heatmap\": [{\"colorbar\": {\"outlinewidth\": 0, \"ticks\": \"\"}, \"colorscale\": [[0.0, \"#0d0887\"], [0.1111111111111111, \"#46039f\"], [0.2222222222222222, \"#7201a8\"], [0.3333333333333333, \"#9c179e\"], [0.4444444444444444, \"#bd3786\"], [0.5555555555555556, \"#d8576b\"], [0.6666666666666666, \"#ed7953\"], [0.7777777777777778, \"#fb9f3a\"], [0.8888888888888888, \"#fdca26\"], [1.0, \"#f0f921\"]], \"type\": \"heatmap\"}], \"heatmapgl\": [{\"colorbar\": {\"outlinewidth\": 0, \"ticks\": \"\"}, \"colorscale\": [[0.0, \"#0d0887\"], [0.1111111111111111, \"#46039f\"], [0.2222222222222222, \"#7201a8\"], [0.3333333333333333, \"#9c179e\"], [0.4444444444444444, \"#bd3786\"], [0.5555555555555556, \"#d8576b\"], [0.6666666666666666, \"#ed7953\"], [0.7777777777777778, \"#fb9f3a\"], [0.8888888888888888, \"#fdca26\"], [1.0, \"#f0f921\"]], \"type\": \"heatmapgl\"}], \"histogram\": [{\"marker\": {\"colorbar\": {\"outlinewidth\": 0, \"ticks\": \"\"}}, \"type\": \"histogram\"}], \"histogram2d\": [{\"colorbar\": {\"outlinewidth\": 0, \"ticks\": \"\"}, \"colorscale\": [[0.0, \"#0d0887\"], [0.1111111111111111, \"#46039f\"], [0.2222222222222222, \"#7201a8\"], [0.3333333333333333, \"#9c179e\"], [0.4444444444444444, \"#bd3786\"], [0.5555555555555556, \"#d8576b\"], [0.6666666666666666, \"#ed7953\"], [0.7777777777777778, \"#fb9f3a\"], [0.8888888888888888, \"#fdca26\"], [1.0, \"#f0f921\"]], \"type\": \"histogram2d\"}], \"histogram2dcontour\": [{\"colorbar\": {\"outlinewidth\": 0, \"ticks\": \"\"}, \"colorscale\": [[0.0, \"#0d0887\"], [0.1111111111111111, \"#46039f\"], [0.2222222222222222, \"#7201a8\"], [0.3333333333333333, \"#9c179e\"], [0.4444444444444444, \"#bd3786\"], [0.5555555555555556, \"#d8576b\"], [0.6666666666666666, \"#ed7953\"], [0.7777777777777778, \"#fb9f3a\"], [0.8888888888888888, \"#fdca26\"], [1.0, \"#f0f921\"]], \"type\": \"histogram2dcontour\"}], \"mesh3d\": [{\"colorbar\": {\"outlinewidth\": 0, \"ticks\": \"\"}, \"type\": \"mesh3d\"}], \"parcoords\": [{\"line\": {\"colorbar\": {\"outlinewidth\": 0, \"ticks\": \"\"}}, \"type\": \"parcoords\"}], \"pie\": [{\"automargin\": true, \"type\": \"pie\"}], \"scatter\": [{\"marker\": {\"colorbar\": {\"outlinewidth\": 0, \"ticks\": \"\"}}, \"type\": \"scatter\"}], \"scatter3d\": [{\"line\": {\"colorbar\": {\"outlinewidth\": 0, \"ticks\": \"\"}}, \"marker\": {\"colorbar\": {\"outlinewidth\": 0, \"ticks\": \"\"}}, \"type\": \"scatter3d\"}], \"scattercarpet\": [{\"marker\": {\"colorbar\": {\"outlinewidth\": 0, \"ticks\": \"\"}}, \"type\": \"scattercarpet\"}], \"scattergeo\": [{\"marker\": {\"colorbar\": {\"outlinewidth\": 0, \"ticks\": \"\"}}, \"type\": \"scattergeo\"}], \"scattergl\": [{\"marker\": {\"colorbar\": {\"outlinewidth\": 0, \"ticks\": \"\"}}, \"type\": \"scattergl\"}], \"scattermapbox\": [{\"marker\": {\"colorbar\": {\"outlinewidth\": 0, \"ticks\": \"\"}}, \"type\": \"scattermapbox\"}], \"scatterpolar\": [{\"marker\": {\"colorbar\": {\"outlinewidth\": 0, \"ticks\": \"\"}}, \"type\": \"scatterpolar\"}], \"scatterpolargl\": [{\"marker\": {\"colorbar\": {\"outlinewidth\": 0, \"ticks\": \"\"}}, \"type\": \"scatterpolargl\"}], \"scatterternary\": [{\"marker\": {\"colorbar\": {\"outlinewidth\": 0, \"ticks\": \"\"}}, \"type\": \"scatterternary\"}], \"surface\": [{\"colorbar\": {\"outlinewidth\": 0, \"ticks\": \"\"}, \"colorscale\": [[0.0, \"#0d0887\"], [0.1111111111111111, \"#46039f\"], [0.2222222222222222, \"#7201a8\"], [0.3333333333333333, \"#9c179e\"], [0.4444444444444444, \"#bd3786\"], [0.5555555555555556, \"#d8576b\"], [0.6666666666666666, \"#ed7953\"], [0.7777777777777778, \"#fb9f3a\"], [0.8888888888888888, \"#fdca26\"], [1.0, \"#f0f921\"]], \"type\": \"surface\"}], \"table\": [{\"cells\": {\"fill\": {\"color\": \"#EBF0F8\"}, \"line\": {\"color\": \"white\"}}, \"header\": {\"fill\": {\"color\": \"#C8D4E3\"}, \"line\": {\"color\": \"white\"}}, \"type\": \"table\"}]}, \"layout\": {\"annotationdefaults\": {\"arrowcolor\": \"#2a3f5f\", \"arrowhead\": 0, \"arrowwidth\": 1}, \"coloraxis\": {\"colorbar\": {\"outlinewidth\": 0, \"ticks\": \"\"}}, \"colorscale\": {\"diverging\": [[0, \"#8e0152\"], [0.1, \"#c51b7d\"], [0.2, \"#de77ae\"], [0.3, \"#f1b6da\"], [0.4, \"#fde0ef\"], [0.5, \"#f7f7f7\"], [0.6, \"#e6f5d0\"], [0.7, \"#b8e186\"], [0.8, \"#7fbc41\"], [0.9, \"#4d9221\"], [1, \"#276419\"]], \"sequential\": [[0.0, \"#0d0887\"], [0.1111111111111111, \"#46039f\"], [0.2222222222222222, \"#7201a8\"], [0.3333333333333333, \"#9c179e\"], [0.4444444444444444, \"#bd3786\"], [0.5555555555555556, \"#d8576b\"], [0.6666666666666666, \"#ed7953\"], [0.7777777777777778, \"#fb9f3a\"], [0.8888888888888888, \"#fdca26\"], [1.0, \"#f0f921\"]], \"sequentialminus\": [[0.0, \"#0d0887\"], [0.1111111111111111, \"#46039f\"], [0.2222222222222222, \"#7201a8\"], [0.3333333333333333, \"#9c179e\"], [0.4444444444444444, \"#bd3786\"], [0.5555555555555556, \"#d8576b\"], [0.6666666666666666, \"#ed7953\"], [0.7777777777777778, \"#fb9f3a\"], [0.8888888888888888, \"#fdca26\"], [1.0, \"#f0f921\"]]}, \"colorway\": [\"#636efa\", \"#EF553B\", \"#00cc96\", \"#ab63fa\", \"#FFA15A\", \"#19d3f3\", \"#FF6692\", \"#B6E880\", \"#FF97FF\", \"#FECB52\"], \"font\": {\"color\": \"#2a3f5f\"}, \"geo\": {\"bgcolor\": \"white\", \"lakecolor\": \"white\", \"landcolor\": \"#E5ECF6\", \"showlakes\": true, \"showland\": true, \"subunitcolor\": \"white\"}, \"hoverlabel\": {\"align\": \"left\"}, \"hovermode\": \"closest\", \"mapbox\": {\"style\": \"light\"}, \"paper_bgcolor\": \"white\", \"plot_bgcolor\": \"#E5ECF6\", \"polar\": {\"angularaxis\": {\"gridcolor\": \"white\", \"linecolor\": \"white\", \"ticks\": \"\"}, \"bgcolor\": \"#E5ECF6\", \"radialaxis\": {\"gridcolor\": \"white\", \"linecolor\": \"white\", \"ticks\": \"\"}}, \"scene\": {\"xaxis\": {\"backgroundcolor\": \"#E5ECF6\", \"gridcolor\": \"white\", \"gridwidth\": 2, \"linecolor\": \"white\", \"showbackground\": true, \"ticks\": \"\", \"zerolinecolor\": \"white\"}, \"yaxis\": {\"backgroundcolor\": \"#E5ECF6\", \"gridcolor\": \"white\", \"gridwidth\": 2, \"linecolor\": \"white\", \"showbackground\": true, \"ticks\": \"\", \"zerolinecolor\": \"white\"}, \"zaxis\": {\"backgroundcolor\": \"#E5ECF6\", \"gridcolor\": \"white\", \"gridwidth\": 2, \"linecolor\": \"white\", \"showbackground\": true, \"ticks\": \"\", \"zerolinecolor\": \"white\"}}, \"shapedefaults\": {\"line\": {\"color\": \"#2a3f5f\"}}, \"ternary\": {\"aaxis\": {\"gridcolor\": \"white\", \"linecolor\": \"white\", \"ticks\": \"\"}, \"baxis\": {\"gridcolor\": \"white\", \"linecolor\": \"white\", \"ticks\": \"\"}, \"bgcolor\": \"#E5ECF6\", \"caxis\": {\"gridcolor\": \"white\", \"linecolor\": \"white\", \"ticks\": \"\"}}, \"title\": {\"x\": 0.05}, \"xaxis\": {\"automargin\": true, \"gridcolor\": \"white\", \"linecolor\": \"white\", \"ticks\": \"\", \"title\": {\"standoff\": 15}, \"zerolinecolor\": \"white\", \"zerolinewidth\": 2}, \"yaxis\": {\"automargin\": true, \"gridcolor\": \"white\", \"linecolor\": \"white\", \"ticks\": \"\", \"title\": {\"standoff\": 15}, \"zerolinecolor\": \"white\", \"zerolinewidth\": 2}}}, \"xaxis\": {\"anchor\": \"y\", \"domain\": [0.0, 1.0], \"title\": {\"text\": \"min_mid\"}}, \"yaxis\": {\"anchor\": \"x\", \"domain\": [0.0, 1.0], \"title\": {\"text\": \"player\"}}},\n",
       "                        {\"responsive\": true}\n",
       "                    ).then(function(){\n",
       "                            \n",
       "var gd = document.getElementById('799b3d75-c0f0-4e29-a8f4-31bc6e087b70');\n",
       "var x = new MutationObserver(function (mutations, observer) {{\n",
       "        var display = window.getComputedStyle(gd).display;\n",
       "        if (!display || display === 'none') {{\n",
       "            console.log([gd, 'removed!']);\n",
       "            Plotly.purge(gd);\n",
       "            observer.disconnect();\n",
       "        }}\n",
       "}});\n",
       "\n",
       "// Listen for the removal of the full notebook cells\n",
       "var notebookContainer = gd.closest('#notebook-container');\n",
       "if (notebookContainer) {{\n",
       "    x.observe(notebookContainer, {childList: true});\n",
       "}}\n",
       "\n",
       "// Listen for the clearing of the current output cell\n",
       "var outputEl = gd.closest('.output');\n",
       "if (outputEl) {{\n",
       "    x.observe(outputEl, {childList: true});\n",
       "}}\n",
       "\n",
       "                        })\n",
       "                };\n",
       "                });\n",
       "            </script>\n",
       "        </div>"
      ]
     },
     "metadata": {},
     "output_type": "display_data"
    }
   ],
   "source": [
    "# EXPRESS PLOT\n",
    "fig = px.scatter(all_teams_df[all_teams_df.group == 'NOP'], x='min_mid', y='player', size='shots_freq', color='pl_pps')\n",
    "fig.show()"
   ]
  },
  {
   "cell_type": "code",
   "execution_count": 12,
   "metadata": {},
   "outputs": [],
   "source": [
    "# CUSTOM EXPRESS PLOT\n",
    "def clean_chart_format(fig):\n",
    "    import plotly.graph_objects as go\n",
    "    fig.update_layout(\n",
    "        paper_bgcolor=\"white\",\n",
    "        plot_bgcolor=\"white\",\n",
    "        annotations=[\n",
    "            go.layout.Annotation(\n",
    "                x=0.9,\n",
    "                y=1.02,\n",
    "                showarrow=False,\n",
    "                text=\"Twitter: @_jphwang\",\n",
    "                xref=\"paper\",\n",
    "                yref=\"paper\",\n",
    "                textangle=0\n",
    "            ),\n",
    "        ],\n",
    "        font=dict(\n",
    "            family=\"Arial, Tahoma, Helvetica\",\n",
    "            size=10,\n",
    "            color=\"#404040\"\n",
    "        ),\n",
    "        margin=dict(\n",
    "            t=20\n",
    "        )\n",
    "    )\n",
    "    fig.update_traces(marker=dict(line=dict(width=1, color='Navy')),\n",
    "                      selector=dict(mode='markers'))\n",
    "    fig.update_coloraxes(\n",
    "        colorbar=dict(\n",
    "            thicknessmode=\"pixels\", thickness=15,\n",
    "            outlinewidth=1,\n",
    "            outlinecolor='#909090',\n",
    "            lenmode=\"pixels\", len=300,\n",
    "            yanchor=\"top\",\n",
    "            y=1,\n",
    "        ))\n",
    "    fig.update_yaxes(showgrid=True, gridwidth=1, tickson='boundaries', gridcolor='LightGray', fixedrange=True)\n",
    "    fig.update_xaxes(showgrid=True, gridwidth=1, gridcolor='LightGray', fixedrange=True)\n",
    "    return True\n",
    "\n",
    "\n",
    "def make_shot_dist_chart(input_df, color_continuous_scale=None, size_col='shots_count', col_col='pl_acc', range_color=None):\n",
    "\n",
    "    max_bubble_size = 15\n",
    "    if color_continuous_scale is None:\n",
    "        color_continuous_scale = px.colors.diverging.RdYlBu_r\n",
    "    if range_color is None:\n",
    "        range_color = [min(input_df[col_col]), max(input_df[col_col])]\n",
    "\n",
    "    fig = px.scatter(\n",
    "        input_df, x='min_mid', y='player', size=size_col,\n",
    "        color=col_col,\n",
    "        color_continuous_scale=color_continuous_scale,\n",
    "        range_color=range_color,\n",
    "        range_x=[0, 49],\n",
    "        range_y=[-1, len(input_df.player.unique())],\n",
    "        hover_name='player', hover_data=['min_start', 'min_end', 'shots_count', 'shots_made', 'shots_freq', 'shots_acc', ],\n",
    "        render_mode='svg'\n",
    "    )\n",
    "    fig.update_coloraxes(colorbar=dict(title='Points per<BR>100 shots'))\n",
    "    fig.update_traces(marker=dict(sizeref=2. * 30 / (max_bubble_size ** 2)))\n",
    "    fig.update_yaxes(title=\"Player\")\n",
    "    fig.update_xaxes(title='Minute', tickvals=list(range(0, 54, 6)))\n",
    "\n",
    "    return fig"
   ]
  },
  {
   "cell_type": "code",
   "execution_count": 13,
   "metadata": {},
   "outputs": [
    {
     "data": {
      "application/vnd.plotly.v1+json": {
       "config": {
        "plotlyServerURL": "https://plot.ly"
       },
       "data": [
        {
         "customdata": [
          [
           1,
           1,
           1,
           1,
           1.2,
           100
          ],
          [
           1,
           1,
           0,
           0,
           0,
           0
          ],
          [
           1,
           1,
           6,
           1,
           7.3,
           16.7
          ],
          [
           1,
           1,
           0,
           0,
           0,
           0
          ],
          [
           1,
           1,
           10,
           5,
           12.2,
           50
          ],
          [
           1,
           1,
           0,
           0,
           0,
           0
          ],
          [
           1,
           1,
           2,
           0,
           2.4,
           0
          ],
          [
           1,
           1,
           0,
           0,
           0,
           0
          ],
          [
           1,
           1,
           2,
           2,
           2.4,
           100
          ],
          [
           1,
           1,
           23,
           10,
           28,
           43.5
          ],
          [
           1,
           1,
           25,
           10,
           30.5,
           40
          ],
          [
           1,
           1,
           13,
           5,
           15.9,
           38.5
          ],
          [
           2,
           2,
           2,
           1,
           1.9,
           50
          ],
          [
           2,
           2,
           0,
           0,
           0,
           0
          ],
          [
           2,
           2,
           18,
           9,
           17.3,
           50
          ],
          [
           2,
           2,
           0,
           0,
           0,
           0
          ],
          [
           2,
           2,
           11,
           4,
           10.6,
           36.4
          ],
          [
           2,
           2,
           0,
           0,
           0,
           0
          ],
          [
           2,
           2,
           1,
           0,
           1,
           0
          ],
          [
           2,
           2,
           0,
           0,
           0,
           0
          ],
          [
           2,
           2,
           2,
           1,
           1.9,
           50
          ],
          [
           2,
           2,
           18,
           8,
           17.3,
           44.4
          ],
          [
           2,
           2,
           28,
           7,
           26.9,
           25
          ],
          [
           2,
           2,
           24,
           15,
           23.1,
           62.5
          ],
          [
           3,
           3,
           2,
           1,
           2,
           50
          ],
          [
           3,
           3,
           0,
           0,
           0,
           0
          ],
          [
           3,
           3,
           14,
           6,
           13.9,
           42.9
          ],
          [
           3,
           3,
           1,
           0,
           1,
           0
          ],
          [
           3,
           3,
           13,
           7,
           12.9,
           53.8
          ],
          [
           3,
           3,
           0,
           0,
           0,
           0
          ],
          [
           3,
           3,
           0,
           0,
           0,
           0
          ],
          [
           3,
           3,
           0,
           0,
           0,
           0
          ],
          [
           3,
           3,
           1,
           1,
           1,
           100
          ],
          [
           3,
           3,
           21,
           5,
           20.8,
           23.8
          ],
          [
           3,
           3,
           29,
           16,
           28.7,
           55.2
          ],
          [
           3,
           3,
           20,
           10,
           19.8,
           50
          ],
          [
           4,
           4,
           3,
           2,
           2.5,
           66.7
          ],
          [
           4,
           4,
           0,
           0,
           0,
           0
          ],
          [
           4,
           4,
           18,
           7,
           15.1,
           38.9
          ],
          [
           4,
           4,
           3,
           0,
           2.5,
           0
          ],
          [
           4,
           4,
           17,
           8,
           14.3,
           47.1
          ],
          [
           4,
           4,
           0,
           0,
           0,
           0
          ],
          [
           4,
           4,
           6,
           3,
           5,
           50
          ],
          [
           4,
           4,
           0,
           0,
           0,
           0
          ],
          [
           4,
           4,
           5,
           2,
           4.2,
           40
          ],
          [
           4,
           4,
           20,
           5,
           16.8,
           25
          ],
          [
           4,
           4,
           28,
           13,
           23.5,
           46.4
          ],
          [
           4,
           4,
           19,
           9,
           16,
           47.4
          ],
          [
           5,
           5,
           2,
           1,
           2.1,
           50
          ],
          [
           5,
           5,
           0,
           0,
           0,
           0
          ],
          [
           5,
           5,
           11,
           5,
           11.7,
           45.5
          ],
          [
           5,
           5,
           3,
           1,
           3.2,
           33.3
          ],
          [
           5,
           5,
           10,
           7,
           10.6,
           70
          ],
          [
           5,
           5,
           0,
           0,
           0,
           0
          ],
          [
           5,
           5,
           2,
           1,
           2.1,
           50
          ],
          [
           5,
           5,
           1,
           1,
           1.1,
           100
          ],
          [
           5,
           5,
           5,
           2,
           5.3,
           40
          ],
          [
           5,
           5,
           19,
           8,
           20.2,
           42.1
          ],
          [
           5,
           5,
           26,
           14,
           27.7,
           53.8
          ],
          [
           5,
           5,
           15,
           5,
           16,
           33.3
          ],
          [
           6,
           6,
           2,
           1,
           2.1,
           50
          ],
          [
           6,
           6,
           0,
           0,
           0,
           0
          ],
          [
           6,
           6,
           7,
           5,
           7.4,
           71.4
          ],
          [
           6,
           6,
           1,
           1,
           1.1,
           100
          ],
          [
           6,
           6,
           17,
           9,
           17.9,
           52.9
          ],
          [
           6,
           6,
           1,
           0,
           1.1,
           0
          ],
          [
           6,
           6,
           3,
           2,
           3.2,
           66.7
          ],
          [
           6,
           6,
           5,
           3,
           5.3,
           60
          ],
          [
           6,
           6,
           4,
           1,
           4.2,
           25
          ],
          [
           6,
           6,
           9,
           4,
           9.5,
           44.4
          ],
          [
           6,
           6,
           27,
           13,
           28.4,
           48.1
          ],
          [
           6,
           6,
           19,
           10,
           20,
           52.6
          ],
          [
           7,
           7,
           3,
           2,
           2.8,
           66.7
          ],
          [
           7,
           7,
           0,
           0,
           0,
           0
          ],
          [
           7,
           7,
           10,
           3,
           9.3,
           30
          ],
          [
           7,
           7,
           0,
           0,
           0,
           0
          ],
          [
           7,
           7,
           16,
           10,
           14.8,
           62.5
          ],
          [
           7,
           7,
           3,
           2,
           2.8,
           66.7
          ],
          [
           7,
           7,
           7,
           1,
           6.5,
           14.3
          ],
          [
           7,
           7,
           7,
           3,
           6.5,
           42.9
          ],
          [
           7,
           7,
           4,
           1,
           3.7,
           25
          ],
          [
           7,
           7,
           15,
           8,
           13.9,
           53.3
          ],
          [
           7,
           7,
           21,
           8,
           19.4,
           38.1
          ],
          [
           7,
           7,
           22,
           13,
           20.4,
           59.1
          ],
          [
           8,
           8,
           0,
           0,
           0,
           0
          ],
          [
           8,
           8,
           0,
           0,
           0,
           0
          ],
          [
           8,
           8,
           9,
           4,
           9.5,
           44.4
          ],
          [
           8,
           8,
           2,
           0,
           2.1,
           0
          ],
          [
           8,
           8,
           3,
           2,
           3.2,
           66.7
          ],
          [
           8,
           8,
           2,
           0,
           2.1,
           0
          ],
          [
           8,
           8,
           9,
           5,
           9.5,
           55.6
          ],
          [
           8,
           8,
           12,
           2,
           12.6,
           16.7
          ],
          [
           8,
           8,
           8,
           7,
           8.4,
           87.5
          ],
          [
           8,
           8,
           6,
           3,
           6.3,
           50
          ],
          [
           8,
           8,
           18,
           12,
           18.9,
           66.7
          ],
          [
           8,
           8,
           26,
           15,
           27.4,
           57.7
          ],
          [
           9,
           9,
           6,
           4,
           6.2,
           66.7
          ],
          [
           9,
           9,
           2,
           2,
           2.1,
           100
          ],
          [
           9,
           9,
           3,
           1,
           3.1,
           33.3
          ],
          [
           9,
           9,
           1,
           0,
           1,
           0
          ],
          [
           9,
           9,
           3,
           2,
           3.1,
           66.7
          ],
          [
           9,
           9,
           3,
           1,
           3.1,
           33.3
          ],
          [
           9,
           9,
           21,
           8,
           21.6,
           38.1
          ],
          [
           9,
           9,
           17,
           10,
           17.5,
           58.8
          ],
          [
           9,
           9,
           15,
           6,
           15.5,
           40
          ],
          [
           9,
           9,
           1,
           0,
           1,
           0
          ],
          [
           9,
           9,
           11,
           3,
           11.3,
           27.3
          ],
          [
           9,
           9,
           14,
           9,
           14.4,
           64.3
          ],
          [
           10,
           10,
           7,
           4,
           6.1,
           57.1
          ],
          [
           10,
           10,
           0,
           0,
           0,
           0
          ],
          [
           10,
           10,
           3,
           1,
           2.6,
           33.3
          ],
          [
           10,
           10,
           6,
           1,
           5.3,
           16.7
          ],
          [
           10,
           10,
           4,
           2,
           3.5,
           50
          ],
          [
           10,
           10,
           8,
           1,
           7,
           12.5
          ],
          [
           10,
           10,
           21,
           10,
           18.4,
           47.6
          ],
          [
           10,
           10,
           27,
           13,
           23.7,
           48.1
          ],
          [
           10,
           10,
           11,
           5,
           9.6,
           45.5
          ],
          [
           10,
           10,
           0,
           0,
           0,
           0
          ],
          [
           10,
           10,
           18,
           8,
           15.8,
           44.4
          ],
          [
           10,
           10,
           9,
           6,
           7.9,
           66.7
          ],
          [
           11,
           11,
           6,
           6,
           6.1,
           100
          ],
          [
           11,
           11,
           3,
           2,
           3,
           66.7
          ],
          [
           11,
           11,
           1,
           1,
           1,
           100
          ],
          [
           11,
           11,
           7,
           3,
           7.1,
           42.9
          ],
          [
           11,
           11,
           7,
           3,
           7.1,
           42.9
          ],
          [
           11,
           11,
           9,
           4,
           9.1,
           44.4
          ],
          [
           11,
           11,
           10,
           6,
           10.1,
           60
          ],
          [
           11,
           11,
           28,
           15,
           28.3,
           53.6
          ],
          [
           11,
           11,
           10,
           6,
           10.1,
           60
          ],
          [
           11,
           11,
           1,
           0,
           1,
           0
          ],
          [
           11,
           11,
           11,
           7,
           11.1,
           63.6
          ],
          [
           11,
           11,
           6,
           4,
           6.1,
           66.7
          ],
          [
           12,
           12,
           14,
           10,
           11.7,
           71.4
          ],
          [
           12,
           12,
           1,
           0,
           0.8,
           0
          ],
          [
           12,
           12,
           6,
           1,
           5,
           16.7
          ],
          [
           12,
           12,
           8,
           4,
           6.7,
           50
          ],
          [
           12,
           12,
           7,
           1,
           5.8,
           14.3
          ],
          [
           12,
           12,
           13,
           4,
           10.8,
           30.8
          ],
          [
           12,
           12,
           14,
           5,
           11.7,
           35.7
          ],
          [
           12,
           12,
           24,
           9,
           20,
           37.5
          ],
          [
           12,
           12,
           26,
           8,
           21.7,
           30.8
          ],
          [
           12,
           12,
           0,
           0,
           0,
           0
          ],
          [
           12,
           12,
           7,
           4,
           5.8,
           57.1
          ],
          [
           12,
           12,
           0,
           0,
           0,
           0
          ],
          [
           13,
           13,
           8,
           5,
           9.3,
           62.5
          ],
          [
           13,
           13,
           1,
           0,
           1.2,
           0
          ],
          [
           13,
           13,
           1,
           1,
           1.2,
           100
          ],
          [
           13,
           13,
           3,
           1,
           3.5,
           33.3
          ],
          [
           13,
           13,
           6,
           4,
           7,
           66.7
          ],
          [
           13,
           13,
           10,
           5,
           11.6,
           50
          ],
          [
           13,
           13,
           23,
           11,
           26.7,
           47.8
          ],
          [
           13,
           13,
           21,
           9,
           24.4,
           42.9
          ],
          [
           13,
           13,
           9,
           5,
           10.5,
           55.6
          ],
          [
           13,
           13,
           1,
           0,
           1.2,
           0
          ],
          [
           13,
           13,
           1,
           0,
           1.2,
           0
          ],
          [
           13,
           13,
           2,
           1,
           2.3,
           50
          ],
          [
           14,
           14,
           13,
           7,
           12.1,
           53.8
          ],
          [
           14,
           14,
           2,
           1,
           1.9,
           50
          ],
          [
           14,
           14,
           0,
           0,
           0,
           0
          ],
          [
           14,
           14,
           9,
           4,
           8.4,
           44.4
          ],
          [
           14,
           14,
           9,
           4,
           8.4,
           44.4
          ],
          [
           14,
           14,
           10,
           2,
           9.3,
           20
          ],
          [
           14,
           14,
           20,
           11,
           18.7,
           55
          ],
          [
           14,
           14,
           25,
           9,
           23.4,
           36
          ],
          [
           14,
           14,
           11,
           8,
           10.3,
           72.7
          ],
          [
           14,
           14,
           2,
           1,
           1.9,
           50
          ],
          [
           14,
           14,
           3,
           3,
           2.8,
           100
          ],
          [
           14,
           14,
           3,
           0,
           2.8,
           0
          ],
          [
           15,
           15,
           12,
           8,
           11.7,
           66.7
          ],
          [
           15,
           15,
           2,
           1,
           1.9,
           50
          ],
          [
           15,
           15,
           1,
           0,
           1,
           0
          ],
          [
           15,
           15,
           7,
           4,
           6.8,
           57.1
          ],
          [
           15,
           15,
           8,
           2,
           7.8,
           25
          ],
          [
           15,
           15,
           14,
           4,
           13.6,
           28.6
          ],
          [
           15,
           15,
           14,
           6,
           13.6,
           42.9
          ],
          [
           15,
           15,
           22,
           12,
           21.4,
           54.5
          ],
          [
           15,
           15,
           11,
           7,
           10.7,
           63.6
          ],
          [
           15,
           15,
           5,
           2,
           4.9,
           40
          ],
          [
           15,
           15,
           4,
           2,
           3.9,
           50
          ],
          [
           15,
           15,
           3,
           2,
           2.9,
           66.7
          ],
          [
           16,
           16,
           8,
           5,
           7.5,
           62.5
          ],
          [
           16,
           16,
           1,
           1,
           0.9,
           100
          ],
          [
           16,
           16,
           3,
           0,
           2.8,
           0
          ],
          [
           16,
           16,
           13,
           7,
           12.3,
           53.8
          ],
          [
           16,
           16,
           13,
           5,
           12.3,
           38.5
          ],
          [
           16,
           16,
           11,
           6,
           10.4,
           54.5
          ],
          [
           16,
           16,
           6,
           2,
           5.7,
           33.3
          ],
          [
           16,
           16,
           11,
           6,
           10.4,
           54.5
          ],
          [
           16,
           16,
           8,
           1,
           7.5,
           12.5
          ],
          [
           16,
           16,
           14,
           7,
           13.2,
           50
          ],
          [
           16,
           16,
           11,
           2,
           10.4,
           18.2
          ],
          [
           16,
           16,
           7,
           5,
           6.6,
           71.4
          ],
          [
           17,
           17,
           7,
           5,
           6.6,
           71.4
          ],
          [
           17,
           17,
           2,
           0,
           1.9,
           0
          ],
          [
           17,
           17,
           9,
           5,
           8.5,
           55.6
          ],
          [
           17,
           17,
           7,
           3,
           6.6,
           42.9
          ],
          [
           17,
           17,
           12,
           6,
           11.3,
           50
          ],
          [
           17,
           17,
           11,
           3,
           10.4,
           27.3
          ],
          [
           17,
           17,
           9,
           5,
           8.5,
           55.6
          ],
          [
           17,
           17,
           3,
           0,
           2.8,
           0
          ],
          [
           17,
           17,
           3,
           2,
           2.8,
           66.7
          ],
          [
           17,
           17,
           16,
           4,
           15.1,
           25
          ],
          [
           17,
           17,
           10,
           4,
           9.4,
           40
          ],
          [
           17,
           17,
           17,
           14,
           16,
           82.4
          ],
          [
           18,
           18,
           5,
           3,
           5.2,
           60
          ],
          [
           18,
           18,
           3,
           1,
           3.1,
           33.3
          ],
          [
           18,
           18,
           6,
           1,
           6.2,
           16.7
          ],
          [
           18,
           18,
           5,
           2,
           5.2,
           40
          ],
          [
           18,
           18,
           13,
           8,
           13.5,
           61.5
          ],
          [
           18,
           18,
           2,
           2,
           2.1,
           100
          ],
          [
           18,
           18,
           6,
           2,
           6.2,
           33.3
          ],
          [
           18,
           18,
           2,
           1,
           2.1,
           50
          ],
          [
           18,
           18,
           6,
           3,
           6.2,
           50
          ],
          [
           18,
           18,
           19,
           7,
           19.8,
           36.8
          ],
          [
           18,
           18,
           8,
           5,
           8.3,
           62.5
          ],
          [
           18,
           18,
           21,
           9,
           21.9,
           42.9
          ],
          [
           19,
           19,
           3,
           1,
           3.1,
           33.3
          ],
          [
           19,
           19,
           0,
           0,
           0,
           0
          ],
          [
           19,
           19,
           6,
           3,
           6.1,
           50
          ],
          [
           19,
           19,
           3,
           1,
           3.1,
           33.3
          ],
          [
           19,
           19,
           18,
           9,
           18.4,
           50
          ],
          [
           19,
           19,
           6,
           3,
           6.1,
           50
          ],
          [
           19,
           19,
           2,
           0,
           2,
           0
          ],
          [
           19,
           19,
           4,
           2,
           4.1,
           50
          ],
          [
           19,
           19,
           3,
           0,
           3.1,
           0
          ],
          [
           19,
           19,
           17,
           8,
           17.3,
           47.1
          ],
          [
           19,
           19,
           19,
           11,
           19.4,
           57.9
          ],
          [
           19,
           19,
           17,
           10,
           17.3,
           58.8
          ],
          [
           20,
           20,
           2,
           1,
           2,
           50
          ],
          [
           20,
           20,
           1,
           0,
           1,
           0
          ],
          [
           20,
           20,
           9,
           5,
           8.9,
           55.6
          ],
          [
           20,
           20,
           1,
           0,
           1,
           0
          ],
          [
           20,
           20,
           10,
           2,
           9.9,
           20
          ],
          [
           20,
           20,
           4,
           3,
           4,
           75
          ],
          [
           20,
           20,
           5,
           2,
           5,
           40
          ],
          [
           20,
           20,
           3,
           2,
           3,
           66.7
          ],
          [
           20,
           20,
           4,
           1,
           4,
           25
          ],
          [
           20,
           20,
           13,
           7,
           12.9,
           53.8
          ],
          [
           20,
           20,
           25,
           14,
           24.8,
           56
          ],
          [
           20,
           20,
           24,
           15,
           23.8,
           62.5
          ],
          [
           21,
           21,
           1,
           0,
           1,
           0
          ],
          [
           21,
           21,
           0,
           0,
           0,
           0
          ],
          [
           21,
           21,
           10,
           3,
           9.6,
           30
          ],
          [
           21,
           21,
           0,
           0,
           0,
           0
          ],
          [
           21,
           21,
           12,
           3,
           11.5,
           25
          ],
          [
           21,
           21,
           5,
           1,
           4.8,
           20
          ],
          [
           21,
           21,
           6,
           5,
           5.8,
           83.3
          ],
          [
           21,
           21,
           3,
           2,
           2.9,
           66.7
          ],
          [
           21,
           21,
           13,
           5,
           12.5,
           38.5
          ],
          [
           21,
           21,
           14,
           7,
           13.5,
           50
          ],
          [
           21,
           21,
           16,
           9,
           15.4,
           56.2
          ],
          [
           21,
           21,
           24,
           16,
           23.1,
           66.7
          ],
          [
           22,
           22,
           3,
           2,
           3,
           66.7
          ],
          [
           22,
           22,
           1,
           1,
           1,
           100
          ],
          [
           22,
           22,
           3,
           1,
           3,
           33.3
          ],
          [
           22,
           22,
           2,
           0,
           2,
           0
          ],
          [
           22,
           22,
           8,
           7,
           8,
           87.5
          ],
          [
           22,
           22,
           5,
           3,
           5,
           60
          ],
          [
           22,
           22,
           3,
           0,
           3,
           0
          ],
          [
           22,
           22,
           12,
           4,
           12,
           33.3
          ],
          [
           22,
           22,
           5,
           3,
           5,
           60
          ],
          [
           22,
           22,
           12,
           9,
           12,
           75
          ],
          [
           22,
           22,
           18,
           7,
           18,
           38.9
          ],
          [
           22,
           22,
           28,
           12,
           28,
           42.9
          ],
          [
           23,
           23,
           0,
           0,
           0,
           0
          ],
          [
           23,
           23,
           0,
           0,
           0,
           0
          ],
          [
           23,
           23,
           5,
           1,
           4.4,
           20
          ],
          [
           23,
           23,
           5,
           0,
           4.4,
           0
          ],
          [
           23,
           23,
           10,
           3,
           8.8,
           30
          ],
          [
           23,
           23,
           4,
           1,
           3.5,
           25
          ],
          [
           23,
           23,
           15,
           6,
           13.2,
           40
          ],
          [
           23,
           23,
           12,
           7,
           10.5,
           58.3
          ],
          [
           23,
           23,
           13,
           5,
           11.4,
           38.5
          ],
          [
           23,
           23,
           5,
           1,
           4.4,
           20
          ],
          [
           23,
           23,
           21,
           13,
           18.4,
           61.9
          ],
          [
           23,
           23,
           24,
           16,
           21.1,
           66.7
          ],
          [
           24,
           24,
           3,
           2,
           2.7,
           66.7
          ],
          [
           24,
           24,
           1,
           1,
           0.9,
           100
          ],
          [
           24,
           24,
           8,
           3,
           7.1,
           37.5
          ],
          [
           24,
           24,
           3,
           2,
           2.7,
           66.7
          ],
          [
           24,
           24,
           8,
           3,
           7.1,
           37.5
          ],
          [
           24,
           24,
           3,
           1,
           2.7,
           33.3
          ],
          [
           24,
           24,
           8,
           2,
           7.1,
           25
          ],
          [
           24,
           24,
           13,
           3,
           11.6,
           23.1
          ],
          [
           24,
           24,
           9,
           3,
           8,
           33.3
          ],
          [
           24,
           24,
           7,
           2,
           6.2,
           28.6
          ],
          [
           24,
           24,
           19,
           9,
           17,
           47.4
          ],
          [
           24,
           24,
           30,
           15,
           26.8,
           50
          ],
          [
           25,
           25,
           3,
           1,
           3.5,
           33.3
          ],
          [
           25,
           25,
           0,
           0,
           0,
           0
          ],
          [
           25,
           25,
           5,
           0,
           5.8,
           0
          ],
          [
           25,
           25,
           2,
           1,
           2.3,
           50
          ],
          [
           25,
           25,
           7,
           3,
           8.1,
           42.9
          ],
          [
           25,
           25,
           0,
           0,
           0,
           0
          ],
          [
           25,
           25,
           3,
           0,
           3.5,
           0
          ],
          [
           25,
           25,
           0,
           0,
           0,
           0
          ],
          [
           25,
           25,
           3,
           3,
           3.5,
           100
          ],
          [
           25,
           25,
           21,
           10,
           24.4,
           47.6
          ],
          [
           25,
           25,
           21,
           10,
           24.4,
           47.6
          ],
          [
           25,
           25,
           21,
           9,
           24.4,
           42.9
          ],
          [
           26,
           26,
           3,
           1,
           3.2,
           33.3
          ],
          [
           26,
           26,
           0,
           0,
           0,
           0
          ],
          [
           26,
           26,
           7,
           4,
           7.4,
           57.1
          ],
          [
           26,
           26,
           3,
           3,
           3.2,
           100
          ],
          [
           26,
           26,
           13,
           5,
           13.7,
           38.5
          ],
          [
           26,
           26,
           0,
           0,
           0,
           0
          ],
          [
           26,
           26,
           1,
           0,
           1.1,
           0
          ],
          [
           26,
           26,
           0,
           0,
           0,
           0
          ],
          [
           26,
           26,
           4,
           2,
           4.2,
           50
          ],
          [
           26,
           26,
           22,
           10,
           23.2,
           45.5
          ],
          [
           26,
           26,
           25,
           16,
           26.3,
           64
          ],
          [
           26,
           26,
           17,
           11,
           17.9,
           64.7
          ],
          [
           27,
           27,
           1,
           0,
           1,
           0
          ],
          [
           27,
           27,
           0,
           0,
           0,
           0
          ],
          [
           27,
           27,
           10,
           4,
           9.5,
           40
          ],
          [
           27,
           27,
           1,
           0,
           1,
           0
          ],
          [
           27,
           27,
           13,
           9,
           12.4,
           69.2
          ],
          [
           27,
           27,
           0,
           0,
           0,
           0
          ],
          [
           27,
           27,
           3,
           1,
           2.9,
           33.3
          ],
          [
           27,
           27,
           2,
           2,
           1.9,
           100
          ],
          [
           27,
           27,
           2,
           1,
           1.9,
           50
          ],
          [
           27,
           27,
           28,
           12,
           26.7,
           42.9
          ],
          [
           27,
           27,
           24,
           12,
           22.9,
           50
          ],
          [
           27,
           27,
           21,
           9,
           20,
           42.9
          ],
          [
           28,
           28,
           1,
           1,
           1.1,
           100
          ],
          [
           28,
           28,
           0,
           0,
           0,
           0
          ],
          [
           28,
           28,
           5,
           4,
           5.5,
           80
          ],
          [
           28,
           28,
           1,
           0,
           1.1,
           0
          ],
          [
           28,
           28,
           18,
           6,
           19.8,
           33.3
          ],
          [
           28,
           28,
           0,
           0,
           0,
           0
          ],
          [
           28,
           28,
           1,
           0,
           1.1,
           0
          ],
          [
           28,
           28,
           2,
           1,
           2.2,
           50
          ],
          [
           28,
           28,
           2,
           1,
           2.2,
           50
          ],
          [
           28,
           28,
           13,
           7,
           14.3,
           53.8
          ],
          [
           28,
           28,
           24,
           14,
           26.4,
           58.3
          ],
          [
           28,
           28,
           24,
           8,
           26.4,
           33.3
          ],
          [
           29,
           29,
           3,
           1,
           3.1,
           33.3
          ],
          [
           29,
           29,
           0,
           0,
           0,
           0
          ],
          [
           29,
           29,
           13,
           6,
           13.3,
           46.2
          ],
          [
           29,
           29,
           2,
           1,
           2,
           50
          ],
          [
           29,
           29,
           14,
           7,
           14.3,
           50
          ],
          [
           29,
           29,
           1,
           0,
           1,
           0
          ],
          [
           29,
           29,
           4,
           2,
           4.1,
           50
          ],
          [
           29,
           29,
           4,
           1,
           4.1,
           25
          ],
          [
           29,
           29,
           4,
           3,
           4.1,
           75
          ],
          [
           29,
           29,
           14,
           9,
           14.3,
           64.3
          ],
          [
           29,
           29,
           17,
           11,
           17.3,
           64.7
          ],
          [
           29,
           29,
           22,
           11,
           22.4,
           50
          ],
          [
           30,
           30,
           5,
           3,
           5.3,
           60
          ],
          [
           30,
           30,
           0,
           0,
           0,
           0
          ],
          [
           30,
           30,
           9,
           5,
           9.6,
           55.6
          ],
          [
           30,
           30,
           3,
           0,
           3.2,
           0
          ],
          [
           30,
           30,
           10,
           6,
           10.6,
           60
          ],
          [
           30,
           30,
           0,
           0,
           0,
           0
          ],
          [
           30,
           30,
           6,
           2,
           6.4,
           33.3
          ],
          [
           30,
           30,
           6,
           3,
           6.4,
           50
          ],
          [
           30,
           30,
           4,
           2,
           4.3,
           50
          ],
          [
           30,
           30,
           11,
           4,
           11.7,
           36.4
          ],
          [
           30,
           30,
           15,
           5,
           16,
           33.3
          ],
          [
           30,
           30,
           25,
           15,
           26.6,
           60
          ],
          [
           31,
           31,
           1,
           1,
           1.1,
           100
          ],
          [
           31,
           31,
           0,
           0,
           0,
           0
          ],
          [
           31,
           31,
           2,
           1,
           2.1,
           50
          ],
          [
           31,
           31,
           3,
           1,
           3.2,
           33.3
          ],
          [
           31,
           31,
           4,
           2,
           4.2,
           50
          ],
          [
           31,
           31,
           3,
           1,
           3.2,
           33.3
          ],
          [
           31,
           31,
           11,
           3,
           11.6,
           27.3
          ],
          [
           31,
           31,
           5,
           2,
           5.3,
           40
          ],
          [
           31,
           31,
           8,
           3,
           8.4,
           37.5
          ],
          [
           31,
           31,
           14,
           5,
           14.7,
           35.7
          ],
          [
           31,
           31,
           17,
           7,
           17.9,
           41.2
          ],
          [
           31,
           31,
           27,
           14,
           28.4,
           51.9
          ],
          [
           32,
           32,
           6,
           5,
           5.8,
           83.3
          ],
          [
           32,
           32,
           1,
           0,
           1,
           0
          ],
          [
           32,
           32,
           2,
           1,
           1.9,
           50
          ],
          [
           32,
           32,
           0,
           0,
           0,
           0
          ],
          [
           32,
           32,
           5,
           1,
           4.9,
           20
          ],
          [
           32,
           32,
           2,
           0,
           1.9,
           0
          ],
          [
           32,
           32,
           17,
           7,
           16.5,
           41.2
          ],
          [
           32,
           32,
           16,
           11,
           15.5,
           68.8
          ],
          [
           32,
           32,
           12,
           4,
           11.7,
           33.3
          ],
          [
           32,
           32,
           3,
           2,
           2.9,
           66.7
          ],
          [
           32,
           32,
           18,
           9,
           17.5,
           50
          ],
          [
           32,
           32,
           21,
           9,
           20.4,
           42.9
          ],
          [
           33,
           33,
           4,
           4,
           4,
           100
          ],
          [
           33,
           33,
           1,
           0,
           1,
           0
          ],
          [
           33,
           33,
           2,
           2,
           2,
           100
          ],
          [
           33,
           33,
           9,
           6,
           9.1,
           66.7
          ],
          [
           33,
           33,
           4,
           1,
           4,
           25
          ],
          [
           33,
           33,
           5,
           2,
           5.1,
           40
          ],
          [
           33,
           33,
           19,
           7,
           19.2,
           36.8
          ],
          [
           33,
           33,
           15,
           5,
           15.2,
           33.3
          ],
          [
           33,
           33,
           15,
           9,
           15.2,
           60
          ],
          [
           33,
           33,
           1,
           0,
           1,
           0
          ],
          [
           33,
           33,
           10,
           4,
           10.1,
           40
          ],
          [
           33,
           33,
           14,
           6,
           14.1,
           42.9
          ],
          [
           34,
           34,
           7,
           3,
           7.2,
           42.9
          ],
          [
           34,
           34,
           0,
           0,
           0,
           0
          ],
          [
           34,
           34,
           2,
           1,
           2.1,
           50
          ],
          [
           34,
           34,
           6,
           3,
           6.2,
           50
          ],
          [
           34,
           34,
           2,
           0,
           2.1,
           0
          ],
          [
           34,
           34,
           8,
           3,
           8.2,
           37.5
          ],
          [
           34,
           34,
           11,
           6,
           11.3,
           54.5
          ],
          [
           34,
           34,
           23,
           11,
           23.7,
           47.8
          ],
          [
           34,
           34,
           12,
           7,
           12.4,
           58.3
          ],
          [
           34,
           34,
           2,
           1,
           2.1,
           50
          ],
          [
           34,
           34,
           12,
           7,
           12.4,
           58.3
          ],
          [
           34,
           34,
           12,
           7,
           12.4,
           58.3
          ],
          [
           35,
           35,
           8,
           6,
           8.8,
           75
          ],
          [
           35,
           35,
           0,
           0,
           0,
           0
          ],
          [
           35,
           35,
           2,
           0,
           2.2,
           0
          ],
          [
           35,
           35,
           12,
           5,
           13.2,
           41.7
          ],
          [
           35,
           35,
           2,
           2,
           2.2,
           100
          ],
          [
           35,
           35,
           9,
           3,
           9.9,
           33.3
          ],
          [
           35,
           35,
           16,
           7,
           17.6,
           43.8
          ],
          [
           35,
           35,
           17,
           6,
           18.7,
           35.3
          ],
          [
           35,
           35,
           13,
           3,
           14.3,
           23.1
          ],
          [
           35,
           35,
           2,
           0,
           2.2,
           0
          ],
          [
           35,
           35,
           3,
           3,
           3.3,
           100
          ],
          [
           35,
           35,
           7,
           3,
           7.7,
           42.9
          ],
          [
           36,
           36,
           10,
           6,
           7.6,
           60
          ],
          [
           36,
           36,
           1,
           0,
           0.8,
           0
          ],
          [
           36,
           36,
           4,
           1,
           3.1,
           25
          ],
          [
           36,
           36,
           11,
           4,
           8.4,
           36.4
          ],
          [
           36,
           36,
           5,
           4,
           3.8,
           80
          ],
          [
           36,
           36,
           7,
           2,
           5.3,
           28.6
          ],
          [
           36,
           36,
           22,
           7,
           16.8,
           31.8
          ],
          [
           36,
           36,
           33,
           13,
           25.2,
           39.4
          ],
          [
           36,
           36,
           19,
           10,
           14.5,
           52.6
          ],
          [
           36,
           36,
           3,
           0,
           2.3,
           0
          ],
          [
           36,
           36,
           4,
           3,
           3.1,
           75
          ],
          [
           36,
           36,
           12,
           7,
           9.2,
           58.3
          ],
          [
           37,
           37,
           8,
           5,
           9.5,
           62.5
          ],
          [
           37,
           37,
           2,
           1,
           2.4,
           50
          ],
          [
           37,
           37,
           1,
           1,
           1.2,
           100
          ],
          [
           37,
           37,
           6,
           4,
           7.1,
           66.7
          ],
          [
           37,
           37,
           5,
           3,
           6,
           60
          ],
          [
           37,
           37,
           10,
           5,
           11.9,
           50
          ],
          [
           37,
           37,
           18,
           9,
           21.4,
           50
          ],
          [
           37,
           37,
           22,
           5,
           26.2,
           22.7
          ],
          [
           37,
           37,
           6,
           3,
           7.1,
           50
          ],
          [
           37,
           37,
           2,
           0,
           2.4,
           0
          ],
          [
           37,
           37,
           2,
           0,
           2.4,
           0
          ],
          [
           37,
           37,
           2,
           0,
           2.4,
           0
          ],
          [
           38,
           38,
           5,
           3,
           5.6,
           60
          ],
          [
           38,
           38,
           2,
           0,
           2.2,
           0
          ],
          [
           38,
           38,
           4,
           1,
           4.5,
           25
          ],
          [
           38,
           38,
           10,
           5,
           11.2,
           50
          ],
          [
           38,
           38,
           5,
           2,
           5.6,
           40
          ],
          [
           38,
           38,
           7,
           3,
           7.9,
           42.9
          ],
          [
           38,
           38,
           16,
           11,
           18,
           68.8
          ],
          [
           38,
           38,
           21,
           12,
           23.6,
           57.1
          ],
          [
           38,
           38,
           13,
           9,
           14.6,
           69.2
          ],
          [
           38,
           38,
           1,
           0,
           1.1,
           0
          ],
          [
           38,
           38,
           3,
           1,
           3.4,
           33.3
          ],
          [
           38,
           38,
           2,
           0,
           2.2,
           0
          ],
          [
           39,
           39,
           7,
           4,
           7.8,
           57.1
          ],
          [
           39,
           39,
           2,
           1,
           2.2,
           50
          ],
          [
           39,
           39,
           3,
           2,
           3.3,
           66.7
          ],
          [
           39,
           39,
           5,
           5,
           5.6,
           100
          ],
          [
           39,
           39,
           6,
           2,
           6.7,
           33.3
          ],
          [
           39,
           39,
           9,
           3,
           10,
           33.3
          ],
          [
           39,
           39,
           10,
           6,
           11.1,
           60
          ],
          [
           39,
           39,
           13,
           4,
           14.4,
           30.8
          ],
          [
           39,
           39,
           13,
           6,
           14.4,
           46.2
          ],
          [
           39,
           39,
           8,
           4,
           8.9,
           50
          ],
          [
           39,
           39,
           4,
           2,
           4.4,
           50
          ],
          [
           39,
           39,
           10,
           5,
           11.1,
           50
          ],
          [
           40,
           40,
           8,
           3,
           8.7,
           37.5
          ],
          [
           40,
           40,
           1,
           0,
           1.1,
           0
          ],
          [
           40,
           40,
           2,
           1,
           2.2,
           50
          ],
          [
           40,
           40,
           9,
           5,
           9.8,
           55.6
          ],
          [
           40,
           40,
           13,
           6,
           14.1,
           46.2
          ],
          [
           40,
           40,
           8,
           2,
           8.7,
           25
          ],
          [
           40,
           40,
           6,
           3,
           6.5,
           50
          ],
          [
           40,
           40,
           4,
           1,
           4.3,
           25
          ],
          [
           40,
           40,
           6,
           4,
           6.5,
           66.7
          ],
          [
           40,
           40,
           11,
           5,
           12,
           45.5
          ],
          [
           40,
           40,
           7,
           3,
           7.6,
           42.9
          ],
          [
           40,
           40,
           17,
           9,
           18.5,
           52.9
          ],
          [
           41,
           41,
           2,
           1,
           2.2,
           50
          ],
          [
           41,
           41,
           1,
           0,
           1.1,
           0
          ],
          [
           41,
           41,
           2,
           2,
           2.2,
           100
          ],
          [
           41,
           41,
           6,
           4,
           6.7,
           66.7
          ],
          [
           41,
           41,
           12,
           7,
           13.5,
           58.3
          ],
          [
           41,
           41,
           11,
           4,
           12.4,
           36.4
          ],
          [
           41,
           41,
           3,
           0,
           3.4,
           0
          ],
          [
           41,
           41,
           4,
           1,
           4.5,
           25
          ],
          [
           41,
           41,
           4,
           3,
           4.5,
           75
          ],
          [
           41,
           41,
           10,
           5,
           11.2,
           50
          ],
          [
           41,
           41,
           8,
           4,
           9,
           50
          ],
          [
           41,
           41,
           26,
           11,
           29.2,
           42.3
          ],
          [
           42,
           42,
           0,
           0,
           0,
           0
          ],
          [
           42,
           42,
           0,
           0,
           0,
           0
          ],
          [
           42,
           42,
           2,
           1,
           2.8,
           50
          ],
          [
           42,
           42,
           2,
           2,
           2.8,
           100
          ],
          [
           42,
           42,
           13,
           4,
           18.1,
           30.8
          ],
          [
           42,
           42,
           4,
           0,
           5.6,
           0
          ],
          [
           42,
           42,
           0,
           0,
           0,
           0
          ],
          [
           42,
           42,
           2,
           0,
           2.8,
           0
          ],
          [
           42,
           42,
           5,
           2,
           6.9,
           40
          ],
          [
           42,
           42,
           9,
           4,
           12.5,
           44.4
          ],
          [
           42,
           42,
           19,
           10,
           26.4,
           52.6
          ],
          [
           42,
           42,
           16,
           8,
           22.2,
           50
          ],
          [
           43,
           43,
           0,
           0,
           0,
           0
          ],
          [
           43,
           43,
           1,
           1,
           1.4,
           100
          ],
          [
           43,
           43,
           1,
           0,
           1.4,
           0
          ],
          [
           43,
           43,
           1,
           0,
           1.4,
           0
          ],
          [
           43,
           43,
           15,
           11,
           20.3,
           73.3
          ],
          [
           43,
           43,
           6,
           3,
           8.1,
           50
          ],
          [
           43,
           43,
           3,
           1,
           4.1,
           33.3
          ],
          [
           43,
           43,
           1,
           1,
           1.4,
           100
          ],
          [
           43,
           43,
           4,
           3,
           5.4,
           75
          ],
          [
           43,
           43,
           7,
           1,
           9.5,
           14.3
          ],
          [
           43,
           43,
           13,
           7,
           17.6,
           53.8
          ],
          [
           43,
           43,
           22,
           15,
           29.7,
           68.2
          ],
          [
           44,
           44,
           1,
           1,
           1.3,
           100
          ],
          [
           44,
           44,
           0,
           0,
           0,
           0
          ],
          [
           44,
           44,
           2,
           0,
           2.7,
           0
          ],
          [
           44,
           44,
           5,
           2,
           6.7,
           40
          ],
          [
           44,
           44,
           6,
           3,
           8,
           50
          ],
          [
           44,
           44,
           2,
           1,
           2.7,
           50
          ],
          [
           44,
           44,
           1,
           0,
           1.3,
           0
          ],
          [
           44,
           44,
           1,
           0,
           1.3,
           0
          ],
          [
           44,
           44,
           11,
           4,
           14.7,
           36.4
          ],
          [
           44,
           44,
           3,
           2,
           4,
           66.7
          ],
          [
           44,
           44,
           25,
           10,
           33.3,
           40
          ],
          [
           44,
           44,
           18,
           12,
           24,
           66.7
          ],
          [
           45,
           45,
           0,
           0,
           0,
           0
          ],
          [
           45,
           45,
           0,
           0,
           0,
           0
          ],
          [
           45,
           45,
           0,
           0,
           0,
           0
          ],
          [
           45,
           45,
           2,
           1,
           2.8,
           50
          ],
          [
           45,
           45,
           5,
           0,
           6.9,
           0
          ],
          [
           45,
           45,
           2,
           0,
           2.8,
           0
          ],
          [
           45,
           45,
           2,
           0,
           2.8,
           0
          ],
          [
           45,
           45,
           9,
           5,
           12.5,
           55.6
          ],
          [
           45,
           45,
           9,
           1,
           12.5,
           11.1
          ],
          [
           45,
           45,
           10,
           1,
           13.9,
           10
          ],
          [
           45,
           45,
           9,
           6,
           12.5,
           66.7
          ],
          [
           45,
           45,
           24,
           15,
           33.3,
           62.5
          ],
          [
           46,
           46,
           1,
           1,
           1.6,
           100
          ],
          [
           46,
           46,
           1,
           0,
           1.6,
           0
          ],
          [
           46,
           46,
           1,
           1,
           1.6,
           100
          ],
          [
           46,
           46,
           0,
           0,
           0,
           0
          ],
          [
           46,
           46,
           1,
           0,
           1.6,
           0
          ],
          [
           46,
           46,
           6,
           2,
           9.5,
           33.3
          ],
          [
           46,
           46,
           4,
           2,
           6.3,
           50
          ],
          [
           46,
           46,
           9,
           4,
           14.3,
           44.4
          ],
          [
           46,
           46,
           5,
           4,
           7.9,
           80
          ],
          [
           46,
           46,
           15,
           7,
           23.8,
           46.7
          ],
          [
           46,
           46,
           9,
           4,
           14.3,
           44.4
          ],
          [
           46,
           46,
           11,
           3,
           17.5,
           27.3
          ],
          [
           47,
           47,
           0,
           0,
           0,
           0
          ],
          [
           47,
           47,
           2,
           1,
           2.6,
           50
          ],
          [
           47,
           47,
           1,
           1,
           1.3,
           100
          ],
          [
           47,
           47,
           3,
           1,
           3.9,
           33.3
          ],
          [
           47,
           47,
           4,
           2,
           5.3,
           50
          ],
          [
           47,
           47,
           3,
           2,
           3.9,
           66.7
          ],
          [
           47,
           47,
           2,
           1,
           2.6,
           50
          ],
          [
           47,
           47,
           14,
           4,
           18.4,
           28.6
          ],
          [
           47,
           47,
           9,
           3,
           11.8,
           33.3
          ],
          [
           47,
           47,
           8,
           2,
           10.5,
           25
          ],
          [
           47,
           47,
           10,
           5,
           13.2,
           50
          ],
          [
           47,
           47,
           20,
           13,
           26.3,
           65
          ],
          [
           48,
           48,
           2,
           0,
           1.9,
           0
          ],
          [
           48,
           48,
           2,
           1,
           1.9,
           50
          ],
          [
           48,
           48,
           5,
           4,
           4.7,
           80
          ],
          [
           48,
           48,
           3,
           2,
           2.8,
           66.7
          ],
          [
           48,
           48,
           2,
           1,
           1.9,
           50
          ],
          [
           48,
           48,
           7,
           3,
           6.5,
           42.9
          ],
          [
           48,
           48,
           11,
           6,
           10.3,
           54.5
          ],
          [
           48,
           48,
           7,
           1,
           6.5,
           14.3
          ],
          [
           48,
           48,
           15,
           3,
           14,
           20
          ],
          [
           48,
           48,
           19,
           6,
           17.8,
           31.6
          ],
          [
           48,
           48,
           11,
           6,
           10.3,
           54.5
          ],
          [
           48,
           48,
           23,
           9,
           21.5,
           39.1
          ]
         ],
         "hovertemplate": "<b>%{hovertext}</b><br><br>min_mid=%{x}<br>player=%{y}<br>shots_freq=%{customdata[4]}<br>min_start=%{customdata[0]}<br>min_end=%{customdata[1]}<br>shots_count=%{customdata[2]}<br>shots_made=%{customdata[3]}<br>shots_acc=%{customdata[5]}<br>pl_pps=%{marker.color}<extra></extra>",
         "hovertext": [
          "Jakob Poeltl",
          "Others",
          "Trey Lyles",
          "Lonnie Walker IV",
          "Dejounte Murray",
          "Marco Belinelli",
          "Rudy Gay",
          "Patty Mills",
          "Derrick White",
          "Bryn Forbes",
          "LaMarcus Aldridge",
          "DeMar DeRozan",
          "Jakob Poeltl",
          "Others",
          "Trey Lyles",
          "Lonnie Walker IV",
          "Dejounte Murray",
          "Marco Belinelli",
          "Rudy Gay",
          "Patty Mills",
          "Derrick White",
          "Bryn Forbes",
          "LaMarcus Aldridge",
          "DeMar DeRozan",
          "Jakob Poeltl",
          "Others",
          "Trey Lyles",
          "Lonnie Walker IV",
          "Dejounte Murray",
          "Marco Belinelli",
          "Rudy Gay",
          "Patty Mills",
          "Derrick White",
          "Bryn Forbes",
          "LaMarcus Aldridge",
          "DeMar DeRozan",
          "Jakob Poeltl",
          "Others",
          "Trey Lyles",
          "Lonnie Walker IV",
          "Dejounte Murray",
          "Marco Belinelli",
          "Rudy Gay",
          "Patty Mills",
          "Derrick White",
          "Bryn Forbes",
          "LaMarcus Aldridge",
          "DeMar DeRozan",
          "Jakob Poeltl",
          "Others",
          "Trey Lyles",
          "Lonnie Walker IV",
          "Dejounte Murray",
          "Marco Belinelli",
          "Rudy Gay",
          "Patty Mills",
          "Derrick White",
          "Bryn Forbes",
          "LaMarcus Aldridge",
          "DeMar DeRozan",
          "Jakob Poeltl",
          "Others",
          "Trey Lyles",
          "Lonnie Walker IV",
          "Dejounte Murray",
          "Marco Belinelli",
          "Rudy Gay",
          "Patty Mills",
          "Derrick White",
          "Bryn Forbes",
          "LaMarcus Aldridge",
          "DeMar DeRozan",
          "Jakob Poeltl",
          "Others",
          "Trey Lyles",
          "Lonnie Walker IV",
          "Dejounte Murray",
          "Marco Belinelli",
          "Rudy Gay",
          "Patty Mills",
          "Derrick White",
          "Bryn Forbes",
          "LaMarcus Aldridge",
          "DeMar DeRozan",
          "Jakob Poeltl",
          "Others",
          "Trey Lyles",
          "Lonnie Walker IV",
          "Dejounte Murray",
          "Marco Belinelli",
          "Rudy Gay",
          "Patty Mills",
          "Derrick White",
          "Bryn Forbes",
          "LaMarcus Aldridge",
          "DeMar DeRozan",
          "Jakob Poeltl",
          "Others",
          "Trey Lyles",
          "Lonnie Walker IV",
          "Dejounte Murray",
          "Marco Belinelli",
          "Rudy Gay",
          "Patty Mills",
          "Derrick White",
          "Bryn Forbes",
          "LaMarcus Aldridge",
          "DeMar DeRozan",
          "Jakob Poeltl",
          "Others",
          "Trey Lyles",
          "Lonnie Walker IV",
          "Dejounte Murray",
          "Marco Belinelli",
          "Rudy Gay",
          "Patty Mills",
          "Derrick White",
          "Bryn Forbes",
          "LaMarcus Aldridge",
          "DeMar DeRozan",
          "Jakob Poeltl",
          "Others",
          "Trey Lyles",
          "Lonnie Walker IV",
          "Dejounte Murray",
          "Marco Belinelli",
          "Rudy Gay",
          "Patty Mills",
          "Derrick White",
          "Bryn Forbes",
          "LaMarcus Aldridge",
          "DeMar DeRozan",
          "Jakob Poeltl",
          "Others",
          "Trey Lyles",
          "Lonnie Walker IV",
          "Dejounte Murray",
          "Marco Belinelli",
          "Rudy Gay",
          "Patty Mills",
          "Derrick White",
          "Bryn Forbes",
          "LaMarcus Aldridge",
          "DeMar DeRozan",
          "Jakob Poeltl",
          "Others",
          "Trey Lyles",
          "Lonnie Walker IV",
          "Dejounte Murray",
          "Marco Belinelli",
          "Rudy Gay",
          "Patty Mills",
          "Derrick White",
          "Bryn Forbes",
          "LaMarcus Aldridge",
          "DeMar DeRozan",
          "Jakob Poeltl",
          "Others",
          "Trey Lyles",
          "Lonnie Walker IV",
          "Dejounte Murray",
          "Marco Belinelli",
          "Rudy Gay",
          "Patty Mills",
          "Derrick White",
          "Bryn Forbes",
          "LaMarcus Aldridge",
          "DeMar DeRozan",
          "Jakob Poeltl",
          "Others",
          "Trey Lyles",
          "Lonnie Walker IV",
          "Dejounte Murray",
          "Marco Belinelli",
          "Rudy Gay",
          "Patty Mills",
          "Derrick White",
          "Bryn Forbes",
          "LaMarcus Aldridge",
          "DeMar DeRozan",
          "Jakob Poeltl",
          "Others",
          "Trey Lyles",
          "Lonnie Walker IV",
          "Dejounte Murray",
          "Marco Belinelli",
          "Rudy Gay",
          "Patty Mills",
          "Derrick White",
          "Bryn Forbes",
          "LaMarcus Aldridge",
          "DeMar DeRozan",
          "Jakob Poeltl",
          "Others",
          "Trey Lyles",
          "Lonnie Walker IV",
          "Dejounte Murray",
          "Marco Belinelli",
          "Rudy Gay",
          "Patty Mills",
          "Derrick White",
          "Bryn Forbes",
          "LaMarcus Aldridge",
          "DeMar DeRozan",
          "Jakob Poeltl",
          "Others",
          "Trey Lyles",
          "Lonnie Walker IV",
          "Dejounte Murray",
          "Marco Belinelli",
          "Rudy Gay",
          "Patty Mills",
          "Derrick White",
          "Bryn Forbes",
          "LaMarcus Aldridge",
          "DeMar DeRozan",
          "Jakob Poeltl",
          "Others",
          "Trey Lyles",
          "Lonnie Walker IV",
          "Dejounte Murray",
          "Marco Belinelli",
          "Rudy Gay",
          "Patty Mills",
          "Derrick White",
          "Bryn Forbes",
          "LaMarcus Aldridge",
          "DeMar DeRozan",
          "Jakob Poeltl",
          "Others",
          "Trey Lyles",
          "Lonnie Walker IV",
          "Dejounte Murray",
          "Marco Belinelli",
          "Rudy Gay",
          "Patty Mills",
          "Derrick White",
          "Bryn Forbes",
          "LaMarcus Aldridge",
          "DeMar DeRozan",
          "Jakob Poeltl",
          "Others",
          "Trey Lyles",
          "Lonnie Walker IV",
          "Dejounte Murray",
          "Marco Belinelli",
          "Rudy Gay",
          "Patty Mills",
          "Derrick White",
          "Bryn Forbes",
          "LaMarcus Aldridge",
          "DeMar DeRozan",
          "Jakob Poeltl",
          "Others",
          "Trey Lyles",
          "Lonnie Walker IV",
          "Dejounte Murray",
          "Marco Belinelli",
          "Rudy Gay",
          "Patty Mills",
          "Derrick White",
          "Bryn Forbes",
          "LaMarcus Aldridge",
          "DeMar DeRozan",
          "Jakob Poeltl",
          "Others",
          "Trey Lyles",
          "Lonnie Walker IV",
          "Dejounte Murray",
          "Marco Belinelli",
          "Rudy Gay",
          "Patty Mills",
          "Derrick White",
          "Bryn Forbes",
          "LaMarcus Aldridge",
          "DeMar DeRozan",
          "Jakob Poeltl",
          "Others",
          "Trey Lyles",
          "Lonnie Walker IV",
          "Dejounte Murray",
          "Marco Belinelli",
          "Rudy Gay",
          "Patty Mills",
          "Derrick White",
          "Bryn Forbes",
          "LaMarcus Aldridge",
          "DeMar DeRozan",
          "Jakob Poeltl",
          "Others",
          "Trey Lyles",
          "Lonnie Walker IV",
          "Dejounte Murray",
          "Marco Belinelli",
          "Rudy Gay",
          "Patty Mills",
          "Derrick White",
          "Bryn Forbes",
          "LaMarcus Aldridge",
          "DeMar DeRozan",
          "Jakob Poeltl",
          "Others",
          "Trey Lyles",
          "Lonnie Walker IV",
          "Dejounte Murray",
          "Marco Belinelli",
          "Rudy Gay",
          "Patty Mills",
          "Derrick White",
          "Bryn Forbes",
          "LaMarcus Aldridge",
          "DeMar DeRozan",
          "Jakob Poeltl",
          "Others",
          "Trey Lyles",
          "Lonnie Walker IV",
          "Dejounte Murray",
          "Marco Belinelli",
          "Rudy Gay",
          "Patty Mills",
          "Derrick White",
          "Bryn Forbes",
          "LaMarcus Aldridge",
          "DeMar DeRozan",
          "Jakob Poeltl",
          "Others",
          "Trey Lyles",
          "Lonnie Walker IV",
          "Dejounte Murray",
          "Marco Belinelli",
          "Rudy Gay",
          "Patty Mills",
          "Derrick White",
          "Bryn Forbes",
          "LaMarcus Aldridge",
          "DeMar DeRozan",
          "Jakob Poeltl",
          "Others",
          "Trey Lyles",
          "Lonnie Walker IV",
          "Dejounte Murray",
          "Marco Belinelli",
          "Rudy Gay",
          "Patty Mills",
          "Derrick White",
          "Bryn Forbes",
          "LaMarcus Aldridge",
          "DeMar DeRozan",
          "Jakob Poeltl",
          "Others",
          "Trey Lyles",
          "Lonnie Walker IV",
          "Dejounte Murray",
          "Marco Belinelli",
          "Rudy Gay",
          "Patty Mills",
          "Derrick White",
          "Bryn Forbes",
          "LaMarcus Aldridge",
          "DeMar DeRozan",
          "Jakob Poeltl",
          "Others",
          "Trey Lyles",
          "Lonnie Walker IV",
          "Dejounte Murray",
          "Marco Belinelli",
          "Rudy Gay",
          "Patty Mills",
          "Derrick White",
          "Bryn Forbes",
          "LaMarcus Aldridge",
          "DeMar DeRozan",
          "Jakob Poeltl",
          "Others",
          "Trey Lyles",
          "Lonnie Walker IV",
          "Dejounte Murray",
          "Marco Belinelli",
          "Rudy Gay",
          "Patty Mills",
          "Derrick White",
          "Bryn Forbes",
          "LaMarcus Aldridge",
          "DeMar DeRozan",
          "Jakob Poeltl",
          "Others",
          "Trey Lyles",
          "Lonnie Walker IV",
          "Dejounte Murray",
          "Marco Belinelli",
          "Rudy Gay",
          "Patty Mills",
          "Derrick White",
          "Bryn Forbes",
          "LaMarcus Aldridge",
          "DeMar DeRozan",
          "Jakob Poeltl",
          "Others",
          "Trey Lyles",
          "Lonnie Walker IV",
          "Dejounte Murray",
          "Marco Belinelli",
          "Rudy Gay",
          "Patty Mills",
          "Derrick White",
          "Bryn Forbes",
          "LaMarcus Aldridge",
          "DeMar DeRozan",
          "Jakob Poeltl",
          "Others",
          "Trey Lyles",
          "Lonnie Walker IV",
          "Dejounte Murray",
          "Marco Belinelli",
          "Rudy Gay",
          "Patty Mills",
          "Derrick White",
          "Bryn Forbes",
          "LaMarcus Aldridge",
          "DeMar DeRozan",
          "Jakob Poeltl",
          "Others",
          "Trey Lyles",
          "Lonnie Walker IV",
          "Dejounte Murray",
          "Marco Belinelli",
          "Rudy Gay",
          "Patty Mills",
          "Derrick White",
          "Bryn Forbes",
          "LaMarcus Aldridge",
          "DeMar DeRozan",
          "Jakob Poeltl",
          "Others",
          "Trey Lyles",
          "Lonnie Walker IV",
          "Dejounte Murray",
          "Marco Belinelli",
          "Rudy Gay",
          "Patty Mills",
          "Derrick White",
          "Bryn Forbes",
          "LaMarcus Aldridge",
          "DeMar DeRozan",
          "Jakob Poeltl",
          "Others",
          "Trey Lyles",
          "Lonnie Walker IV",
          "Dejounte Murray",
          "Marco Belinelli",
          "Rudy Gay",
          "Patty Mills",
          "Derrick White",
          "Bryn Forbes",
          "LaMarcus Aldridge",
          "DeMar DeRozan",
          "Jakob Poeltl",
          "Others",
          "Trey Lyles",
          "Lonnie Walker IV",
          "Dejounte Murray",
          "Marco Belinelli",
          "Rudy Gay",
          "Patty Mills",
          "Derrick White",
          "Bryn Forbes",
          "LaMarcus Aldridge",
          "DeMar DeRozan",
          "Jakob Poeltl",
          "Others",
          "Trey Lyles",
          "Lonnie Walker IV",
          "Dejounte Murray",
          "Marco Belinelli",
          "Rudy Gay",
          "Patty Mills",
          "Derrick White",
          "Bryn Forbes",
          "LaMarcus Aldridge",
          "DeMar DeRozan",
          "Jakob Poeltl",
          "Others",
          "Trey Lyles",
          "Lonnie Walker IV",
          "Dejounte Murray",
          "Marco Belinelli",
          "Rudy Gay",
          "Patty Mills",
          "Derrick White",
          "Bryn Forbes",
          "LaMarcus Aldridge",
          "DeMar DeRozan",
          "Jakob Poeltl",
          "Others",
          "Trey Lyles",
          "Lonnie Walker IV",
          "Dejounte Murray",
          "Marco Belinelli",
          "Rudy Gay",
          "Patty Mills",
          "Derrick White",
          "Bryn Forbes",
          "LaMarcus Aldridge",
          "DeMar DeRozan",
          "Jakob Poeltl",
          "Others",
          "Trey Lyles",
          "Lonnie Walker IV",
          "Dejounte Murray",
          "Marco Belinelli",
          "Rudy Gay",
          "Patty Mills",
          "Derrick White",
          "Bryn Forbes",
          "LaMarcus Aldridge",
          "DeMar DeRozan",
          "Jakob Poeltl",
          "Others",
          "Trey Lyles",
          "Lonnie Walker IV",
          "Dejounte Murray",
          "Marco Belinelli",
          "Rudy Gay",
          "Patty Mills",
          "Derrick White",
          "Bryn Forbes",
          "LaMarcus Aldridge",
          "DeMar DeRozan",
          "Jakob Poeltl",
          "Others",
          "Trey Lyles",
          "Lonnie Walker IV",
          "Dejounte Murray",
          "Marco Belinelli",
          "Rudy Gay",
          "Patty Mills",
          "Derrick White",
          "Bryn Forbes",
          "LaMarcus Aldridge",
          "DeMar DeRozan",
          "Jakob Poeltl",
          "Others",
          "Trey Lyles",
          "Lonnie Walker IV",
          "Dejounte Murray",
          "Marco Belinelli",
          "Rudy Gay",
          "Patty Mills",
          "Derrick White",
          "Bryn Forbes",
          "LaMarcus Aldridge",
          "DeMar DeRozan",
          "Jakob Poeltl",
          "Others",
          "Trey Lyles",
          "Lonnie Walker IV",
          "Dejounte Murray",
          "Marco Belinelli",
          "Rudy Gay",
          "Patty Mills",
          "Derrick White",
          "Bryn Forbes",
          "LaMarcus Aldridge",
          "DeMar DeRozan",
          "Jakob Poeltl",
          "Others",
          "Trey Lyles",
          "Lonnie Walker IV",
          "Dejounte Murray",
          "Marco Belinelli",
          "Rudy Gay",
          "Patty Mills",
          "Derrick White",
          "Bryn Forbes",
          "LaMarcus Aldridge",
          "DeMar DeRozan"
         ],
         "legendgroup": "",
         "marker": {
          "color": [
           137.5,
           89.2,
           99.1,
           68.8,
           106.8,
           74.4,
           94.8,
           121.5,
           104.3,
           100,
           102.8,
           109.6,
           137.5,
           89.2,
           99.1,
           68.8,
           106.8,
           74.4,
           94.8,
           121.5,
           104.3,
           100,
           102.8,
           109.6,
           137.5,
           89.2,
           99.1,
           68.8,
           106.8,
           74.4,
           94.8,
           121.5,
           104.3,
           100,
           102.8,
           109.6,
           137.5,
           89.2,
           99.1,
           68.8,
           106.8,
           74.4,
           94.8,
           121.5,
           104.3,
           100,
           102.8,
           109.6,
           137.5,
           89.2,
           99.1,
           68.8,
           106.8,
           74.4,
           94.8,
           121.5,
           104.3,
           100,
           102.8,
           109.6,
           137.5,
           89.2,
           99.1,
           68.8,
           106.8,
           74.4,
           94.8,
           121.5,
           104.3,
           100,
           102.8,
           109.6,
           137.5,
           89.2,
           99.1,
           68.8,
           106.8,
           74.4,
           94.8,
           121.5,
           104.3,
           100,
           102.8,
           109.6,
           137.5,
           89.2,
           99.1,
           68.8,
           106.8,
           74.4,
           94.8,
           121.5,
           104.3,
           100,
           102.8,
           109.6,
           137.5,
           89.2,
           99.1,
           68.8,
           106.8,
           74.4,
           94.8,
           121.5,
           104.3,
           100,
           102.8,
           109.6,
           137.5,
           89.2,
           99.1,
           68.8,
           106.8,
           74.4,
           94.8,
           121.5,
           104.3,
           100,
           102.8,
           109.6,
           137.5,
           89.2,
           99.1,
           68.8,
           106.8,
           74.4,
           94.8,
           121.5,
           104.3,
           100,
           102.8,
           109.6,
           137.5,
           89.2,
           99.1,
           68.8,
           106.8,
           74.4,
           94.8,
           121.5,
           104.3,
           100,
           102.8,
           109.6,
           120,
           89.2,
           95.1,
           93.1,
           92.9,
           100,
           102.6,
           114.5,
           101.1,
           115.2,
           109.7,
           116,
           120,
           89.2,
           95.1,
           93.1,
           92.9,
           100,
           102.6,
           114.5,
           101.1,
           115.2,
           109.7,
           116,
           120,
           89.2,
           95.1,
           93.1,
           92.9,
           100,
           102.6,
           114.5,
           101.1,
           115.2,
           109.7,
           116,
           120,
           89.2,
           95.1,
           93.1,
           92.9,
           100,
           102.6,
           114.5,
           101.1,
           115.2,
           109.7,
           116,
           120,
           89.2,
           95.1,
           93.1,
           92.9,
           100,
           102.6,
           114.5,
           101.1,
           115.2,
           109.7,
           116,
           120,
           89.2,
           95.1,
           93.1,
           92.9,
           100,
           102.6,
           114.5,
           101.1,
           115.2,
           109.7,
           116,
           120,
           89.2,
           95.1,
           93.1,
           92.9,
           100,
           102.6,
           114.5,
           101.1,
           115.2,
           109.7,
           116,
           120,
           89.2,
           95.1,
           93.1,
           92.9,
           100,
           102.6,
           114.5,
           101.1,
           115.2,
           109.7,
           116,
           120,
           89.2,
           95.1,
           93.1,
           92.9,
           100,
           102.6,
           114.5,
           101.1,
           115.2,
           109.7,
           116,
           120,
           89.2,
           95.1,
           93.1,
           92.9,
           100,
           102.6,
           114.5,
           101.1,
           115.2,
           109.7,
           116,
           120,
           89.2,
           95.1,
           93.1,
           92.9,
           100,
           102.6,
           114.5,
           101.1,
           115.2,
           109.7,
           116,
           120,
           89.2,
           95.1,
           93.1,
           92.9,
           100,
           102.6,
           114.5,
           101.1,
           115.2,
           109.7,
           116,
           123.1,
           89.2,
           109.5,
           100,
           101,
           82.9,
           83.3,
           112.2,
           113.3,
           113.4,
           111.1,
           98.2,
           123.1,
           89.2,
           109.5,
           100,
           101,
           82.9,
           83.3,
           112.2,
           113.3,
           113.4,
           111.1,
           98.2,
           123.1,
           89.2,
           109.5,
           100,
           101,
           82.9,
           83.3,
           112.2,
           113.3,
           113.4,
           111.1,
           98.2,
           123.1,
           89.2,
           109.5,
           100,
           101,
           82.9,
           83.3,
           112.2,
           113.3,
           113.4,
           111.1,
           98.2,
           123.1,
           89.2,
           109.5,
           100,
           101,
           82.9,
           83.3,
           112.2,
           113.3,
           113.4,
           111.1,
           98.2,
           123.1,
           89.2,
           109.5,
           100,
           101,
           82.9,
           83.3,
           112.2,
           113.3,
           113.4,
           111.1,
           98.2,
           123.1,
           89.2,
           109.5,
           100,
           101,
           82.9,
           83.3,
           112.2,
           113.3,
           113.4,
           111.1,
           98.2,
           123.1,
           89.2,
           109.5,
           100,
           101,
           82.9,
           83.3,
           112.2,
           113.3,
           113.4,
           111.1,
           98.2,
           123.1,
           89.2,
           109.5,
           100,
           101,
           82.9,
           83.3,
           112.2,
           113.3,
           113.4,
           111.1,
           98.2,
           123.1,
           89.2,
           109.5,
           100,
           101,
           82.9,
           83.3,
           112.2,
           113.3,
           113.4,
           111.1,
           98.2,
           123.1,
           89.2,
           109.5,
           100,
           101,
           82.9,
           83.3,
           112.2,
           113.3,
           113.4,
           111.1,
           98.2,
           123.1,
           89.2,
           109.5,
           100,
           101,
           82.9,
           83.3,
           112.2,
           113.3,
           113.4,
           111.1,
           98.2,
           105.9,
           89.2,
           129.2,
           136.5,
           101.1,
           92,
           114.5,
           93.5,
           101,
           93.2,
           104.2,
           105.8,
           105.9,
           89.2,
           129.2,
           136.5,
           101.1,
           92,
           114.5,
           93.5,
           101,
           93.2,
           104.2,
           105.8,
           105.9,
           89.2,
           129.2,
           136.5,
           101.1,
           92,
           114.5,
           93.5,
           101,
           93.2,
           104.2,
           105.8,
           105.9,
           89.2,
           129.2,
           136.5,
           101.1,
           92,
           114.5,
           93.5,
           101,
           93.2,
           104.2,
           105.8,
           105.9,
           89.2,
           129.2,
           136.5,
           101.1,
           92,
           114.5,
           93.5,
           101,
           93.2,
           104.2,
           105.8,
           105.9,
           89.2,
           129.2,
           136.5,
           101.1,
           92,
           114.5,
           93.5,
           101,
           93.2,
           104.2,
           105.8,
           105.9,
           89.2,
           129.2,
           136.5,
           101.1,
           92,
           114.5,
           93.5,
           101,
           93.2,
           104.2,
           105.8,
           105.9,
           89.2,
           129.2,
           136.5,
           101.1,
           92,
           114.5,
           93.5,
           101,
           93.2,
           104.2,
           105.8,
           105.9,
           89.2,
           129.2,
           136.5,
           101.1,
           92,
           114.5,
           93.5,
           101,
           93.2,
           104.2,
           105.8,
           105.9,
           89.2,
           129.2,
           136.5,
           101.1,
           92,
           114.5,
           93.5,
           101,
           93.2,
           104.2,
           105.8,
           105.9,
           89.2,
           129.2,
           136.5,
           101.1,
           92,
           114.5,
           93.5,
           101,
           93.2,
           104.2,
           105.8,
           105.9,
           89.2,
           129.2,
           136.5,
           101.1,
           92,
           114.5,
           93.5,
           101,
           93.2,
           104.2,
           105.8
          ],
          "coloraxis": "coloraxis",
          "line": {
           "color": "Navy",
           "width": 1
          },
          "size": [
           1.2,
           0,
           7.3,
           0,
           12.2,
           0,
           2.4,
           0,
           2.4,
           28,
           30.5,
           15.9,
           1.9,
           0,
           17.3,
           0,
           10.6,
           0,
           1,
           0,
           1.9,
           17.3,
           26.9,
           23.1,
           2,
           0,
           13.9,
           1,
           12.9,
           0,
           0,
           0,
           1,
           20.8,
           28.7,
           19.8,
           2.5,
           0,
           15.1,
           2.5,
           14.3,
           0,
           5,
           0,
           4.2,
           16.8,
           23.5,
           16,
           2.1,
           0,
           11.7,
           3.2,
           10.6,
           0,
           2.1,
           1.1,
           5.3,
           20.2,
           27.7,
           16,
           2.1,
           0,
           7.4,
           1.1,
           17.9,
           1.1,
           3.2,
           5.3,
           4.2,
           9.5,
           28.4,
           20,
           2.8,
           0,
           9.3,
           0,
           14.8,
           2.8,
           6.5,
           6.5,
           3.7,
           13.9,
           19.4,
           20.4,
           0,
           0,
           9.5,
           2.1,
           3.2,
           2.1,
           9.5,
           12.6,
           8.4,
           6.3,
           18.9,
           27.4,
           6.2,
           2.1,
           3.1,
           1,
           3.1,
           3.1,
           21.6,
           17.5,
           15.5,
           1,
           11.3,
           14.4,
           6.1,
           0,
           2.6,
           5.3,
           3.5,
           7,
           18.4,
           23.7,
           9.6,
           0,
           15.8,
           7.9,
           6.1,
           3,
           1,
           7.1,
           7.1,
           9.1,
           10.1,
           28.3,
           10.1,
           1,
           11.1,
           6.1,
           11.7,
           0.8,
           5,
           6.7,
           5.8,
           10.8,
           11.7,
           20,
           21.7,
           0,
           5.8,
           0,
           9.3,
           1.2,
           1.2,
           3.5,
           7,
           11.6,
           26.7,
           24.4,
           10.5,
           1.2,
           1.2,
           2.3,
           12.1,
           1.9,
           0,
           8.4,
           8.4,
           9.3,
           18.7,
           23.4,
           10.3,
           1.9,
           2.8,
           2.8,
           11.7,
           1.9,
           1,
           6.8,
           7.8,
           13.6,
           13.6,
           21.4,
           10.7,
           4.9,
           3.9,
           2.9,
           7.5,
           0.9,
           2.8,
           12.3,
           12.3,
           10.4,
           5.7,
           10.4,
           7.5,
           13.2,
           10.4,
           6.6,
           6.6,
           1.9,
           8.5,
           6.6,
           11.3,
           10.4,
           8.5,
           2.8,
           2.8,
           15.1,
           9.4,
           16,
           5.2,
           3.1,
           6.2,
           5.2,
           13.5,
           2.1,
           6.2,
           2.1,
           6.2,
           19.8,
           8.3,
           21.9,
           3.1,
           0,
           6.1,
           3.1,
           18.4,
           6.1,
           2,
           4.1,
           3.1,
           17.3,
           19.4,
           17.3,
           2,
           1,
           8.9,
           1,
           9.9,
           4,
           5,
           3,
           4,
           12.9,
           24.8,
           23.8,
           1,
           0,
           9.6,
           0,
           11.5,
           4.8,
           5.8,
           2.9,
           12.5,
           13.5,
           15.4,
           23.1,
           3,
           1,
           3,
           2,
           8,
           5,
           3,
           12,
           5,
           12,
           18,
           28,
           0,
           0,
           4.4,
           4.4,
           8.8,
           3.5,
           13.2,
           10.5,
           11.4,
           4.4,
           18.4,
           21.1,
           2.7,
           0.9,
           7.1,
           2.7,
           7.1,
           2.7,
           7.1,
           11.6,
           8,
           6.2,
           17,
           26.8,
           3.5,
           0,
           5.8,
           2.3,
           8.1,
           0,
           3.5,
           0,
           3.5,
           24.4,
           24.4,
           24.4,
           3.2,
           0,
           7.4,
           3.2,
           13.7,
           0,
           1.1,
           0,
           4.2,
           23.2,
           26.3,
           17.9,
           1,
           0,
           9.5,
           1,
           12.4,
           0,
           2.9,
           1.9,
           1.9,
           26.7,
           22.9,
           20,
           1.1,
           0,
           5.5,
           1.1,
           19.8,
           0,
           1.1,
           2.2,
           2.2,
           14.3,
           26.4,
           26.4,
           3.1,
           0,
           13.3,
           2,
           14.3,
           1,
           4.1,
           4.1,
           4.1,
           14.3,
           17.3,
           22.4,
           5.3,
           0,
           9.6,
           3.2,
           10.6,
           0,
           6.4,
           6.4,
           4.3,
           11.7,
           16,
           26.6,
           1.1,
           0,
           2.1,
           3.2,
           4.2,
           3.2,
           11.6,
           5.3,
           8.4,
           14.7,
           17.9,
           28.4,
           5.8,
           1,
           1.9,
           0,
           4.9,
           1.9,
           16.5,
           15.5,
           11.7,
           2.9,
           17.5,
           20.4,
           4,
           1,
           2,
           9.1,
           4,
           5.1,
           19.2,
           15.2,
           15.2,
           1,
           10.1,
           14.1,
           7.2,
           0,
           2.1,
           6.2,
           2.1,
           8.2,
           11.3,
           23.7,
           12.4,
           2.1,
           12.4,
           12.4,
           8.8,
           0,
           2.2,
           13.2,
           2.2,
           9.9,
           17.6,
           18.7,
           14.3,
           2.2,
           3.3,
           7.7,
           7.6,
           0.8,
           3.1,
           8.4,
           3.8,
           5.3,
           16.8,
           25.2,
           14.5,
           2.3,
           3.1,
           9.2,
           9.5,
           2.4,
           1.2,
           7.1,
           6,
           11.9,
           21.4,
           26.2,
           7.1,
           2.4,
           2.4,
           2.4,
           5.6,
           2.2,
           4.5,
           11.2,
           5.6,
           7.9,
           18,
           23.6,
           14.6,
           1.1,
           3.4,
           2.2,
           7.8,
           2.2,
           3.3,
           5.6,
           6.7,
           10,
           11.1,
           14.4,
           14.4,
           8.9,
           4.4,
           11.1,
           8.7,
           1.1,
           2.2,
           9.8,
           14.1,
           8.7,
           6.5,
           4.3,
           6.5,
           12,
           7.6,
           18.5,
           2.2,
           1.1,
           2.2,
           6.7,
           13.5,
           12.4,
           3.4,
           4.5,
           4.5,
           11.2,
           9,
           29.2,
           0,
           0,
           2.8,
           2.8,
           18.1,
           5.6,
           0,
           2.8,
           6.9,
           12.5,
           26.4,
           22.2,
           0,
           1.4,
           1.4,
           1.4,
           20.3,
           8.1,
           4.1,
           1.4,
           5.4,
           9.5,
           17.6,
           29.7,
           1.3,
           0,
           2.7,
           6.7,
           8,
           2.7,
           1.3,
           1.3,
           14.7,
           4,
           33.3,
           24,
           0,
           0,
           0,
           2.8,
           6.9,
           2.8,
           2.8,
           12.5,
           12.5,
           13.9,
           12.5,
           33.3,
           1.6,
           1.6,
           1.6,
           0,
           1.6,
           9.5,
           6.3,
           14.3,
           7.9,
           23.8,
           14.3,
           17.5,
           0,
           2.6,
           1.3,
           3.9,
           5.3,
           3.9,
           2.6,
           18.4,
           11.8,
           10.5,
           13.2,
           26.3,
           1.9,
           1.9,
           4.7,
           2.8,
           1.9,
           6.5,
           10.3,
           6.5,
           14,
           17.8,
           10.3,
           21.5
          ],
          "sizemode": "area",
          "sizeref": 0.26666666666666666,
          "symbol": "circle"
         },
         "mode": "markers",
         "name": "",
         "showlegend": false,
         "type": "scatter",
         "x": [
          0.5,
          0.5,
          0.5,
          0.5,
          0.5,
          0.5,
          0.5,
          0.5,
          0.5,
          0.5,
          0.5,
          0.5,
          1.5,
          1.5,
          1.5,
          1.5,
          1.5,
          1.5,
          1.5,
          1.5,
          1.5,
          1.5,
          1.5,
          1.5,
          2.5,
          2.5,
          2.5,
          2.5,
          2.5,
          2.5,
          2.5,
          2.5,
          2.5,
          2.5,
          2.5,
          2.5,
          3.5,
          3.5,
          3.5,
          3.5,
          3.5,
          3.5,
          3.5,
          3.5,
          3.5,
          3.5,
          3.5,
          3.5,
          4.5,
          4.5,
          4.5,
          4.5,
          4.5,
          4.5,
          4.5,
          4.5,
          4.5,
          4.5,
          4.5,
          4.5,
          5.5,
          5.5,
          5.5,
          5.5,
          5.5,
          5.5,
          5.5,
          5.5,
          5.5,
          5.5,
          5.5,
          5.5,
          6.5,
          6.5,
          6.5,
          6.5,
          6.5,
          6.5,
          6.5,
          6.5,
          6.5,
          6.5,
          6.5,
          6.5,
          7.5,
          7.5,
          7.5,
          7.5,
          7.5,
          7.5,
          7.5,
          7.5,
          7.5,
          7.5,
          7.5,
          7.5,
          8.5,
          8.5,
          8.5,
          8.5,
          8.5,
          8.5,
          8.5,
          8.5,
          8.5,
          8.5,
          8.5,
          8.5,
          9.5,
          9.5,
          9.5,
          9.5,
          9.5,
          9.5,
          9.5,
          9.5,
          9.5,
          9.5,
          9.5,
          9.5,
          10.5,
          10.5,
          10.5,
          10.5,
          10.5,
          10.5,
          10.5,
          10.5,
          10.5,
          10.5,
          10.5,
          10.5,
          11.5,
          11.5,
          11.5,
          11.5,
          11.5,
          11.5,
          11.5,
          11.5,
          11.5,
          11.5,
          11.5,
          11.5,
          12.5,
          12.5,
          12.5,
          12.5,
          12.5,
          12.5,
          12.5,
          12.5,
          12.5,
          12.5,
          12.5,
          12.5,
          13.5,
          13.5,
          13.5,
          13.5,
          13.5,
          13.5,
          13.5,
          13.5,
          13.5,
          13.5,
          13.5,
          13.5,
          14.5,
          14.5,
          14.5,
          14.5,
          14.5,
          14.5,
          14.5,
          14.5,
          14.5,
          14.5,
          14.5,
          14.5,
          15.5,
          15.5,
          15.5,
          15.5,
          15.5,
          15.5,
          15.5,
          15.5,
          15.5,
          15.5,
          15.5,
          15.5,
          16.5,
          16.5,
          16.5,
          16.5,
          16.5,
          16.5,
          16.5,
          16.5,
          16.5,
          16.5,
          16.5,
          16.5,
          17.5,
          17.5,
          17.5,
          17.5,
          17.5,
          17.5,
          17.5,
          17.5,
          17.5,
          17.5,
          17.5,
          17.5,
          18.5,
          18.5,
          18.5,
          18.5,
          18.5,
          18.5,
          18.5,
          18.5,
          18.5,
          18.5,
          18.5,
          18.5,
          19.5,
          19.5,
          19.5,
          19.5,
          19.5,
          19.5,
          19.5,
          19.5,
          19.5,
          19.5,
          19.5,
          19.5,
          20.5,
          20.5,
          20.5,
          20.5,
          20.5,
          20.5,
          20.5,
          20.5,
          20.5,
          20.5,
          20.5,
          20.5,
          21.5,
          21.5,
          21.5,
          21.5,
          21.5,
          21.5,
          21.5,
          21.5,
          21.5,
          21.5,
          21.5,
          21.5,
          22.5,
          22.5,
          22.5,
          22.5,
          22.5,
          22.5,
          22.5,
          22.5,
          22.5,
          22.5,
          22.5,
          22.5,
          23.5,
          23.5,
          23.5,
          23.5,
          23.5,
          23.5,
          23.5,
          23.5,
          23.5,
          23.5,
          23.5,
          23.5,
          24.5,
          24.5,
          24.5,
          24.5,
          24.5,
          24.5,
          24.5,
          24.5,
          24.5,
          24.5,
          24.5,
          24.5,
          25.5,
          25.5,
          25.5,
          25.5,
          25.5,
          25.5,
          25.5,
          25.5,
          25.5,
          25.5,
          25.5,
          25.5,
          26.5,
          26.5,
          26.5,
          26.5,
          26.5,
          26.5,
          26.5,
          26.5,
          26.5,
          26.5,
          26.5,
          26.5,
          27.5,
          27.5,
          27.5,
          27.5,
          27.5,
          27.5,
          27.5,
          27.5,
          27.5,
          27.5,
          27.5,
          27.5,
          28.5,
          28.5,
          28.5,
          28.5,
          28.5,
          28.5,
          28.5,
          28.5,
          28.5,
          28.5,
          28.5,
          28.5,
          29.5,
          29.5,
          29.5,
          29.5,
          29.5,
          29.5,
          29.5,
          29.5,
          29.5,
          29.5,
          29.5,
          29.5,
          30.5,
          30.5,
          30.5,
          30.5,
          30.5,
          30.5,
          30.5,
          30.5,
          30.5,
          30.5,
          30.5,
          30.5,
          31.5,
          31.5,
          31.5,
          31.5,
          31.5,
          31.5,
          31.5,
          31.5,
          31.5,
          31.5,
          31.5,
          31.5,
          32.5,
          32.5,
          32.5,
          32.5,
          32.5,
          32.5,
          32.5,
          32.5,
          32.5,
          32.5,
          32.5,
          32.5,
          33.5,
          33.5,
          33.5,
          33.5,
          33.5,
          33.5,
          33.5,
          33.5,
          33.5,
          33.5,
          33.5,
          33.5,
          34.5,
          34.5,
          34.5,
          34.5,
          34.5,
          34.5,
          34.5,
          34.5,
          34.5,
          34.5,
          34.5,
          34.5,
          35.5,
          35.5,
          35.5,
          35.5,
          35.5,
          35.5,
          35.5,
          35.5,
          35.5,
          35.5,
          35.5,
          35.5,
          36.5,
          36.5,
          36.5,
          36.5,
          36.5,
          36.5,
          36.5,
          36.5,
          36.5,
          36.5,
          36.5,
          36.5,
          37.5,
          37.5,
          37.5,
          37.5,
          37.5,
          37.5,
          37.5,
          37.5,
          37.5,
          37.5,
          37.5,
          37.5,
          38.5,
          38.5,
          38.5,
          38.5,
          38.5,
          38.5,
          38.5,
          38.5,
          38.5,
          38.5,
          38.5,
          38.5,
          39.5,
          39.5,
          39.5,
          39.5,
          39.5,
          39.5,
          39.5,
          39.5,
          39.5,
          39.5,
          39.5,
          39.5,
          40.5,
          40.5,
          40.5,
          40.5,
          40.5,
          40.5,
          40.5,
          40.5,
          40.5,
          40.5,
          40.5,
          40.5,
          41.5,
          41.5,
          41.5,
          41.5,
          41.5,
          41.5,
          41.5,
          41.5,
          41.5,
          41.5,
          41.5,
          41.5,
          42.5,
          42.5,
          42.5,
          42.5,
          42.5,
          42.5,
          42.5,
          42.5,
          42.5,
          42.5,
          42.5,
          42.5,
          43.5,
          43.5,
          43.5,
          43.5,
          43.5,
          43.5,
          43.5,
          43.5,
          43.5,
          43.5,
          43.5,
          43.5,
          44.5,
          44.5,
          44.5,
          44.5,
          44.5,
          44.5,
          44.5,
          44.5,
          44.5,
          44.5,
          44.5,
          44.5,
          45.5,
          45.5,
          45.5,
          45.5,
          45.5,
          45.5,
          45.5,
          45.5,
          45.5,
          45.5,
          45.5,
          45.5,
          46.5,
          46.5,
          46.5,
          46.5,
          46.5,
          46.5,
          46.5,
          46.5,
          46.5,
          46.5,
          46.5,
          46.5,
          47.5,
          47.5,
          47.5,
          47.5,
          47.5,
          47.5,
          47.5,
          47.5,
          47.5,
          47.5,
          47.5,
          47.5
         ],
         "xaxis": "x",
         "y": [
          "Jakob Poeltl",
          "Others",
          "Trey Lyles",
          "Lonnie Walker IV",
          "Dejounte Murray",
          "Marco Belinelli",
          "Rudy Gay",
          "Patty Mills",
          "Derrick White",
          "Bryn Forbes",
          "LaMarcus Aldridge",
          "DeMar DeRozan",
          "Jakob Poeltl",
          "Others",
          "Trey Lyles",
          "Lonnie Walker IV",
          "Dejounte Murray",
          "Marco Belinelli",
          "Rudy Gay",
          "Patty Mills",
          "Derrick White",
          "Bryn Forbes",
          "LaMarcus Aldridge",
          "DeMar DeRozan",
          "Jakob Poeltl",
          "Others",
          "Trey Lyles",
          "Lonnie Walker IV",
          "Dejounte Murray",
          "Marco Belinelli",
          "Rudy Gay",
          "Patty Mills",
          "Derrick White",
          "Bryn Forbes",
          "LaMarcus Aldridge",
          "DeMar DeRozan",
          "Jakob Poeltl",
          "Others",
          "Trey Lyles",
          "Lonnie Walker IV",
          "Dejounte Murray",
          "Marco Belinelli",
          "Rudy Gay",
          "Patty Mills",
          "Derrick White",
          "Bryn Forbes",
          "LaMarcus Aldridge",
          "DeMar DeRozan",
          "Jakob Poeltl",
          "Others",
          "Trey Lyles",
          "Lonnie Walker IV",
          "Dejounte Murray",
          "Marco Belinelli",
          "Rudy Gay",
          "Patty Mills",
          "Derrick White",
          "Bryn Forbes",
          "LaMarcus Aldridge",
          "DeMar DeRozan",
          "Jakob Poeltl",
          "Others",
          "Trey Lyles",
          "Lonnie Walker IV",
          "Dejounte Murray",
          "Marco Belinelli",
          "Rudy Gay",
          "Patty Mills",
          "Derrick White",
          "Bryn Forbes",
          "LaMarcus Aldridge",
          "DeMar DeRozan",
          "Jakob Poeltl",
          "Others",
          "Trey Lyles",
          "Lonnie Walker IV",
          "Dejounte Murray",
          "Marco Belinelli",
          "Rudy Gay",
          "Patty Mills",
          "Derrick White",
          "Bryn Forbes",
          "LaMarcus Aldridge",
          "DeMar DeRozan",
          "Jakob Poeltl",
          "Others",
          "Trey Lyles",
          "Lonnie Walker IV",
          "Dejounte Murray",
          "Marco Belinelli",
          "Rudy Gay",
          "Patty Mills",
          "Derrick White",
          "Bryn Forbes",
          "LaMarcus Aldridge",
          "DeMar DeRozan",
          "Jakob Poeltl",
          "Others",
          "Trey Lyles",
          "Lonnie Walker IV",
          "Dejounte Murray",
          "Marco Belinelli",
          "Rudy Gay",
          "Patty Mills",
          "Derrick White",
          "Bryn Forbes",
          "LaMarcus Aldridge",
          "DeMar DeRozan",
          "Jakob Poeltl",
          "Others",
          "Trey Lyles",
          "Lonnie Walker IV",
          "Dejounte Murray",
          "Marco Belinelli",
          "Rudy Gay",
          "Patty Mills",
          "Derrick White",
          "Bryn Forbes",
          "LaMarcus Aldridge",
          "DeMar DeRozan",
          "Jakob Poeltl",
          "Others",
          "Trey Lyles",
          "Lonnie Walker IV",
          "Dejounte Murray",
          "Marco Belinelli",
          "Rudy Gay",
          "Patty Mills",
          "Derrick White",
          "Bryn Forbes",
          "LaMarcus Aldridge",
          "DeMar DeRozan",
          "Jakob Poeltl",
          "Others",
          "Trey Lyles",
          "Lonnie Walker IV",
          "Dejounte Murray",
          "Marco Belinelli",
          "Rudy Gay",
          "Patty Mills",
          "Derrick White",
          "Bryn Forbes",
          "LaMarcus Aldridge",
          "DeMar DeRozan",
          "Jakob Poeltl",
          "Others",
          "Trey Lyles",
          "Lonnie Walker IV",
          "Dejounte Murray",
          "Marco Belinelli",
          "Rudy Gay",
          "Patty Mills",
          "Derrick White",
          "Bryn Forbes",
          "LaMarcus Aldridge",
          "DeMar DeRozan",
          "Jakob Poeltl",
          "Others",
          "Trey Lyles",
          "Lonnie Walker IV",
          "Dejounte Murray",
          "Marco Belinelli",
          "Rudy Gay",
          "Patty Mills",
          "Derrick White",
          "Bryn Forbes",
          "LaMarcus Aldridge",
          "DeMar DeRozan",
          "Jakob Poeltl",
          "Others",
          "Trey Lyles",
          "Lonnie Walker IV",
          "Dejounte Murray",
          "Marco Belinelli",
          "Rudy Gay",
          "Patty Mills",
          "Derrick White",
          "Bryn Forbes",
          "LaMarcus Aldridge",
          "DeMar DeRozan",
          "Jakob Poeltl",
          "Others",
          "Trey Lyles",
          "Lonnie Walker IV",
          "Dejounte Murray",
          "Marco Belinelli",
          "Rudy Gay",
          "Patty Mills",
          "Derrick White",
          "Bryn Forbes",
          "LaMarcus Aldridge",
          "DeMar DeRozan",
          "Jakob Poeltl",
          "Others",
          "Trey Lyles",
          "Lonnie Walker IV",
          "Dejounte Murray",
          "Marco Belinelli",
          "Rudy Gay",
          "Patty Mills",
          "Derrick White",
          "Bryn Forbes",
          "LaMarcus Aldridge",
          "DeMar DeRozan",
          "Jakob Poeltl",
          "Others",
          "Trey Lyles",
          "Lonnie Walker IV",
          "Dejounte Murray",
          "Marco Belinelli",
          "Rudy Gay",
          "Patty Mills",
          "Derrick White",
          "Bryn Forbes",
          "LaMarcus Aldridge",
          "DeMar DeRozan",
          "Jakob Poeltl",
          "Others",
          "Trey Lyles",
          "Lonnie Walker IV",
          "Dejounte Murray",
          "Marco Belinelli",
          "Rudy Gay",
          "Patty Mills",
          "Derrick White",
          "Bryn Forbes",
          "LaMarcus Aldridge",
          "DeMar DeRozan",
          "Jakob Poeltl",
          "Others",
          "Trey Lyles",
          "Lonnie Walker IV",
          "Dejounte Murray",
          "Marco Belinelli",
          "Rudy Gay",
          "Patty Mills",
          "Derrick White",
          "Bryn Forbes",
          "LaMarcus Aldridge",
          "DeMar DeRozan",
          "Jakob Poeltl",
          "Others",
          "Trey Lyles",
          "Lonnie Walker IV",
          "Dejounte Murray",
          "Marco Belinelli",
          "Rudy Gay",
          "Patty Mills",
          "Derrick White",
          "Bryn Forbes",
          "LaMarcus Aldridge",
          "DeMar DeRozan",
          "Jakob Poeltl",
          "Others",
          "Trey Lyles",
          "Lonnie Walker IV",
          "Dejounte Murray",
          "Marco Belinelli",
          "Rudy Gay",
          "Patty Mills",
          "Derrick White",
          "Bryn Forbes",
          "LaMarcus Aldridge",
          "DeMar DeRozan",
          "Jakob Poeltl",
          "Others",
          "Trey Lyles",
          "Lonnie Walker IV",
          "Dejounte Murray",
          "Marco Belinelli",
          "Rudy Gay",
          "Patty Mills",
          "Derrick White",
          "Bryn Forbes",
          "LaMarcus Aldridge",
          "DeMar DeRozan",
          "Jakob Poeltl",
          "Others",
          "Trey Lyles",
          "Lonnie Walker IV",
          "Dejounte Murray",
          "Marco Belinelli",
          "Rudy Gay",
          "Patty Mills",
          "Derrick White",
          "Bryn Forbes",
          "LaMarcus Aldridge",
          "DeMar DeRozan",
          "Jakob Poeltl",
          "Others",
          "Trey Lyles",
          "Lonnie Walker IV",
          "Dejounte Murray",
          "Marco Belinelli",
          "Rudy Gay",
          "Patty Mills",
          "Derrick White",
          "Bryn Forbes",
          "LaMarcus Aldridge",
          "DeMar DeRozan",
          "Jakob Poeltl",
          "Others",
          "Trey Lyles",
          "Lonnie Walker IV",
          "Dejounte Murray",
          "Marco Belinelli",
          "Rudy Gay",
          "Patty Mills",
          "Derrick White",
          "Bryn Forbes",
          "LaMarcus Aldridge",
          "DeMar DeRozan",
          "Jakob Poeltl",
          "Others",
          "Trey Lyles",
          "Lonnie Walker IV",
          "Dejounte Murray",
          "Marco Belinelli",
          "Rudy Gay",
          "Patty Mills",
          "Derrick White",
          "Bryn Forbes",
          "LaMarcus Aldridge",
          "DeMar DeRozan",
          "Jakob Poeltl",
          "Others",
          "Trey Lyles",
          "Lonnie Walker IV",
          "Dejounte Murray",
          "Marco Belinelli",
          "Rudy Gay",
          "Patty Mills",
          "Derrick White",
          "Bryn Forbes",
          "LaMarcus Aldridge",
          "DeMar DeRozan",
          "Jakob Poeltl",
          "Others",
          "Trey Lyles",
          "Lonnie Walker IV",
          "Dejounte Murray",
          "Marco Belinelli",
          "Rudy Gay",
          "Patty Mills",
          "Derrick White",
          "Bryn Forbes",
          "LaMarcus Aldridge",
          "DeMar DeRozan",
          "Jakob Poeltl",
          "Others",
          "Trey Lyles",
          "Lonnie Walker IV",
          "Dejounte Murray",
          "Marco Belinelli",
          "Rudy Gay",
          "Patty Mills",
          "Derrick White",
          "Bryn Forbes",
          "LaMarcus Aldridge",
          "DeMar DeRozan",
          "Jakob Poeltl",
          "Others",
          "Trey Lyles",
          "Lonnie Walker IV",
          "Dejounte Murray",
          "Marco Belinelli",
          "Rudy Gay",
          "Patty Mills",
          "Derrick White",
          "Bryn Forbes",
          "LaMarcus Aldridge",
          "DeMar DeRozan",
          "Jakob Poeltl",
          "Others",
          "Trey Lyles",
          "Lonnie Walker IV",
          "Dejounte Murray",
          "Marco Belinelli",
          "Rudy Gay",
          "Patty Mills",
          "Derrick White",
          "Bryn Forbes",
          "LaMarcus Aldridge",
          "DeMar DeRozan",
          "Jakob Poeltl",
          "Others",
          "Trey Lyles",
          "Lonnie Walker IV",
          "Dejounte Murray",
          "Marco Belinelli",
          "Rudy Gay",
          "Patty Mills",
          "Derrick White",
          "Bryn Forbes",
          "LaMarcus Aldridge",
          "DeMar DeRozan",
          "Jakob Poeltl",
          "Others",
          "Trey Lyles",
          "Lonnie Walker IV",
          "Dejounte Murray",
          "Marco Belinelli",
          "Rudy Gay",
          "Patty Mills",
          "Derrick White",
          "Bryn Forbes",
          "LaMarcus Aldridge",
          "DeMar DeRozan",
          "Jakob Poeltl",
          "Others",
          "Trey Lyles",
          "Lonnie Walker IV",
          "Dejounte Murray",
          "Marco Belinelli",
          "Rudy Gay",
          "Patty Mills",
          "Derrick White",
          "Bryn Forbes",
          "LaMarcus Aldridge",
          "DeMar DeRozan",
          "Jakob Poeltl",
          "Others",
          "Trey Lyles",
          "Lonnie Walker IV",
          "Dejounte Murray",
          "Marco Belinelli",
          "Rudy Gay",
          "Patty Mills",
          "Derrick White",
          "Bryn Forbes",
          "LaMarcus Aldridge",
          "DeMar DeRozan",
          "Jakob Poeltl",
          "Others",
          "Trey Lyles",
          "Lonnie Walker IV",
          "Dejounte Murray",
          "Marco Belinelli",
          "Rudy Gay",
          "Patty Mills",
          "Derrick White",
          "Bryn Forbes",
          "LaMarcus Aldridge",
          "DeMar DeRozan",
          "Jakob Poeltl",
          "Others",
          "Trey Lyles",
          "Lonnie Walker IV",
          "Dejounte Murray",
          "Marco Belinelli",
          "Rudy Gay",
          "Patty Mills",
          "Derrick White",
          "Bryn Forbes",
          "LaMarcus Aldridge",
          "DeMar DeRozan",
          "Jakob Poeltl",
          "Others",
          "Trey Lyles",
          "Lonnie Walker IV",
          "Dejounte Murray",
          "Marco Belinelli",
          "Rudy Gay",
          "Patty Mills",
          "Derrick White",
          "Bryn Forbes",
          "LaMarcus Aldridge",
          "DeMar DeRozan",
          "Jakob Poeltl",
          "Others",
          "Trey Lyles",
          "Lonnie Walker IV",
          "Dejounte Murray",
          "Marco Belinelli",
          "Rudy Gay",
          "Patty Mills",
          "Derrick White",
          "Bryn Forbes",
          "LaMarcus Aldridge",
          "DeMar DeRozan",
          "Jakob Poeltl",
          "Others",
          "Trey Lyles",
          "Lonnie Walker IV",
          "Dejounte Murray",
          "Marco Belinelli",
          "Rudy Gay",
          "Patty Mills",
          "Derrick White",
          "Bryn Forbes",
          "LaMarcus Aldridge",
          "DeMar DeRozan",
          "Jakob Poeltl",
          "Others",
          "Trey Lyles",
          "Lonnie Walker IV",
          "Dejounte Murray",
          "Marco Belinelli",
          "Rudy Gay",
          "Patty Mills",
          "Derrick White",
          "Bryn Forbes",
          "LaMarcus Aldridge",
          "DeMar DeRozan",
          "Jakob Poeltl",
          "Others",
          "Trey Lyles",
          "Lonnie Walker IV",
          "Dejounte Murray",
          "Marco Belinelli",
          "Rudy Gay",
          "Patty Mills",
          "Derrick White",
          "Bryn Forbes",
          "LaMarcus Aldridge",
          "DeMar DeRozan",
          "Jakob Poeltl",
          "Others",
          "Trey Lyles",
          "Lonnie Walker IV",
          "Dejounte Murray",
          "Marco Belinelli",
          "Rudy Gay",
          "Patty Mills",
          "Derrick White",
          "Bryn Forbes",
          "LaMarcus Aldridge",
          "DeMar DeRozan",
          "Jakob Poeltl",
          "Others",
          "Trey Lyles",
          "Lonnie Walker IV",
          "Dejounte Murray",
          "Marco Belinelli",
          "Rudy Gay",
          "Patty Mills",
          "Derrick White",
          "Bryn Forbes",
          "LaMarcus Aldridge",
          "DeMar DeRozan",
          "Jakob Poeltl",
          "Others",
          "Trey Lyles",
          "Lonnie Walker IV",
          "Dejounte Murray",
          "Marco Belinelli",
          "Rudy Gay",
          "Patty Mills",
          "Derrick White",
          "Bryn Forbes",
          "LaMarcus Aldridge",
          "DeMar DeRozan",
          "Jakob Poeltl",
          "Others",
          "Trey Lyles",
          "Lonnie Walker IV",
          "Dejounte Murray",
          "Marco Belinelli",
          "Rudy Gay",
          "Patty Mills",
          "Derrick White",
          "Bryn Forbes",
          "LaMarcus Aldridge",
          "DeMar DeRozan",
          "Jakob Poeltl",
          "Others",
          "Trey Lyles",
          "Lonnie Walker IV",
          "Dejounte Murray",
          "Marco Belinelli",
          "Rudy Gay",
          "Patty Mills",
          "Derrick White",
          "Bryn Forbes",
          "LaMarcus Aldridge",
          "DeMar DeRozan"
         ],
         "yaxis": "y"
        }
       ],
       "layout": {
        "annotations": [
         {
          "showarrow": false,
          "text": "Twitter: @_jphwang",
          "textangle": 0,
          "x": 0.9,
          "xref": "paper",
          "y": 1.02,
          "yref": "paper"
         }
        ],
        "coloraxis": {
         "cmax": 120,
         "cmin": 90,
         "colorbar": {
          "len": 300,
          "lenmode": "pixels",
          "outlinecolor": "#909090",
          "outlinewidth": 1,
          "thickness": 15,
          "thicknessmode": "pixels",
          "title": {
           "text": "Points per<BR>100 shots"
          },
          "x": 1.02,
          "y": 1,
          "yanchor": "top"
         },
         "colorscale": [
          [
           0,
           "rgb(49,54,149)"
          ],
          [
           0.1,
           "rgb(69,117,180)"
          ],
          [
           0.2,
           "rgb(116,173,209)"
          ],
          [
           0.3,
           "rgb(171,217,233)"
          ],
          [
           0.4,
           "rgb(224,243,248)"
          ],
          [
           0.5,
           "rgb(255,255,191)"
          ],
          [
           0.6,
           "rgb(254,224,144)"
          ],
          [
           0.7,
           "rgb(253,174,97)"
          ],
          [
           0.8,
           "rgb(244,109,67)"
          ],
          [
           0.9,
           "rgb(215,48,39)"
          ],
          [
           1,
           "rgb(165,0,38)"
          ]
         ]
        },
        "font": {
         "color": "#404040",
         "family": "Arial, Tahoma, Helvetica",
         "size": 10
        },
        "height": 500,
        "legend": {
         "itemsizing": "constant",
         "tracegroupgap": 0
        },
        "margin": {
         "t": 20
        },
        "paper_bgcolor": "white",
        "plot_bgcolor": "white",
        "template": {
         "data": {
          "bar": [
           {
            "error_x": {
             "color": "#2a3f5f"
            },
            "error_y": {
             "color": "#2a3f5f"
            },
            "marker": {
             "line": {
              "color": "#E5ECF6",
              "width": 0.5
             }
            },
            "type": "bar"
           }
          ],
          "barpolar": [
           {
            "marker": {
             "line": {
              "color": "#E5ECF6",
              "width": 0.5
             }
            },
            "type": "barpolar"
           }
          ],
          "carpet": [
           {
            "aaxis": {
             "endlinecolor": "#2a3f5f",
             "gridcolor": "white",
             "linecolor": "white",
             "minorgridcolor": "white",
             "startlinecolor": "#2a3f5f"
            },
            "baxis": {
             "endlinecolor": "#2a3f5f",
             "gridcolor": "white",
             "linecolor": "white",
             "minorgridcolor": "white",
             "startlinecolor": "#2a3f5f"
            },
            "type": "carpet"
           }
          ],
          "choropleth": [
           {
            "colorbar": {
             "outlinewidth": 0,
             "ticks": ""
            },
            "type": "choropleth"
           }
          ],
          "contour": [
           {
            "colorbar": {
             "outlinewidth": 0,
             "ticks": ""
            },
            "colorscale": [
             [
              0,
              "#0d0887"
             ],
             [
              0.1111111111111111,
              "#46039f"
             ],
             [
              0.2222222222222222,
              "#7201a8"
             ],
             [
              0.3333333333333333,
              "#9c179e"
             ],
             [
              0.4444444444444444,
              "#bd3786"
             ],
             [
              0.5555555555555556,
              "#d8576b"
             ],
             [
              0.6666666666666666,
              "#ed7953"
             ],
             [
              0.7777777777777778,
              "#fb9f3a"
             ],
             [
              0.8888888888888888,
              "#fdca26"
             ],
             [
              1,
              "#f0f921"
             ]
            ],
            "type": "contour"
           }
          ],
          "contourcarpet": [
           {
            "colorbar": {
             "outlinewidth": 0,
             "ticks": ""
            },
            "type": "contourcarpet"
           }
          ],
          "heatmap": [
           {
            "colorbar": {
             "outlinewidth": 0,
             "ticks": ""
            },
            "colorscale": [
             [
              0,
              "#0d0887"
             ],
             [
              0.1111111111111111,
              "#46039f"
             ],
             [
              0.2222222222222222,
              "#7201a8"
             ],
             [
              0.3333333333333333,
              "#9c179e"
             ],
             [
              0.4444444444444444,
              "#bd3786"
             ],
             [
              0.5555555555555556,
              "#d8576b"
             ],
             [
              0.6666666666666666,
              "#ed7953"
             ],
             [
              0.7777777777777778,
              "#fb9f3a"
             ],
             [
              0.8888888888888888,
              "#fdca26"
             ],
             [
              1,
              "#f0f921"
             ]
            ],
            "type": "heatmap"
           }
          ],
          "heatmapgl": [
           {
            "colorbar": {
             "outlinewidth": 0,
             "ticks": ""
            },
            "colorscale": [
             [
              0,
              "#0d0887"
             ],
             [
              0.1111111111111111,
              "#46039f"
             ],
             [
              0.2222222222222222,
              "#7201a8"
             ],
             [
              0.3333333333333333,
              "#9c179e"
             ],
             [
              0.4444444444444444,
              "#bd3786"
             ],
             [
              0.5555555555555556,
              "#d8576b"
             ],
             [
              0.6666666666666666,
              "#ed7953"
             ],
             [
              0.7777777777777778,
              "#fb9f3a"
             ],
             [
              0.8888888888888888,
              "#fdca26"
             ],
             [
              1,
              "#f0f921"
             ]
            ],
            "type": "heatmapgl"
           }
          ],
          "histogram": [
           {
            "marker": {
             "colorbar": {
              "outlinewidth": 0,
              "ticks": ""
             }
            },
            "type": "histogram"
           }
          ],
          "histogram2d": [
           {
            "colorbar": {
             "outlinewidth": 0,
             "ticks": ""
            },
            "colorscale": [
             [
              0,
              "#0d0887"
             ],
             [
              0.1111111111111111,
              "#46039f"
             ],
             [
              0.2222222222222222,
              "#7201a8"
             ],
             [
              0.3333333333333333,
              "#9c179e"
             ],
             [
              0.4444444444444444,
              "#bd3786"
             ],
             [
              0.5555555555555556,
              "#d8576b"
             ],
             [
              0.6666666666666666,
              "#ed7953"
             ],
             [
              0.7777777777777778,
              "#fb9f3a"
             ],
             [
              0.8888888888888888,
              "#fdca26"
             ],
             [
              1,
              "#f0f921"
             ]
            ],
            "type": "histogram2d"
           }
          ],
          "histogram2dcontour": [
           {
            "colorbar": {
             "outlinewidth": 0,
             "ticks": ""
            },
            "colorscale": [
             [
              0,
              "#0d0887"
             ],
             [
              0.1111111111111111,
              "#46039f"
             ],
             [
              0.2222222222222222,
              "#7201a8"
             ],
             [
              0.3333333333333333,
              "#9c179e"
             ],
             [
              0.4444444444444444,
              "#bd3786"
             ],
             [
              0.5555555555555556,
              "#d8576b"
             ],
             [
              0.6666666666666666,
              "#ed7953"
             ],
             [
              0.7777777777777778,
              "#fb9f3a"
             ],
             [
              0.8888888888888888,
              "#fdca26"
             ],
             [
              1,
              "#f0f921"
             ]
            ],
            "type": "histogram2dcontour"
           }
          ],
          "mesh3d": [
           {
            "colorbar": {
             "outlinewidth": 0,
             "ticks": ""
            },
            "type": "mesh3d"
           }
          ],
          "parcoords": [
           {
            "line": {
             "colorbar": {
              "outlinewidth": 0,
              "ticks": ""
             }
            },
            "type": "parcoords"
           }
          ],
          "pie": [
           {
            "automargin": true,
            "type": "pie"
           }
          ],
          "scatter": [
           {
            "marker": {
             "colorbar": {
              "outlinewidth": 0,
              "ticks": ""
             }
            },
            "type": "scatter"
           }
          ],
          "scatter3d": [
           {
            "line": {
             "colorbar": {
              "outlinewidth": 0,
              "ticks": ""
             }
            },
            "marker": {
             "colorbar": {
              "outlinewidth": 0,
              "ticks": ""
             }
            },
            "type": "scatter3d"
           }
          ],
          "scattercarpet": [
           {
            "marker": {
             "colorbar": {
              "outlinewidth": 0,
              "ticks": ""
             }
            },
            "type": "scattercarpet"
           }
          ],
          "scattergeo": [
           {
            "marker": {
             "colorbar": {
              "outlinewidth": 0,
              "ticks": ""
             }
            },
            "type": "scattergeo"
           }
          ],
          "scattergl": [
           {
            "marker": {
             "colorbar": {
              "outlinewidth": 0,
              "ticks": ""
             }
            },
            "type": "scattergl"
           }
          ],
          "scattermapbox": [
           {
            "marker": {
             "colorbar": {
              "outlinewidth": 0,
              "ticks": ""
             }
            },
            "type": "scattermapbox"
           }
          ],
          "scatterpolar": [
           {
            "marker": {
             "colorbar": {
              "outlinewidth": 0,
              "ticks": ""
             }
            },
            "type": "scatterpolar"
           }
          ],
          "scatterpolargl": [
           {
            "marker": {
             "colorbar": {
              "outlinewidth": 0,
              "ticks": ""
             }
            },
            "type": "scatterpolargl"
           }
          ],
          "scatterternary": [
           {
            "marker": {
             "colorbar": {
              "outlinewidth": 0,
              "ticks": ""
             }
            },
            "type": "scatterternary"
           }
          ],
          "surface": [
           {
            "colorbar": {
             "outlinewidth": 0,
             "ticks": ""
            },
            "colorscale": [
             [
              0,
              "#0d0887"
             ],
             [
              0.1111111111111111,
              "#46039f"
             ],
             [
              0.2222222222222222,
              "#7201a8"
             ],
             [
              0.3333333333333333,
              "#9c179e"
             ],
             [
              0.4444444444444444,
              "#bd3786"
             ],
             [
              0.5555555555555556,
              "#d8576b"
             ],
             [
              0.6666666666666666,
              "#ed7953"
             ],
             [
              0.7777777777777778,
              "#fb9f3a"
             ],
             [
              0.8888888888888888,
              "#fdca26"
             ],
             [
              1,
              "#f0f921"
             ]
            ],
            "type": "surface"
           }
          ],
          "table": [
           {
            "cells": {
             "fill": {
              "color": "#EBF0F8"
             },
             "line": {
              "color": "white"
             }
            },
            "header": {
             "fill": {
              "color": "#C8D4E3"
             },
             "line": {
              "color": "white"
             }
            },
            "type": "table"
           }
          ]
         },
         "layout": {
          "annotationdefaults": {
           "arrowcolor": "#2a3f5f",
           "arrowhead": 0,
           "arrowwidth": 1
          },
          "coloraxis": {
           "colorbar": {
            "outlinewidth": 0,
            "ticks": ""
           }
          },
          "colorscale": {
           "diverging": [
            [
             0,
             "#8e0152"
            ],
            [
             0.1,
             "#c51b7d"
            ],
            [
             0.2,
             "#de77ae"
            ],
            [
             0.3,
             "#f1b6da"
            ],
            [
             0.4,
             "#fde0ef"
            ],
            [
             0.5,
             "#f7f7f7"
            ],
            [
             0.6,
             "#e6f5d0"
            ],
            [
             0.7,
             "#b8e186"
            ],
            [
             0.8,
             "#7fbc41"
            ],
            [
             0.9,
             "#4d9221"
            ],
            [
             1,
             "#276419"
            ]
           ],
           "sequential": [
            [
             0,
             "#0d0887"
            ],
            [
             0.1111111111111111,
             "#46039f"
            ],
            [
             0.2222222222222222,
             "#7201a8"
            ],
            [
             0.3333333333333333,
             "#9c179e"
            ],
            [
             0.4444444444444444,
             "#bd3786"
            ],
            [
             0.5555555555555556,
             "#d8576b"
            ],
            [
             0.6666666666666666,
             "#ed7953"
            ],
            [
             0.7777777777777778,
             "#fb9f3a"
            ],
            [
             0.8888888888888888,
             "#fdca26"
            ],
            [
             1,
             "#f0f921"
            ]
           ],
           "sequentialminus": [
            [
             0,
             "#0d0887"
            ],
            [
             0.1111111111111111,
             "#46039f"
            ],
            [
             0.2222222222222222,
             "#7201a8"
            ],
            [
             0.3333333333333333,
             "#9c179e"
            ],
            [
             0.4444444444444444,
             "#bd3786"
            ],
            [
             0.5555555555555556,
             "#d8576b"
            ],
            [
             0.6666666666666666,
             "#ed7953"
            ],
            [
             0.7777777777777778,
             "#fb9f3a"
            ],
            [
             0.8888888888888888,
             "#fdca26"
            ],
            [
             1,
             "#f0f921"
            ]
           ]
          },
          "colorway": [
           "#636efa",
           "#EF553B",
           "#00cc96",
           "#ab63fa",
           "#FFA15A",
           "#19d3f3",
           "#FF6692",
           "#B6E880",
           "#FF97FF",
           "#FECB52"
          ],
          "font": {
           "color": "#2a3f5f"
          },
          "geo": {
           "bgcolor": "white",
           "lakecolor": "white",
           "landcolor": "#E5ECF6",
           "showlakes": true,
           "showland": true,
           "subunitcolor": "white"
          },
          "hoverlabel": {
           "align": "left"
          },
          "hovermode": "closest",
          "mapbox": {
           "style": "light"
          },
          "paper_bgcolor": "white",
          "plot_bgcolor": "#E5ECF6",
          "polar": {
           "angularaxis": {
            "gridcolor": "white",
            "linecolor": "white",
            "ticks": ""
           },
           "bgcolor": "#E5ECF6",
           "radialaxis": {
            "gridcolor": "white",
            "linecolor": "white",
            "ticks": ""
           }
          },
          "scene": {
           "xaxis": {
            "backgroundcolor": "#E5ECF6",
            "gridcolor": "white",
            "gridwidth": 2,
            "linecolor": "white",
            "showbackground": true,
            "ticks": "",
            "zerolinecolor": "white"
           },
           "yaxis": {
            "backgroundcolor": "#E5ECF6",
            "gridcolor": "white",
            "gridwidth": 2,
            "linecolor": "white",
            "showbackground": true,
            "ticks": "",
            "zerolinecolor": "white"
           },
           "zaxis": {
            "backgroundcolor": "#E5ECF6",
            "gridcolor": "white",
            "gridwidth": 2,
            "linecolor": "white",
            "showbackground": true,
            "ticks": "",
            "zerolinecolor": "white"
           }
          },
          "shapedefaults": {
           "line": {
            "color": "#2a3f5f"
           }
          },
          "ternary": {
           "aaxis": {
            "gridcolor": "white",
            "linecolor": "white",
            "ticks": ""
           },
           "baxis": {
            "gridcolor": "white",
            "linecolor": "white",
            "ticks": ""
           },
           "bgcolor": "#E5ECF6",
           "caxis": {
            "gridcolor": "white",
            "linecolor": "white",
            "ticks": ""
           }
          },
          "title": {
           "x": 0.05
          },
          "xaxis": {
           "automargin": true,
           "gridcolor": "white",
           "linecolor": "white",
           "ticks": "",
           "title": {
            "standoff": 15
           },
           "zerolinecolor": "white",
           "zerolinewidth": 2
          },
          "yaxis": {
           "automargin": true,
           "gridcolor": "white",
           "linecolor": "white",
           "ticks": "",
           "title": {
            "standoff": 15
           },
           "zerolinecolor": "white",
           "zerolinewidth": 2
          }
         }
        },
        "width": 1250,
        "xaxis": {
         "anchor": "y",
         "domain": [
          0,
          1
         ],
         "fixedrange": true,
         "gridcolor": "LightGray",
         "gridwidth": 1,
         "range": [
          0,
          49
         ],
         "showgrid": true,
         "tickvals": [
          0,
          6,
          12,
          18,
          24,
          30,
          36,
          42,
          48
         ],
         "title": {
          "text": "Minute"
         },
         "type": "linear"
        },
        "yaxis": {
         "anchor": "x",
         "domain": [
          0,
          1
         ],
         "fixedrange": true,
         "gridcolor": "LightGray",
         "gridwidth": 1,
         "range": [
          -1,
          12
         ],
         "showgrid": true,
         "tickson": "boundaries",
         "title": {
          "text": "Player"
         },
         "type": "category"
        }
       }
      },
      "image/png": "[encoded data removed]",
      "text/html": [
       "<div>\n",
       "        \n",
       "        \n",
       "            <div id=\"e7bc7928-3563-4ca3-b5ab-0fe2452ee158\" class=\"plotly-graph-div\" style=\"height:500px; width:1250px;\"></div>\n",
       "            <script type=\"text/javascript\">\n",
       "                require([\"plotly\"], function(Plotly) {\n",
       "                    window.PLOTLYENV=window.PLOTLYENV || {};\n",
       "                    \n",
       "                if (document.getElementById(\"e7bc7928-3563-4ca3-b5ab-0fe2452ee158\")) {\n",
       "                    Plotly.newPlot(\n",
       "                        'e7bc7928-3563-4ca3-b5ab-0fe2452ee158',\n",
       "                        [{\"customdata\": [[1.0, 1.0, 1.0, 1.0, 1.2, 100.0], [1.0, 1.0, 0.0, 0.0, 0.0, 0.0], [1.0, 1.0, 6.0, 1.0, 7.3, 16.7], [1.0, 1.0, 0.0, 0.0, 0.0, 0.0], [1.0, 1.0, 10.0, 5.0, 12.2, 50.0], [1.0, 1.0, 0.0, 0.0, 0.0, 0.0], [1.0, 1.0, 2.0, 0.0, 2.4, 0.0], [1.0, 1.0, 0.0, 0.0, 0.0, 0.0], [1.0, 1.0, 2.0, 2.0, 2.4, 100.0], [1.0, 1.0, 23.0, 10.0, 28.0, 43.5], [1.0, 1.0, 25.0, 10.0, 30.5, 40.0], [1.0, 1.0, 13.0, 5.0, 15.9, 38.5], [2.0, 2.0, 2.0, 1.0, 1.9, 50.0], [2.0, 2.0, 0.0, 0.0, 0.0, 0.0], [2.0, 2.0, 18.0, 9.0, 17.3, 50.0], [2.0, 2.0, 0.0, 0.0, 0.0, 0.0], [2.0, 2.0, 11.0, 4.0, 10.6, 36.4], [2.0, 2.0, 0.0, 0.0, 0.0, 0.0], [2.0, 2.0, 1.0, 0.0, 1.0, 0.0], [2.0, 2.0, 0.0, 0.0, 0.0, 0.0], [2.0, 2.0, 2.0, 1.0, 1.9, 50.0], [2.0, 2.0, 18.0, 8.0, 17.3, 44.4], [2.0, 2.0, 28.0, 7.0, 26.9, 25.0], [2.0, 2.0, 24.0, 15.0, 23.1, 62.5], [3.0, 3.0, 2.0, 1.0, 2.0, 50.0], [3.0, 3.0, 0.0, 0.0, 0.0, 0.0], [3.0, 3.0, 14.0, 6.0, 13.9, 42.9], [3.0, 3.0, 1.0, 0.0, 1.0, 0.0], [3.0, 3.0, 13.0, 7.0, 12.9, 53.8], [3.0, 3.0, 0.0, 0.0, 0.0, 0.0], [3.0, 3.0, 0.0, 0.0, 0.0, 0.0], [3.0, 3.0, 0.0, 0.0, 0.0, 0.0], [3.0, 3.0, 1.0, 1.0, 1.0, 100.0], [3.0, 3.0, 21.0, 5.0, 20.8, 23.8], [3.0, 3.0, 29.0, 16.0, 28.7, 55.2], [3.0, 3.0, 20.0, 10.0, 19.8, 50.0], [4.0, 4.0, 3.0, 2.0, 2.5, 66.7], [4.0, 4.0, 0.0, 0.0, 0.0, 0.0], [4.0, 4.0, 18.0, 7.0, 15.1, 38.9], [4.0, 4.0, 3.0, 0.0, 2.5, 0.0], [4.0, 4.0, 17.0, 8.0, 14.3, 47.1], [4.0, 4.0, 0.0, 0.0, 0.0, 0.0], [4.0, 4.0, 6.0, 3.0, 5.0, 50.0], [4.0, 4.0, 0.0, 0.0, 0.0, 0.0], [4.0, 4.0, 5.0, 2.0, 4.2, 40.0], [4.0, 4.0, 20.0, 5.0, 16.8, 25.0], [4.0, 4.0, 28.0, 13.0, 23.5, 46.4], [4.0, 4.0, 19.0, 9.0, 16.0, 47.4], [5.0, 5.0, 2.0, 1.0, 2.1, 50.0], [5.0, 5.0, 0.0, 0.0, 0.0, 0.0], [5.0, 5.0, 11.0, 5.0, 11.7, 45.5], [5.0, 5.0, 3.0, 1.0, 3.2, 33.3], [5.0, 5.0, 10.0, 7.0, 10.6, 70.0], [5.0, 5.0, 0.0, 0.0, 0.0, 0.0], [5.0, 5.0, 2.0, 1.0, 2.1, 50.0], [5.0, 5.0, 1.0, 1.0, 1.1, 100.0], [5.0, 5.0, 5.0, 2.0, 5.3, 40.0], [5.0, 5.0, 19.0, 8.0, 20.2, 42.1], [5.0, 5.0, 26.0, 14.0, 27.7, 53.8], [5.0, 5.0, 15.0, 5.0, 16.0, 33.3], [6.0, 6.0, 2.0, 1.0, 2.1, 50.0], [6.0, 6.0, 0.0, 0.0, 0.0, 0.0], [6.0, 6.0, 7.0, 5.0, 7.4, 71.4], [6.0, 6.0, 1.0, 1.0, 1.1, 100.0], [6.0, 6.0, 17.0, 9.0, 17.9, 52.9], [6.0, 6.0, 1.0, 0.0, 1.1, 0.0], [6.0, 6.0, 3.0, 2.0, 3.2, 66.7], [6.0, 6.0, 5.0, 3.0, 5.3, 60.0], [6.0, 6.0, 4.0, 1.0, 4.2, 25.0], [6.0, 6.0, 9.0, 4.0, 9.5, 44.4], [6.0, 6.0, 27.0, 13.0, 28.4, 48.1], [6.0, 6.0, 19.0, 10.0, 20.0, 52.6], [7.0, 7.0, 3.0, 2.0, 2.8, 66.7], [7.0, 7.0, 0.0, 0.0, 0.0, 0.0], [7.0, 7.0, 10.0, 3.0, 9.3, 30.0], [7.0, 7.0, 0.0, 0.0, 0.0, 0.0], [7.0, 7.0, 16.0, 10.0, 14.8, 62.5], [7.0, 7.0, 3.0, 2.0, 2.8, 66.7], [7.0, 7.0, 7.0, 1.0, 6.5, 14.3], [7.0, 7.0, 7.0, 3.0, 6.5, 42.9], [7.0, 7.0, 4.0, 1.0, 3.7, 25.0], [7.0, 7.0, 15.0, 8.0, 13.9, 53.3], [7.0, 7.0, 21.0, 8.0, 19.4, 38.1], [7.0, 7.0, 22.0, 13.0, 20.4, 59.1], [8.0, 8.0, 0.0, 0.0, 0.0, 0.0], [8.0, 8.0, 0.0, 0.0, 0.0, 0.0], [8.0, 8.0, 9.0, 4.0, 9.5, 44.4], [8.0, 8.0, 2.0, 0.0, 2.1, 0.0], [8.0, 8.0, 3.0, 2.0, 3.2, 66.7], [8.0, 8.0, 2.0, 0.0, 2.1, 0.0], [8.0, 8.0, 9.0, 5.0, 9.5, 55.6], [8.0, 8.0, 12.0, 2.0, 12.6, 16.7], [8.0, 8.0, 8.0, 7.0, 8.4, 87.5], [8.0, 8.0, 6.0, 3.0, 6.3, 50.0], [8.0, 8.0, 18.0, 12.0, 18.9, 66.7], [8.0, 8.0, 26.0, 15.0, 27.4, 57.7], [9.0, 9.0, 6.0, 4.0, 6.2, 66.7], [9.0, 9.0, 2.0, 2.0, 2.1, 100.0], [9.0, 9.0, 3.0, 1.0, 3.1, 33.3], [9.0, 9.0, 1.0, 0.0, 1.0, 0.0], [9.0, 9.0, 3.0, 2.0, 3.1, 66.7], [9.0, 9.0, 3.0, 1.0, 3.1, 33.3], [9.0, 9.0, 21.0, 8.0, 21.6, 38.1], [9.0, 9.0, 17.0, 10.0, 17.5, 58.8], [9.0, 9.0, 15.0, 6.0, 15.5, 40.0], [9.0, 9.0, 1.0, 0.0, 1.0, 0.0], [9.0, 9.0, 11.0, 3.0, 11.3, 27.3], [9.0, 9.0, 14.0, 9.0, 14.4, 64.3], [10.0, 10.0, 7.0, 4.0, 6.1, 57.1], [10.0, 10.0, 0.0, 0.0, 0.0, 0.0], [10.0, 10.0, 3.0, 1.0, 2.6, 33.3], [10.0, 10.0, 6.0, 1.0, 5.3, 16.7], [10.0, 10.0, 4.0, 2.0, 3.5, 50.0], [10.0, 10.0, 8.0, 1.0, 7.0, 12.5], [10.0, 10.0, 21.0, 10.0, 18.4, 47.6], [10.0, 10.0, 27.0, 13.0, 23.7, 48.1], [10.0, 10.0, 11.0, 5.0, 9.6, 45.5], [10.0, 10.0, 0.0, 0.0, 0.0, 0.0], [10.0, 10.0, 18.0, 8.0, 15.8, 44.4], [10.0, 10.0, 9.0, 6.0, 7.9, 66.7], [11.0, 11.0, 6.0, 6.0, 6.1, 100.0], [11.0, 11.0, 3.0, 2.0, 3.0, 66.7], [11.0, 11.0, 1.0, 1.0, 1.0, 100.0], [11.0, 11.0, 7.0, 3.0, 7.1, 42.9], [11.0, 11.0, 7.0, 3.0, 7.1, 42.9], [11.0, 11.0, 9.0, 4.0, 9.1, 44.4], [11.0, 11.0, 10.0, 6.0, 10.1, 60.0], [11.0, 11.0, 28.0, 15.0, 28.3, 53.6], [11.0, 11.0, 10.0, 6.0, 10.1, 60.0], [11.0, 11.0, 1.0, 0.0, 1.0, 0.0], [11.0, 11.0, 11.0, 7.0, 11.1, 63.6], [11.0, 11.0, 6.0, 4.0, 6.1, 66.7], [12.0, 12.0, 14.0, 10.0, 11.7, 71.4], [12.0, 12.0, 1.0, 0.0, 0.8, 0.0], [12.0, 12.0, 6.0, 1.0, 5.0, 16.7], [12.0, 12.0, 8.0, 4.0, 6.7, 50.0], [12.0, 12.0, 7.0, 1.0, 5.8, 14.3], [12.0, 12.0, 13.0, 4.0, 10.8, 30.8], [12.0, 12.0, 14.0, 5.0, 11.7, 35.7], [12.0, 12.0, 24.0, 9.0, 20.0, 37.5], [12.0, 12.0, 26.0, 8.0, 21.7, 30.8], [12.0, 12.0, 0.0, 0.0, 0.0, 0.0], [12.0, 12.0, 7.0, 4.0, 5.8, 57.1], [12.0, 12.0, 0.0, 0.0, 0.0, 0.0], [13.0, 13.0, 8.0, 5.0, 9.3, 62.5], [13.0, 13.0, 1.0, 0.0, 1.2, 0.0], [13.0, 13.0, 1.0, 1.0, 1.2, 100.0], [13.0, 13.0, 3.0, 1.0, 3.5, 33.3], [13.0, 13.0, 6.0, 4.0, 7.0, 66.7], [13.0, 13.0, 10.0, 5.0, 11.6, 50.0], [13.0, 13.0, 23.0, 11.0, 26.7, 47.8], [13.0, 13.0, 21.0, 9.0, 24.4, 42.9], [13.0, 13.0, 9.0, 5.0, 10.5, 55.6], [13.0, 13.0, 1.0, 0.0, 1.2, 0.0], [13.0, 13.0, 1.0, 0.0, 1.2, 0.0], [13.0, 13.0, 2.0, 1.0, 2.3, 50.0], [14.0, 14.0, 13.0, 7.0, 12.1, 53.8], [14.0, 14.0, 2.0, 1.0, 1.9, 50.0], [14.0, 14.0, 0.0, 0.0, 0.0, 0.0], [14.0, 14.0, 9.0, 4.0, 8.4, 44.4], [14.0, 14.0, 9.0, 4.0, 8.4, 44.4], [14.0, 14.0, 10.0, 2.0, 9.3, 20.0], [14.0, 14.0, 20.0, 11.0, 18.7, 55.0], [14.0, 14.0, 25.0, 9.0, 23.4, 36.0], [14.0, 14.0, 11.0, 8.0, 10.3, 72.7], [14.0, 14.0, 2.0, 1.0, 1.9, 50.0], [14.0, 14.0, 3.0, 3.0, 2.8, 100.0], [14.0, 14.0, 3.0, 0.0, 2.8, 0.0], [15.0, 15.0, 12.0, 8.0, 11.7, 66.7], [15.0, 15.0, 2.0, 1.0, 1.9, 50.0], [15.0, 15.0, 1.0, 0.0, 1.0, 0.0], [15.0, 15.0, 7.0, 4.0, 6.8, 57.1], [15.0, 15.0, 8.0, 2.0, 7.8, 25.0], [15.0, 15.0, 14.0, 4.0, 13.6, 28.6], [15.0, 15.0, 14.0, 6.0, 13.6, 42.9], [15.0, 15.0, 22.0, 12.0, 21.4, 54.5], [15.0, 15.0, 11.0, 7.0, 10.7, 63.6], [15.0, 15.0, 5.0, 2.0, 4.9, 40.0], [15.0, 15.0, 4.0, 2.0, 3.9, 50.0], [15.0, 15.0, 3.0, 2.0, 2.9, 66.7], [16.0, 16.0, 8.0, 5.0, 7.5, 62.5], [16.0, 16.0, 1.0, 1.0, 0.9, 100.0], [16.0, 16.0, 3.0, 0.0, 2.8, 0.0], [16.0, 16.0, 13.0, 7.0, 12.3, 53.8], [16.0, 16.0, 13.0, 5.0, 12.3, 38.5], [16.0, 16.0, 11.0, 6.0, 10.4, 54.5], [16.0, 16.0, 6.0, 2.0, 5.7, 33.3], [16.0, 16.0, 11.0, 6.0, 10.4, 54.5], [16.0, 16.0, 8.0, 1.0, 7.5, 12.5], [16.0, 16.0, 14.0, 7.0, 13.2, 50.0], [16.0, 16.0, 11.0, 2.0, 10.4, 18.2], [16.0, 16.0, 7.0, 5.0, 6.6, 71.4], [17.0, 17.0, 7.0, 5.0, 6.6, 71.4], [17.0, 17.0, 2.0, 0.0, 1.9, 0.0], [17.0, 17.0, 9.0, 5.0, 8.5, 55.6], [17.0, 17.0, 7.0, 3.0, 6.6, 42.9], [17.0, 17.0, 12.0, 6.0, 11.3, 50.0], [17.0, 17.0, 11.0, 3.0, 10.4, 27.3], [17.0, 17.0, 9.0, 5.0, 8.5, 55.6], [17.0, 17.0, 3.0, 0.0, 2.8, 0.0], [17.0, 17.0, 3.0, 2.0, 2.8, 66.7], [17.0, 17.0, 16.0, 4.0, 15.1, 25.0], [17.0, 17.0, 10.0, 4.0, 9.4, 40.0], [17.0, 17.0, 17.0, 14.0, 16.0, 82.4], [18.0, 18.0, 5.0, 3.0, 5.2, 60.0], [18.0, 18.0, 3.0, 1.0, 3.1, 33.3], [18.0, 18.0, 6.0, 1.0, 6.2, 16.7], [18.0, 18.0, 5.0, 2.0, 5.2, 40.0], [18.0, 18.0, 13.0, 8.0, 13.5, 61.5], [18.0, 18.0, 2.0, 2.0, 2.1, 100.0], [18.0, 18.0, 6.0, 2.0, 6.2, 33.3], [18.0, 18.0, 2.0, 1.0, 2.1, 50.0], [18.0, 18.0, 6.0, 3.0, 6.2, 50.0], [18.0, 18.0, 19.0, 7.0, 19.8, 36.8], [18.0, 18.0, 8.0, 5.0, 8.3, 62.5], [18.0, 18.0, 21.0, 9.0, 21.9, 42.9], [19.0, 19.0, 3.0, 1.0, 3.1, 33.3], [19.0, 19.0, 0.0, 0.0, 0.0, 0.0], [19.0, 19.0, 6.0, 3.0, 6.1, 50.0], [19.0, 19.0, 3.0, 1.0, 3.1, 33.3], [19.0, 19.0, 18.0, 9.0, 18.4, 50.0], [19.0, 19.0, 6.0, 3.0, 6.1, 50.0], [19.0, 19.0, 2.0, 0.0, 2.0, 0.0], [19.0, 19.0, 4.0, 2.0, 4.1, 50.0], [19.0, 19.0, 3.0, 0.0, 3.1, 0.0], [19.0, 19.0, 17.0, 8.0, 17.3, 47.1], [19.0, 19.0, 19.0, 11.0, 19.4, 57.9], [19.0, 19.0, 17.0, 10.0, 17.3, 58.8], [20.0, 20.0, 2.0, 1.0, 2.0, 50.0], [20.0, 20.0, 1.0, 0.0, 1.0, 0.0], [20.0, 20.0, 9.0, 5.0, 8.9, 55.6], [20.0, 20.0, 1.0, 0.0, 1.0, 0.0], [20.0, 20.0, 10.0, 2.0, 9.9, 20.0], [20.0, 20.0, 4.0, 3.0, 4.0, 75.0], [20.0, 20.0, 5.0, 2.0, 5.0, 40.0], [20.0, 20.0, 3.0, 2.0, 3.0, 66.7], [20.0, 20.0, 4.0, 1.0, 4.0, 25.0], [20.0, 20.0, 13.0, 7.0, 12.9, 53.8], [20.0, 20.0, 25.0, 14.0, 24.8, 56.0], [20.0, 20.0, 24.0, 15.0, 23.8, 62.5], [21.0, 21.0, 1.0, 0.0, 1.0, 0.0], [21.0, 21.0, 0.0, 0.0, 0.0, 0.0], [21.0, 21.0, 10.0, 3.0, 9.6, 30.0], [21.0, 21.0, 0.0, 0.0, 0.0, 0.0], [21.0, 21.0, 12.0, 3.0, 11.5, 25.0], [21.0, 21.0, 5.0, 1.0, 4.8, 20.0], [21.0, 21.0, 6.0, 5.0, 5.8, 83.3], [21.0, 21.0, 3.0, 2.0, 2.9, 66.7], [21.0, 21.0, 13.0, 5.0, 12.5, 38.5], [21.0, 21.0, 14.0, 7.0, 13.5, 50.0], [21.0, 21.0, 16.0, 9.0, 15.4, 56.2], [21.0, 21.0, 24.0, 16.0, 23.1, 66.7], [22.0, 22.0, 3.0, 2.0, 3.0, 66.7], [22.0, 22.0, 1.0, 1.0, 1.0, 100.0], [22.0, 22.0, 3.0, 1.0, 3.0, 33.3], [22.0, 22.0, 2.0, 0.0, 2.0, 0.0], [22.0, 22.0, 8.0, 7.0, 8.0, 87.5], [22.0, 22.0, 5.0, 3.0, 5.0, 60.0], [22.0, 22.0, 3.0, 0.0, 3.0, 0.0], [22.0, 22.0, 12.0, 4.0, 12.0, 33.3], [22.0, 22.0, 5.0, 3.0, 5.0, 60.0], [22.0, 22.0, 12.0, 9.0, 12.0, 75.0], [22.0, 22.0, 18.0, 7.0, 18.0, 38.9], [22.0, 22.0, 28.0, 12.0, 28.0, 42.9], [23.0, 23.0, 0.0, 0.0, 0.0, 0.0], [23.0, 23.0, 0.0, 0.0, 0.0, 0.0], [23.0, 23.0, 5.0, 1.0, 4.4, 20.0], [23.0, 23.0, 5.0, 0.0, 4.4, 0.0], [23.0, 23.0, 10.0, 3.0, 8.8, 30.0], [23.0, 23.0, 4.0, 1.0, 3.5, 25.0], [23.0, 23.0, 15.0, 6.0, 13.2, 40.0], [23.0, 23.0, 12.0, 7.0, 10.5, 58.3], [23.0, 23.0, 13.0, 5.0, 11.4, 38.5], [23.0, 23.0, 5.0, 1.0, 4.4, 20.0], [23.0, 23.0, 21.0, 13.0, 18.4, 61.9], [23.0, 23.0, 24.0, 16.0, 21.1, 66.7], [24.0, 24.0, 3.0, 2.0, 2.7, 66.7], [24.0, 24.0, 1.0, 1.0, 0.9, 100.0], [24.0, 24.0, 8.0, 3.0, 7.1, 37.5], [24.0, 24.0, 3.0, 2.0, 2.7, 66.7], [24.0, 24.0, 8.0, 3.0, 7.1, 37.5], [24.0, 24.0, 3.0, 1.0, 2.7, 33.3], [24.0, 24.0, 8.0, 2.0, 7.1, 25.0], [24.0, 24.0, 13.0, 3.0, 11.6, 23.1], [24.0, 24.0, 9.0, 3.0, 8.0, 33.3], [24.0, 24.0, 7.0, 2.0, 6.2, 28.6], [24.0, 24.0, 19.0, 9.0, 17.0, 47.4], [24.0, 24.0, 30.0, 15.0, 26.8, 50.0], [25.0, 25.0, 3.0, 1.0, 3.5, 33.3], [25.0, 25.0, 0.0, 0.0, 0.0, 0.0], [25.0, 25.0, 5.0, 0.0, 5.8, 0.0], [25.0, 25.0, 2.0, 1.0, 2.3, 50.0], [25.0, 25.0, 7.0, 3.0, 8.1, 42.9], [25.0, 25.0, 0.0, 0.0, 0.0, 0.0], [25.0, 25.0, 3.0, 0.0, 3.5, 0.0], [25.0, 25.0, 0.0, 0.0, 0.0, 0.0], [25.0, 25.0, 3.0, 3.0, 3.5, 100.0], [25.0, 25.0, 21.0, 10.0, 24.4, 47.6], [25.0, 25.0, 21.0, 10.0, 24.4, 47.6], [25.0, 25.0, 21.0, 9.0, 24.4, 42.9], [26.0, 26.0, 3.0, 1.0, 3.2, 33.3], [26.0, 26.0, 0.0, 0.0, 0.0, 0.0], [26.0, 26.0, 7.0, 4.0, 7.4, 57.1], [26.0, 26.0, 3.0, 3.0, 3.2, 100.0], [26.0, 26.0, 13.0, 5.0, 13.7, 38.5], [26.0, 26.0, 0.0, 0.0, 0.0, 0.0], [26.0, 26.0, 1.0, 0.0, 1.1, 0.0], [26.0, 26.0, 0.0, 0.0, 0.0, 0.0], [26.0, 26.0, 4.0, 2.0, 4.2, 50.0], [26.0, 26.0, 22.0, 10.0, 23.2, 45.5], [26.0, 26.0, 25.0, 16.0, 26.3, 64.0], [26.0, 26.0, 17.0, 11.0, 17.9, 64.7], [27.0, 27.0, 1.0, 0.0, 1.0, 0.0], [27.0, 27.0, 0.0, 0.0, 0.0, 0.0], [27.0, 27.0, 10.0, 4.0, 9.5, 40.0], [27.0, 27.0, 1.0, 0.0, 1.0, 0.0], [27.0, 27.0, 13.0, 9.0, 12.4, 69.2], [27.0, 27.0, 0.0, 0.0, 0.0, 0.0], [27.0, 27.0, 3.0, 1.0, 2.9, 33.3], [27.0, 27.0, 2.0, 2.0, 1.9, 100.0], [27.0, 27.0, 2.0, 1.0, 1.9, 50.0], [27.0, 27.0, 28.0, 12.0, 26.7, 42.9], [27.0, 27.0, 24.0, 12.0, 22.9, 50.0], [27.0, 27.0, 21.0, 9.0, 20.0, 42.9], [28.0, 28.0, 1.0, 1.0, 1.1, 100.0], [28.0, 28.0, 0.0, 0.0, 0.0, 0.0], [28.0, 28.0, 5.0, 4.0, 5.5, 80.0], [28.0, 28.0, 1.0, 0.0, 1.1, 0.0], [28.0, 28.0, 18.0, 6.0, 19.8, 33.3], [28.0, 28.0, 0.0, 0.0, 0.0, 0.0], [28.0, 28.0, 1.0, 0.0, 1.1, 0.0], [28.0, 28.0, 2.0, 1.0, 2.2, 50.0], [28.0, 28.0, 2.0, 1.0, 2.2, 50.0], [28.0, 28.0, 13.0, 7.0, 14.3, 53.8], [28.0, 28.0, 24.0, 14.0, 26.4, 58.3], [28.0, 28.0, 24.0, 8.0, 26.4, 33.3], [29.0, 29.0, 3.0, 1.0, 3.1, 33.3], [29.0, 29.0, 0.0, 0.0, 0.0, 0.0], [29.0, 29.0, 13.0, 6.0, 13.3, 46.2], [29.0, 29.0, 2.0, 1.0, 2.0, 50.0], [29.0, 29.0, 14.0, 7.0, 14.3, 50.0], [29.0, 29.0, 1.0, 0.0, 1.0, 0.0], [29.0, 29.0, 4.0, 2.0, 4.1, 50.0], [29.0, 29.0, 4.0, 1.0, 4.1, 25.0], [29.0, 29.0, 4.0, 3.0, 4.1, 75.0], [29.0, 29.0, 14.0, 9.0, 14.3, 64.3], [29.0, 29.0, 17.0, 11.0, 17.3, 64.7], [29.0, 29.0, 22.0, 11.0, 22.4, 50.0], [30.0, 30.0, 5.0, 3.0, 5.3, 60.0], [30.0, 30.0, 0.0, 0.0, 0.0, 0.0], [30.0, 30.0, 9.0, 5.0, 9.6, 55.6], [30.0, 30.0, 3.0, 0.0, 3.2, 0.0], [30.0, 30.0, 10.0, 6.0, 10.6, 60.0], [30.0, 30.0, 0.0, 0.0, 0.0, 0.0], [30.0, 30.0, 6.0, 2.0, 6.4, 33.3], [30.0, 30.0, 6.0, 3.0, 6.4, 50.0], [30.0, 30.0, 4.0, 2.0, 4.3, 50.0], [30.0, 30.0, 11.0, 4.0, 11.7, 36.4], [30.0, 30.0, 15.0, 5.0, 16.0, 33.3], [30.0, 30.0, 25.0, 15.0, 26.6, 60.0], [31.0, 31.0, 1.0, 1.0, 1.1, 100.0], [31.0, 31.0, 0.0, 0.0, 0.0, 0.0], [31.0, 31.0, 2.0, 1.0, 2.1, 50.0], [31.0, 31.0, 3.0, 1.0, 3.2, 33.3], [31.0, 31.0, 4.0, 2.0, 4.2, 50.0], [31.0, 31.0, 3.0, 1.0, 3.2, 33.3], [31.0, 31.0, 11.0, 3.0, 11.6, 27.3], [31.0, 31.0, 5.0, 2.0, 5.3, 40.0], [31.0, 31.0, 8.0, 3.0, 8.4, 37.5], [31.0, 31.0, 14.0, 5.0, 14.7, 35.7], [31.0, 31.0, 17.0, 7.0, 17.9, 41.2], [31.0, 31.0, 27.0, 14.0, 28.4, 51.9], [32.0, 32.0, 6.0, 5.0, 5.8, 83.3], [32.0, 32.0, 1.0, 0.0, 1.0, 0.0], [32.0, 32.0, 2.0, 1.0, 1.9, 50.0], [32.0, 32.0, 0.0, 0.0, 0.0, 0.0], [32.0, 32.0, 5.0, 1.0, 4.9, 20.0], [32.0, 32.0, 2.0, 0.0, 1.9, 0.0], [32.0, 32.0, 17.0, 7.0, 16.5, 41.2], [32.0, 32.0, 16.0, 11.0, 15.5, 68.8], [32.0, 32.0, 12.0, 4.0, 11.7, 33.3], [32.0, 32.0, 3.0, 2.0, 2.9, 66.7], [32.0, 32.0, 18.0, 9.0, 17.5, 50.0], [32.0, 32.0, 21.0, 9.0, 20.4, 42.9], [33.0, 33.0, 4.0, 4.0, 4.0, 100.0], [33.0, 33.0, 1.0, 0.0, 1.0, 0.0], [33.0, 33.0, 2.0, 2.0, 2.0, 100.0], [33.0, 33.0, 9.0, 6.0, 9.1, 66.7], [33.0, 33.0, 4.0, 1.0, 4.0, 25.0], [33.0, 33.0, 5.0, 2.0, 5.1, 40.0], [33.0, 33.0, 19.0, 7.0, 19.2, 36.8], [33.0, 33.0, 15.0, 5.0, 15.2, 33.3], [33.0, 33.0, 15.0, 9.0, 15.2, 60.0], [33.0, 33.0, 1.0, 0.0, 1.0, 0.0], [33.0, 33.0, 10.0, 4.0, 10.1, 40.0], [33.0, 33.0, 14.0, 6.0, 14.1, 42.9], [34.0, 34.0, 7.0, 3.0, 7.2, 42.9], [34.0, 34.0, 0.0, 0.0, 0.0, 0.0], [34.0, 34.0, 2.0, 1.0, 2.1, 50.0], [34.0, 34.0, 6.0, 3.0, 6.2, 50.0], [34.0, 34.0, 2.0, 0.0, 2.1, 0.0], [34.0, 34.0, 8.0, 3.0, 8.2, 37.5], [34.0, 34.0, 11.0, 6.0, 11.3, 54.5], [34.0, 34.0, 23.0, 11.0, 23.7, 47.8], [34.0, 34.0, 12.0, 7.0, 12.4, 58.3], [34.0, 34.0, 2.0, 1.0, 2.1, 50.0], [34.0, 34.0, 12.0, 7.0, 12.4, 58.3], [34.0, 34.0, 12.0, 7.0, 12.4, 58.3], [35.0, 35.0, 8.0, 6.0, 8.8, 75.0], [35.0, 35.0, 0.0, 0.0, 0.0, 0.0], [35.0, 35.0, 2.0, 0.0, 2.2, 0.0], [35.0, 35.0, 12.0, 5.0, 13.2, 41.7], [35.0, 35.0, 2.0, 2.0, 2.2, 100.0], [35.0, 35.0, 9.0, 3.0, 9.9, 33.3], [35.0, 35.0, 16.0, 7.0, 17.6, 43.8], [35.0, 35.0, 17.0, 6.0, 18.7, 35.3], [35.0, 35.0, 13.0, 3.0, 14.3, 23.1], [35.0, 35.0, 2.0, 0.0, 2.2, 0.0], [35.0, 35.0, 3.0, 3.0, 3.3, 100.0], [35.0, 35.0, 7.0, 3.0, 7.7, 42.9], [36.0, 36.0, 10.0, 6.0, 7.6, 60.0], [36.0, 36.0, 1.0, 0.0, 0.8, 0.0], [36.0, 36.0, 4.0, 1.0, 3.1, 25.0], [36.0, 36.0, 11.0, 4.0, 8.4, 36.4], [36.0, 36.0, 5.0, 4.0, 3.8, 80.0], [36.0, 36.0, 7.0, 2.0, 5.3, 28.6], [36.0, 36.0, 22.0, 7.0, 16.8, 31.8], [36.0, 36.0, 33.0, 13.0, 25.2, 39.4], [36.0, 36.0, 19.0, 10.0, 14.5, 52.6], [36.0, 36.0, 3.0, 0.0, 2.3, 0.0], [36.0, 36.0, 4.0, 3.0, 3.1, 75.0], [36.0, 36.0, 12.0, 7.0, 9.2, 58.3], [37.0, 37.0, 8.0, 5.0, 9.5, 62.5], [37.0, 37.0, 2.0, 1.0, 2.4, 50.0], [37.0, 37.0, 1.0, 1.0, 1.2, 100.0], [37.0, 37.0, 6.0, 4.0, 7.1, 66.7], [37.0, 37.0, 5.0, 3.0, 6.0, 60.0], [37.0, 37.0, 10.0, 5.0, 11.9, 50.0], [37.0, 37.0, 18.0, 9.0, 21.4, 50.0], [37.0, 37.0, 22.0, 5.0, 26.2, 22.7], [37.0, 37.0, 6.0, 3.0, 7.1, 50.0], [37.0, 37.0, 2.0, 0.0, 2.4, 0.0], [37.0, 37.0, 2.0, 0.0, 2.4, 0.0], [37.0, 37.0, 2.0, 0.0, 2.4, 0.0], [38.0, 38.0, 5.0, 3.0, 5.6, 60.0], [38.0, 38.0, 2.0, 0.0, 2.2, 0.0], [38.0, 38.0, 4.0, 1.0, 4.5, 25.0], [38.0, 38.0, 10.0, 5.0, 11.2, 50.0], [38.0, 38.0, 5.0, 2.0, 5.6, 40.0], [38.0, 38.0, 7.0, 3.0, 7.9, 42.9], [38.0, 38.0, 16.0, 11.0, 18.0, 68.8], [38.0, 38.0, 21.0, 12.0, 23.6, 57.1], [38.0, 38.0, 13.0, 9.0, 14.6, 69.2], [38.0, 38.0, 1.0, 0.0, 1.1, 0.0], [38.0, 38.0, 3.0, 1.0, 3.4, 33.3], [38.0, 38.0, 2.0, 0.0, 2.2, 0.0], [39.0, 39.0, 7.0, 4.0, 7.8, 57.1], [39.0, 39.0, 2.0, 1.0, 2.2, 50.0], [39.0, 39.0, 3.0, 2.0, 3.3, 66.7], [39.0, 39.0, 5.0, 5.0, 5.6, 100.0], [39.0, 39.0, 6.0, 2.0, 6.7, 33.3], [39.0, 39.0, 9.0, 3.0, 10.0, 33.3], [39.0, 39.0, 10.0, 6.0, 11.1, 60.0], [39.0, 39.0, 13.0, 4.0, 14.4, 30.8], [39.0, 39.0, 13.0, 6.0, 14.4, 46.2], [39.0, 39.0, 8.0, 4.0, 8.9, 50.0], [39.0, 39.0, 4.0, 2.0, 4.4, 50.0], [39.0, 39.0, 10.0, 5.0, 11.1, 50.0], [40.0, 40.0, 8.0, 3.0, 8.7, 37.5], [40.0, 40.0, 1.0, 0.0, 1.1, 0.0], [40.0, 40.0, 2.0, 1.0, 2.2, 50.0], [40.0, 40.0, 9.0, 5.0, 9.8, 55.6], [40.0, 40.0, 13.0, 6.0, 14.1, 46.2], [40.0, 40.0, 8.0, 2.0, 8.7, 25.0], [40.0, 40.0, 6.0, 3.0, 6.5, 50.0], [40.0, 40.0, 4.0, 1.0, 4.3, 25.0], [40.0, 40.0, 6.0, 4.0, 6.5, 66.7], [40.0, 40.0, 11.0, 5.0, 12.0, 45.5], [40.0, 40.0, 7.0, 3.0, 7.6, 42.9], [40.0, 40.0, 17.0, 9.0, 18.5, 52.9], [41.0, 41.0, 2.0, 1.0, 2.2, 50.0], [41.0, 41.0, 1.0, 0.0, 1.1, 0.0], [41.0, 41.0, 2.0, 2.0, 2.2, 100.0], [41.0, 41.0, 6.0, 4.0, 6.7, 66.7], [41.0, 41.0, 12.0, 7.0, 13.5, 58.3], [41.0, 41.0, 11.0, 4.0, 12.4, 36.4], [41.0, 41.0, 3.0, 0.0, 3.4, 0.0], [41.0, 41.0, 4.0, 1.0, 4.5, 25.0], [41.0, 41.0, 4.0, 3.0, 4.5, 75.0], [41.0, 41.0, 10.0, 5.0, 11.2, 50.0], [41.0, 41.0, 8.0, 4.0, 9.0, 50.0], [41.0, 41.0, 26.0, 11.0, 29.2, 42.3], [42.0, 42.0, 0.0, 0.0, 0.0, 0.0], [42.0, 42.0, 0.0, 0.0, 0.0, 0.0], [42.0, 42.0, 2.0, 1.0, 2.8, 50.0], [42.0, 42.0, 2.0, 2.0, 2.8, 100.0], [42.0, 42.0, 13.0, 4.0, 18.1, 30.8], [42.0, 42.0, 4.0, 0.0, 5.6, 0.0], [42.0, 42.0, 0.0, 0.0, 0.0, 0.0], [42.0, 42.0, 2.0, 0.0, 2.8, 0.0], [42.0, 42.0, 5.0, 2.0, 6.9, 40.0], [42.0, 42.0, 9.0, 4.0, 12.5, 44.4], [42.0, 42.0, 19.0, 10.0, 26.4, 52.6], [42.0, 42.0, 16.0, 8.0, 22.2, 50.0], [43.0, 43.0, 0.0, 0.0, 0.0, 0.0], [43.0, 43.0, 1.0, 1.0, 1.4, 100.0], [43.0, 43.0, 1.0, 0.0, 1.4, 0.0], [43.0, 43.0, 1.0, 0.0, 1.4, 0.0], [43.0, 43.0, 15.0, 11.0, 20.3, 73.3], [43.0, 43.0, 6.0, 3.0, 8.1, 50.0], [43.0, 43.0, 3.0, 1.0, 4.1, 33.3], [43.0, 43.0, 1.0, 1.0, 1.4, 100.0], [43.0, 43.0, 4.0, 3.0, 5.4, 75.0], [43.0, 43.0, 7.0, 1.0, 9.5, 14.3], [43.0, 43.0, 13.0, 7.0, 17.6, 53.8], [43.0, 43.0, 22.0, 15.0, 29.7, 68.2], [44.0, 44.0, 1.0, 1.0, 1.3, 100.0], [44.0, 44.0, 0.0, 0.0, 0.0, 0.0], [44.0, 44.0, 2.0, 0.0, 2.7, 0.0], [44.0, 44.0, 5.0, 2.0, 6.7, 40.0], [44.0, 44.0, 6.0, 3.0, 8.0, 50.0], [44.0, 44.0, 2.0, 1.0, 2.7, 50.0], [44.0, 44.0, 1.0, 0.0, 1.3, 0.0], [44.0, 44.0, 1.0, 0.0, 1.3, 0.0], [44.0, 44.0, 11.0, 4.0, 14.7, 36.4], [44.0, 44.0, 3.0, 2.0, 4.0, 66.7], [44.0, 44.0, 25.0, 10.0, 33.3, 40.0], [44.0, 44.0, 18.0, 12.0, 24.0, 66.7], [45.0, 45.0, 0.0, 0.0, 0.0, 0.0], [45.0, 45.0, 0.0, 0.0, 0.0, 0.0], [45.0, 45.0, 0.0, 0.0, 0.0, 0.0], [45.0, 45.0, 2.0, 1.0, 2.8, 50.0], [45.0, 45.0, 5.0, 0.0, 6.9, 0.0], [45.0, 45.0, 2.0, 0.0, 2.8, 0.0], [45.0, 45.0, 2.0, 0.0, 2.8, 0.0], [45.0, 45.0, 9.0, 5.0, 12.5, 55.6], [45.0, 45.0, 9.0, 1.0, 12.5, 11.1], [45.0, 45.0, 10.0, 1.0, 13.9, 10.0], [45.0, 45.0, 9.0, 6.0, 12.5, 66.7], [45.0, 45.0, 24.0, 15.0, 33.3, 62.5], [46.0, 46.0, 1.0, 1.0, 1.6, 100.0], [46.0, 46.0, 1.0, 0.0, 1.6, 0.0], [46.0, 46.0, 1.0, 1.0, 1.6, 100.0], [46.0, 46.0, 0.0, 0.0, 0.0, 0.0], [46.0, 46.0, 1.0, 0.0, 1.6, 0.0], [46.0, 46.0, 6.0, 2.0, 9.5, 33.3], [46.0, 46.0, 4.0, 2.0, 6.3, 50.0], [46.0, 46.0, 9.0, 4.0, 14.3, 44.4], [46.0, 46.0, 5.0, 4.0, 7.9, 80.0], [46.0, 46.0, 15.0, 7.0, 23.8, 46.7], [46.0, 46.0, 9.0, 4.0, 14.3, 44.4], [46.0, 46.0, 11.0, 3.0, 17.5, 27.3], [47.0, 47.0, 0.0, 0.0, 0.0, 0.0], [47.0, 47.0, 2.0, 1.0, 2.6, 50.0], [47.0, 47.0, 1.0, 1.0, 1.3, 100.0], [47.0, 47.0, 3.0, 1.0, 3.9, 33.3], [47.0, 47.0, 4.0, 2.0, 5.3, 50.0], [47.0, 47.0, 3.0, 2.0, 3.9, 66.7], [47.0, 47.0, 2.0, 1.0, 2.6, 50.0], [47.0, 47.0, 14.0, 4.0, 18.4, 28.6], [47.0, 47.0, 9.0, 3.0, 11.8, 33.3], [47.0, 47.0, 8.0, 2.0, 10.5, 25.0], [47.0, 47.0, 10.0, 5.0, 13.2, 50.0], [47.0, 47.0, 20.0, 13.0, 26.3, 65.0], [48.0, 48.0, 2.0, 0.0, 1.9, 0.0], [48.0, 48.0, 2.0, 1.0, 1.9, 50.0], [48.0, 48.0, 5.0, 4.0, 4.7, 80.0], [48.0, 48.0, 3.0, 2.0, 2.8, 66.7], [48.0, 48.0, 2.0, 1.0, 1.9, 50.0], [48.0, 48.0, 7.0, 3.0, 6.5, 42.9], [48.0, 48.0, 11.0, 6.0, 10.3, 54.5], [48.0, 48.0, 7.0, 1.0, 6.5, 14.3], [48.0, 48.0, 15.0, 3.0, 14.0, 20.0], [48.0, 48.0, 19.0, 6.0, 17.8, 31.6], [48.0, 48.0, 11.0, 6.0, 10.3, 54.5], [48.0, 48.0, 23.0, 9.0, 21.5, 39.1]], \"hovertemplate\": \"<b>%{hovertext}</b><br><br>min_mid=%{x}<br>player=%{y}<br>shots_freq=%{customdata[4]}<br>min_start=%{customdata[0]}<br>min_end=%{customdata[1]}<br>shots_count=%{customdata[2]}<br>shots_made=%{customdata[3]}<br>shots_acc=%{customdata[5]}<br>pl_pps=%{marker.color}<extra></extra>\", \"hovertext\": [\"Jakob Poeltl\", \"Others\", \"Trey Lyles\", \"Lonnie Walker IV\", \"Dejounte Murray\", \"Marco Belinelli\", \"Rudy Gay\", \"Patty Mills\", \"Derrick White\", \"Bryn Forbes\", \"LaMarcus Aldridge\", \"DeMar DeRozan\", \"Jakob Poeltl\", \"Others\", \"Trey Lyles\", \"Lonnie Walker IV\", \"Dejounte Murray\", \"Marco Belinelli\", \"Rudy Gay\", \"Patty Mills\", \"Derrick White\", \"Bryn Forbes\", \"LaMarcus Aldridge\", \"DeMar DeRozan\", \"Jakob Poeltl\", \"Others\", \"Trey Lyles\", \"Lonnie Walker IV\", \"Dejounte Murray\", \"Marco Belinelli\", \"Rudy Gay\", \"Patty Mills\", \"Derrick White\", \"Bryn Forbes\", \"LaMarcus Aldridge\", \"DeMar DeRozan\", \"Jakob Poeltl\", \"Others\", \"Trey Lyles\", \"Lonnie Walker IV\", \"Dejounte Murray\", \"Marco Belinelli\", \"Rudy Gay\", \"Patty Mills\", \"Derrick White\", \"Bryn Forbes\", \"LaMarcus Aldridge\", \"DeMar DeRozan\", \"Jakob Poeltl\", \"Others\", \"Trey Lyles\", \"Lonnie Walker IV\", \"Dejounte Murray\", \"Marco Belinelli\", \"Rudy Gay\", \"Patty Mills\", \"Derrick White\", \"Bryn Forbes\", \"LaMarcus Aldridge\", \"DeMar DeRozan\", \"Jakob Poeltl\", \"Others\", \"Trey Lyles\", \"Lonnie Walker IV\", \"Dejounte Murray\", \"Marco Belinelli\", \"Rudy Gay\", \"Patty Mills\", \"Derrick White\", \"Bryn Forbes\", \"LaMarcus Aldridge\", \"DeMar DeRozan\", \"Jakob Poeltl\", \"Others\", \"Trey Lyles\", \"Lonnie Walker IV\", \"Dejounte Murray\", \"Marco Belinelli\", \"Rudy Gay\", \"Patty Mills\", \"Derrick White\", \"Bryn Forbes\", \"LaMarcus Aldridge\", \"DeMar DeRozan\", \"Jakob Poeltl\", \"Others\", \"Trey Lyles\", \"Lonnie Walker IV\", \"Dejounte Murray\", \"Marco Belinelli\", \"Rudy Gay\", \"Patty Mills\", \"Derrick White\", \"Bryn Forbes\", \"LaMarcus Aldridge\", \"DeMar DeRozan\", \"Jakob Poeltl\", \"Others\", \"Trey Lyles\", \"Lonnie Walker IV\", \"Dejounte Murray\", \"Marco Belinelli\", \"Rudy Gay\", \"Patty Mills\", \"Derrick White\", \"Bryn Forbes\", \"LaMarcus Aldridge\", \"DeMar DeRozan\", \"Jakob Poeltl\", \"Others\", \"Trey Lyles\", \"Lonnie Walker IV\", \"Dejounte Murray\", \"Marco Belinelli\", \"Rudy Gay\", \"Patty Mills\", \"Derrick White\", \"Bryn Forbes\", \"LaMarcus Aldridge\", \"DeMar DeRozan\", \"Jakob Poeltl\", \"Others\", \"Trey Lyles\", \"Lonnie Walker IV\", \"Dejounte Murray\", \"Marco Belinelli\", \"Rudy Gay\", \"Patty Mills\", \"Derrick White\", \"Bryn Forbes\", \"LaMarcus Aldridge\", \"DeMar DeRozan\", \"Jakob Poeltl\", \"Others\", \"Trey Lyles\", \"Lonnie Walker IV\", \"Dejounte Murray\", \"Marco Belinelli\", \"Rudy Gay\", \"Patty Mills\", \"Derrick White\", \"Bryn Forbes\", \"LaMarcus Aldridge\", \"DeMar DeRozan\", \"Jakob Poeltl\", \"Others\", \"Trey Lyles\", \"Lonnie Walker IV\", \"Dejounte Murray\", \"Marco Belinelli\", \"Rudy Gay\", \"Patty Mills\", \"Derrick White\", \"Bryn Forbes\", \"LaMarcus Aldridge\", \"DeMar DeRozan\", \"Jakob Poeltl\", \"Others\", \"Trey Lyles\", \"Lonnie Walker IV\", \"Dejounte Murray\", \"Marco Belinelli\", \"Rudy Gay\", \"Patty Mills\", \"Derrick White\", \"Bryn Forbes\", \"LaMarcus Aldridge\", \"DeMar DeRozan\", \"Jakob Poeltl\", \"Others\", \"Trey Lyles\", \"Lonnie Walker IV\", \"Dejounte Murray\", \"Marco Belinelli\", \"Rudy Gay\", \"Patty Mills\", \"Derrick White\", \"Bryn Forbes\", \"LaMarcus Aldridge\", \"DeMar DeRozan\", \"Jakob Poeltl\", \"Others\", \"Trey Lyles\", \"Lonnie Walker IV\", \"Dejounte Murray\", \"Marco Belinelli\", \"Rudy Gay\", \"Patty Mills\", \"Derrick White\", \"Bryn Forbes\", \"LaMarcus Aldridge\", \"DeMar DeRozan\", \"Jakob Poeltl\", \"Others\", \"Trey Lyles\", \"Lonnie Walker IV\", \"Dejounte Murray\", \"Marco Belinelli\", \"Rudy Gay\", \"Patty Mills\", \"Derrick White\", \"Bryn Forbes\", \"LaMarcus Aldridge\", \"DeMar DeRozan\", \"Jakob Poeltl\", \"Others\", \"Trey Lyles\", \"Lonnie Walker IV\", \"Dejounte Murray\", \"Marco Belinelli\", \"Rudy Gay\", \"Patty Mills\", \"Derrick White\", \"Bryn Forbes\", \"LaMarcus Aldridge\", \"DeMar DeRozan\", \"Jakob Poeltl\", \"Others\", \"Trey Lyles\", \"Lonnie Walker IV\", \"Dejounte Murray\", \"Marco Belinelli\", \"Rudy Gay\", \"Patty Mills\", \"Derrick White\", \"Bryn Forbes\", \"LaMarcus Aldridge\", \"DeMar DeRozan\", \"Jakob Poeltl\", \"Others\", \"Trey Lyles\", \"Lonnie Walker IV\", \"Dejounte Murray\", \"Marco Belinelli\", \"Rudy Gay\", \"Patty Mills\", \"Derrick White\", \"Bryn Forbes\", \"LaMarcus Aldridge\", \"DeMar DeRozan\", \"Jakob Poeltl\", \"Others\", \"Trey Lyles\", \"Lonnie Walker IV\", \"Dejounte Murray\", \"Marco Belinelli\", \"Rudy Gay\", \"Patty Mills\", \"Derrick White\", \"Bryn Forbes\", \"LaMarcus Aldridge\", \"DeMar DeRozan\", \"Jakob Poeltl\", \"Others\", \"Trey Lyles\", \"Lonnie Walker IV\", \"Dejounte Murray\", \"Marco Belinelli\", \"Rudy Gay\", \"Patty Mills\", \"Derrick White\", \"Bryn Forbes\", \"LaMarcus Aldridge\", \"DeMar DeRozan\", \"Jakob Poeltl\", \"Others\", \"Trey Lyles\", \"Lonnie Walker IV\", \"Dejounte Murray\", \"Marco Belinelli\", \"Rudy Gay\", \"Patty Mills\", \"Derrick White\", \"Bryn Forbes\", \"LaMarcus Aldridge\", \"DeMar DeRozan\", \"Jakob Poeltl\", \"Others\", \"Trey Lyles\", \"Lonnie Walker IV\", \"Dejounte Murray\", \"Marco Belinelli\", \"Rudy Gay\", \"Patty Mills\", \"Derrick White\", \"Bryn Forbes\", \"LaMarcus Aldridge\", \"DeMar DeRozan\", \"Jakob Poeltl\", \"Others\", \"Trey Lyles\", \"Lonnie Walker IV\", \"Dejounte Murray\", \"Marco Belinelli\", \"Rudy Gay\", \"Patty Mills\", \"Derrick White\", \"Bryn Forbes\", \"LaMarcus Aldridge\", \"DeMar DeRozan\", \"Jakob Poeltl\", \"Others\", \"Trey Lyles\", \"Lonnie Walker IV\", \"Dejounte Murray\", \"Marco Belinelli\", \"Rudy Gay\", \"Patty Mills\", \"Derrick White\", \"Bryn Forbes\", \"LaMarcus Aldridge\", \"DeMar DeRozan\", \"Jakob Poeltl\", \"Others\", \"Trey Lyles\", \"Lonnie Walker IV\", \"Dejounte Murray\", \"Marco Belinelli\", \"Rudy Gay\", \"Patty Mills\", \"Derrick White\", \"Bryn Forbes\", \"LaMarcus Aldridge\", \"DeMar DeRozan\", \"Jakob Poeltl\", \"Others\", \"Trey Lyles\", \"Lonnie Walker IV\", \"Dejounte Murray\", \"Marco Belinelli\", \"Rudy Gay\", \"Patty Mills\", \"Derrick White\", \"Bryn Forbes\", \"LaMarcus Aldridge\", \"DeMar DeRozan\", \"Jakob Poeltl\", \"Others\", \"Trey Lyles\", \"Lonnie Walker IV\", \"Dejounte Murray\", \"Marco Belinelli\", \"Rudy Gay\", \"Patty Mills\", \"Derrick White\", \"Bryn Forbes\", \"LaMarcus Aldridge\", \"DeMar DeRozan\", \"Jakob Poeltl\", \"Others\", \"Trey Lyles\", \"Lonnie Walker IV\", \"Dejounte Murray\", \"Marco Belinelli\", \"Rudy Gay\", \"Patty Mills\", \"Derrick White\", \"Bryn Forbes\", \"LaMarcus Aldridge\", \"DeMar DeRozan\", \"Jakob Poeltl\", \"Others\", \"Trey Lyles\", \"Lonnie Walker IV\", \"Dejounte Murray\", \"Marco Belinelli\", \"Rudy Gay\", \"Patty Mills\", \"Derrick White\", \"Bryn Forbes\", \"LaMarcus Aldridge\", \"DeMar DeRozan\", \"Jakob Poeltl\", \"Others\", \"Trey Lyles\", \"Lonnie Walker IV\", \"Dejounte Murray\", \"Marco Belinelli\", \"Rudy Gay\", \"Patty Mills\", \"Derrick White\", \"Bryn Forbes\", \"LaMarcus Aldridge\", \"DeMar DeRozan\", \"Jakob Poeltl\", \"Others\", \"Trey Lyles\", \"Lonnie Walker IV\", \"Dejounte Murray\", \"Marco Belinelli\", \"Rudy Gay\", \"Patty Mills\", \"Derrick White\", \"Bryn Forbes\", \"LaMarcus Aldridge\", \"DeMar DeRozan\", \"Jakob Poeltl\", \"Others\", \"Trey Lyles\", \"Lonnie Walker IV\", \"Dejounte Murray\", \"Marco Belinelli\", \"Rudy Gay\", \"Patty Mills\", \"Derrick White\", \"Bryn Forbes\", \"LaMarcus Aldridge\", \"DeMar DeRozan\", \"Jakob Poeltl\", \"Others\", \"Trey Lyles\", \"Lonnie Walker IV\", \"Dejounte Murray\", \"Marco Belinelli\", \"Rudy Gay\", \"Patty Mills\", \"Derrick White\", \"Bryn Forbes\", \"LaMarcus Aldridge\", \"DeMar DeRozan\", \"Jakob Poeltl\", \"Others\", \"Trey Lyles\", \"Lonnie Walker IV\", \"Dejounte Murray\", \"Marco Belinelli\", \"Rudy Gay\", \"Patty Mills\", \"Derrick White\", \"Bryn Forbes\", \"LaMarcus Aldridge\", \"DeMar DeRozan\", \"Jakob Poeltl\", \"Others\", \"Trey Lyles\", \"Lonnie Walker IV\", \"Dejounte Murray\", \"Marco Belinelli\", \"Rudy Gay\", \"Patty Mills\", \"Derrick White\", \"Bryn Forbes\", \"LaMarcus Aldridge\", \"DeMar DeRozan\", \"Jakob Poeltl\", \"Others\", \"Trey Lyles\", \"Lonnie Walker IV\", \"Dejounte Murray\", \"Marco Belinelli\", \"Rudy Gay\", \"Patty Mills\", \"Derrick White\", \"Bryn Forbes\", \"LaMarcus Aldridge\", \"DeMar DeRozan\", \"Jakob Poeltl\", \"Others\", \"Trey Lyles\", \"Lonnie Walker IV\", \"Dejounte Murray\", \"Marco Belinelli\", \"Rudy Gay\", \"Patty Mills\", \"Derrick White\", \"Bryn Forbes\", \"LaMarcus Aldridge\", \"DeMar DeRozan\", \"Jakob Poeltl\", \"Others\", \"Trey Lyles\", \"Lonnie Walker IV\", \"Dejounte Murray\", \"Marco Belinelli\", \"Rudy Gay\", \"Patty Mills\", \"Derrick White\", \"Bryn Forbes\", \"LaMarcus Aldridge\", \"DeMar DeRozan\", \"Jakob Poeltl\", \"Others\", \"Trey Lyles\", \"Lonnie Walker IV\", \"Dejounte Murray\", \"Marco Belinelli\", \"Rudy Gay\", \"Patty Mills\", \"Derrick White\", \"Bryn Forbes\", \"LaMarcus Aldridge\", \"DeMar DeRozan\", \"Jakob Poeltl\", \"Others\", \"Trey Lyles\", \"Lonnie Walker IV\", \"Dejounte Murray\", \"Marco Belinelli\", \"Rudy Gay\", \"Patty Mills\", \"Derrick White\", \"Bryn Forbes\", \"LaMarcus Aldridge\", \"DeMar DeRozan\", \"Jakob Poeltl\", \"Others\", \"Trey Lyles\", \"Lonnie Walker IV\", \"Dejounte Murray\", \"Marco Belinelli\", \"Rudy Gay\", \"Patty Mills\", \"Derrick White\", \"Bryn Forbes\", \"LaMarcus Aldridge\", \"DeMar DeRozan\", \"Jakob Poeltl\", \"Others\", \"Trey Lyles\", \"Lonnie Walker IV\", \"Dejounte Murray\", \"Marco Belinelli\", \"Rudy Gay\", \"Patty Mills\", \"Derrick White\", \"Bryn Forbes\", \"LaMarcus Aldridge\", \"DeMar DeRozan\", \"Jakob Poeltl\", \"Others\", \"Trey Lyles\", \"Lonnie Walker IV\", \"Dejounte Murray\", \"Marco Belinelli\", \"Rudy Gay\", \"Patty Mills\", \"Derrick White\", \"Bryn Forbes\", \"LaMarcus Aldridge\", \"DeMar DeRozan\", \"Jakob Poeltl\", \"Others\", \"Trey Lyles\", \"Lonnie Walker IV\", \"Dejounte Murray\", \"Marco Belinelli\", \"Rudy Gay\", \"Patty Mills\", \"Derrick White\", \"Bryn Forbes\", \"LaMarcus Aldridge\", \"DeMar DeRozan\", \"Jakob Poeltl\", \"Others\", \"Trey Lyles\", \"Lonnie Walker IV\", \"Dejounte Murray\", \"Marco Belinelli\", \"Rudy Gay\", \"Patty Mills\", \"Derrick White\", \"Bryn Forbes\", \"LaMarcus Aldridge\", \"DeMar DeRozan\", \"Jakob Poeltl\", \"Others\", \"Trey Lyles\", \"Lonnie Walker IV\", \"Dejounte Murray\", \"Marco Belinelli\", \"Rudy Gay\", \"Patty Mills\", \"Derrick White\", \"Bryn Forbes\", \"LaMarcus Aldridge\", \"DeMar DeRozan\"], \"legendgroup\": \"\", \"marker\": {\"color\": [137.5, 89.2, 99.1, 68.8, 106.8, 74.4, 94.8, 121.5, 104.3, 100.0, 102.8, 109.6, 137.5, 89.2, 99.1, 68.8, 106.8, 74.4, 94.8, 121.5, 104.3, 100.0, 102.8, 109.6, 137.5, 89.2, 99.1, 68.8, 106.8, 74.4, 94.8, 121.5, 104.3, 100.0, 102.8, 109.6, 137.5, 89.2, 99.1, 68.8, 106.8, 74.4, 94.8, 121.5, 104.3, 100.0, 102.8, 109.6, 137.5, 89.2, 99.1, 68.8, 106.8, 74.4, 94.8, 121.5, 104.3, 100.0, 102.8, 109.6, 137.5, 89.2, 99.1, 68.8, 106.8, 74.4, 94.8, 121.5, 104.3, 100.0, 102.8, 109.6, 137.5, 89.2, 99.1, 68.8, 106.8, 74.4, 94.8, 121.5, 104.3, 100.0, 102.8, 109.6, 137.5, 89.2, 99.1, 68.8, 106.8, 74.4, 94.8, 121.5, 104.3, 100.0, 102.8, 109.6, 137.5, 89.2, 99.1, 68.8, 106.8, 74.4, 94.8, 121.5, 104.3, 100.0, 102.8, 109.6, 137.5, 89.2, 99.1, 68.8, 106.8, 74.4, 94.8, 121.5, 104.3, 100.0, 102.8, 109.6, 137.5, 89.2, 99.1, 68.8, 106.8, 74.4, 94.8, 121.5, 104.3, 100.0, 102.8, 109.6, 137.5, 89.2, 99.1, 68.8, 106.8, 74.4, 94.8, 121.5, 104.3, 100.0, 102.8, 109.6, 120.0, 89.2, 95.1, 93.1, 92.9, 100.0, 102.6, 114.5, 101.1, 115.2, 109.7, 116.0, 120.0, 89.2, 95.1, 93.1, 92.9, 100.0, 102.6, 114.5, 101.1, 115.2, 109.7, 116.0, 120.0, 89.2, 95.1, 93.1, 92.9, 100.0, 102.6, 114.5, 101.1, 115.2, 109.7, 116.0, 120.0, 89.2, 95.1, 93.1, 92.9, 100.0, 102.6, 114.5, 101.1, 115.2, 109.7, 116.0, 120.0, 89.2, 95.1, 93.1, 92.9, 100.0, 102.6, 114.5, 101.1, 115.2, 109.7, 116.0, 120.0, 89.2, 95.1, 93.1, 92.9, 100.0, 102.6, 114.5, 101.1, 115.2, 109.7, 116.0, 120.0, 89.2, 95.1, 93.1, 92.9, 100.0, 102.6, 114.5, 101.1, 115.2, 109.7, 116.0, 120.0, 89.2, 95.1, 93.1, 92.9, 100.0, 102.6, 114.5, 101.1, 115.2, 109.7, 116.0, 120.0, 89.2, 95.1, 93.1, 92.9, 100.0, 102.6, 114.5, 101.1, 115.2, 109.7, 116.0, 120.0, 89.2, 95.1, 93.1, 92.9, 100.0, 102.6, 114.5, 101.1, 115.2, 109.7, 116.0, 120.0, 89.2, 95.1, 93.1, 92.9, 100.0, 102.6, 114.5, 101.1, 115.2, 109.7, 116.0, 120.0, 89.2, 95.1, 93.1, 92.9, 100.0, 102.6, 114.5, 101.1, 115.2, 109.7, 116.0, 123.1, 89.2, 109.5, 100.0, 101.0, 82.9, 83.3, 112.2, 113.3, 113.4, 111.1, 98.2, 123.1, 89.2, 109.5, 100.0, 101.0, 82.9, 83.3, 112.2, 113.3, 113.4, 111.1, 98.2, 123.1, 89.2, 109.5, 100.0, 101.0, 82.9, 83.3, 112.2, 113.3, 113.4, 111.1, 98.2, 123.1, 89.2, 109.5, 100.0, 101.0, 82.9, 83.3, 112.2, 113.3, 113.4, 111.1, 98.2, 123.1, 89.2, 109.5, 100.0, 101.0, 82.9, 83.3, 112.2, 113.3, 113.4, 111.1, 98.2, 123.1, 89.2, 109.5, 100.0, 101.0, 82.9, 83.3, 112.2, 113.3, 113.4, 111.1, 98.2, 123.1, 89.2, 109.5, 100.0, 101.0, 82.9, 83.3, 112.2, 113.3, 113.4, 111.1, 98.2, 123.1, 89.2, 109.5, 100.0, 101.0, 82.9, 83.3, 112.2, 113.3, 113.4, 111.1, 98.2, 123.1, 89.2, 109.5, 100.0, 101.0, 82.9, 83.3, 112.2, 113.3, 113.4, 111.1, 98.2, 123.1, 89.2, 109.5, 100.0, 101.0, 82.9, 83.3, 112.2, 113.3, 113.4, 111.1, 98.2, 123.1, 89.2, 109.5, 100.0, 101.0, 82.9, 83.3, 112.2, 113.3, 113.4, 111.1, 98.2, 123.1, 89.2, 109.5, 100.0, 101.0, 82.9, 83.3, 112.2, 113.3, 113.4, 111.1, 98.2, 105.9, 89.2, 129.2, 136.5, 101.1, 92.0, 114.5, 93.5, 101.0, 93.2, 104.2, 105.8, 105.9, 89.2, 129.2, 136.5, 101.1, 92.0, 114.5, 93.5, 101.0, 93.2, 104.2, 105.8, 105.9, 89.2, 129.2, 136.5, 101.1, 92.0, 114.5, 93.5, 101.0, 93.2, 104.2, 105.8, 105.9, 89.2, 129.2, 136.5, 101.1, 92.0, 114.5, 93.5, 101.0, 93.2, 104.2, 105.8, 105.9, 89.2, 129.2, 136.5, 101.1, 92.0, 114.5, 93.5, 101.0, 93.2, 104.2, 105.8, 105.9, 89.2, 129.2, 136.5, 101.1, 92.0, 114.5, 93.5, 101.0, 93.2, 104.2, 105.8, 105.9, 89.2, 129.2, 136.5, 101.1, 92.0, 114.5, 93.5, 101.0, 93.2, 104.2, 105.8, 105.9, 89.2, 129.2, 136.5, 101.1, 92.0, 114.5, 93.5, 101.0, 93.2, 104.2, 105.8, 105.9, 89.2, 129.2, 136.5, 101.1, 92.0, 114.5, 93.5, 101.0, 93.2, 104.2, 105.8, 105.9, 89.2, 129.2, 136.5, 101.1, 92.0, 114.5, 93.5, 101.0, 93.2, 104.2, 105.8, 105.9, 89.2, 129.2, 136.5, 101.1, 92.0, 114.5, 93.5, 101.0, 93.2, 104.2, 105.8, 105.9, 89.2, 129.2, 136.5, 101.1, 92.0, 114.5, 93.5, 101.0, 93.2, 104.2, 105.8], \"coloraxis\": \"coloraxis\", \"line\": {\"color\": \"Navy\", \"width\": 1}, \"size\": [1.2, 0.0, 7.3, 0.0, 12.2, 0.0, 2.4, 0.0, 2.4, 28.0, 30.5, 15.9, 1.9, 0.0, 17.3, 0.0, 10.6, 0.0, 1.0, 0.0, 1.9, 17.3, 26.9, 23.1, 2.0, 0.0, 13.9, 1.0, 12.9, 0.0, 0.0, 0.0, 1.0, 20.8, 28.7, 19.8, 2.5, 0.0, 15.1, 2.5, 14.3, 0.0, 5.0, 0.0, 4.2, 16.8, 23.5, 16.0, 2.1, 0.0, 11.7, 3.2, 10.6, 0.0, 2.1, 1.1, 5.3, 20.2, 27.7, 16.0, 2.1, 0.0, 7.4, 1.1, 17.9, 1.1, 3.2, 5.3, 4.2, 9.5, 28.4, 20.0, 2.8, 0.0, 9.3, 0.0, 14.8, 2.8, 6.5, 6.5, 3.7, 13.9, 19.4, 20.4, 0.0, 0.0, 9.5, 2.1, 3.2, 2.1, 9.5, 12.6, 8.4, 6.3, 18.9, 27.4, 6.2, 2.1, 3.1, 1.0, 3.1, 3.1, 21.6, 17.5, 15.5, 1.0, 11.3, 14.4, 6.1, 0.0, 2.6, 5.3, 3.5, 7.0, 18.4, 23.7, 9.6, 0.0, 15.8, 7.9, 6.1, 3.0, 1.0, 7.1, 7.1, 9.1, 10.1, 28.3, 10.1, 1.0, 11.1, 6.1, 11.7, 0.8, 5.0, 6.7, 5.8, 10.8, 11.7, 20.0, 21.7, 0.0, 5.8, 0.0, 9.3, 1.2, 1.2, 3.5, 7.0, 11.6, 26.7, 24.4, 10.5, 1.2, 1.2, 2.3, 12.1, 1.9, 0.0, 8.4, 8.4, 9.3, 18.7, 23.4, 10.3, 1.9, 2.8, 2.8, 11.7, 1.9, 1.0, 6.8, 7.8, 13.6, 13.6, 21.4, 10.7, 4.9, 3.9, 2.9, 7.5, 0.9, 2.8, 12.3, 12.3, 10.4, 5.7, 10.4, 7.5, 13.2, 10.4, 6.6, 6.6, 1.9, 8.5, 6.6, 11.3, 10.4, 8.5, 2.8, 2.8, 15.1, 9.4, 16.0, 5.2, 3.1, 6.2, 5.2, 13.5, 2.1, 6.2, 2.1, 6.2, 19.8, 8.3, 21.9, 3.1, 0.0, 6.1, 3.1, 18.4, 6.1, 2.0, 4.1, 3.1, 17.3, 19.4, 17.3, 2.0, 1.0, 8.9, 1.0, 9.9, 4.0, 5.0, 3.0, 4.0, 12.9, 24.8, 23.8, 1.0, 0.0, 9.6, 0.0, 11.5, 4.8, 5.8, 2.9, 12.5, 13.5, 15.4, 23.1, 3.0, 1.0, 3.0, 2.0, 8.0, 5.0, 3.0, 12.0, 5.0, 12.0, 18.0, 28.0, 0.0, 0.0, 4.4, 4.4, 8.8, 3.5, 13.2, 10.5, 11.4, 4.4, 18.4, 21.1, 2.7, 0.9, 7.1, 2.7, 7.1, 2.7, 7.1, 11.6, 8.0, 6.2, 17.0, 26.8, 3.5, 0.0, 5.8, 2.3, 8.1, 0.0, 3.5, 0.0, 3.5, 24.4, 24.4, 24.4, 3.2, 0.0, 7.4, 3.2, 13.7, 0.0, 1.1, 0.0, 4.2, 23.2, 26.3, 17.9, 1.0, 0.0, 9.5, 1.0, 12.4, 0.0, 2.9, 1.9, 1.9, 26.7, 22.9, 20.0, 1.1, 0.0, 5.5, 1.1, 19.8, 0.0, 1.1, 2.2, 2.2, 14.3, 26.4, 26.4, 3.1, 0.0, 13.3, 2.0, 14.3, 1.0, 4.1, 4.1, 4.1, 14.3, 17.3, 22.4, 5.3, 0.0, 9.6, 3.2, 10.6, 0.0, 6.4, 6.4, 4.3, 11.7, 16.0, 26.6, 1.1, 0.0, 2.1, 3.2, 4.2, 3.2, 11.6, 5.3, 8.4, 14.7, 17.9, 28.4, 5.8, 1.0, 1.9, 0.0, 4.9, 1.9, 16.5, 15.5, 11.7, 2.9, 17.5, 20.4, 4.0, 1.0, 2.0, 9.1, 4.0, 5.1, 19.2, 15.2, 15.2, 1.0, 10.1, 14.1, 7.2, 0.0, 2.1, 6.2, 2.1, 8.2, 11.3, 23.7, 12.4, 2.1, 12.4, 12.4, 8.8, 0.0, 2.2, 13.2, 2.2, 9.9, 17.6, 18.7, 14.3, 2.2, 3.3, 7.7, 7.6, 0.8, 3.1, 8.4, 3.8, 5.3, 16.8, 25.2, 14.5, 2.3, 3.1, 9.2, 9.5, 2.4, 1.2, 7.1, 6.0, 11.9, 21.4, 26.2, 7.1, 2.4, 2.4, 2.4, 5.6, 2.2, 4.5, 11.2, 5.6, 7.9, 18.0, 23.6, 14.6, 1.1, 3.4, 2.2, 7.8, 2.2, 3.3, 5.6, 6.7, 10.0, 11.1, 14.4, 14.4, 8.9, 4.4, 11.1, 8.7, 1.1, 2.2, 9.8, 14.1, 8.7, 6.5, 4.3, 6.5, 12.0, 7.6, 18.5, 2.2, 1.1, 2.2, 6.7, 13.5, 12.4, 3.4, 4.5, 4.5, 11.2, 9.0, 29.2, 0.0, 0.0, 2.8, 2.8, 18.1, 5.6, 0.0, 2.8, 6.9, 12.5, 26.4, 22.2, 0.0, 1.4, 1.4, 1.4, 20.3, 8.1, 4.1, 1.4, 5.4, 9.5, 17.6, 29.7, 1.3, 0.0, 2.7, 6.7, 8.0, 2.7, 1.3, 1.3, 14.7, 4.0, 33.3, 24.0, 0.0, 0.0, 0.0, 2.8, 6.9, 2.8, 2.8, 12.5, 12.5, 13.9, 12.5, 33.3, 1.6, 1.6, 1.6, 0.0, 1.6, 9.5, 6.3, 14.3, 7.9, 23.8, 14.3, 17.5, 0.0, 2.6, 1.3, 3.9, 5.3, 3.9, 2.6, 18.4, 11.8, 10.5, 13.2, 26.3, 1.9, 1.9, 4.7, 2.8, 1.9, 6.5, 10.3, 6.5, 14.0, 17.8, 10.3, 21.5], \"sizemode\": \"area\", \"sizeref\": 0.26666666666666666, \"symbol\": \"circle\"}, \"mode\": \"markers\", \"name\": \"\", \"showlegend\": false, \"type\": \"scatter\", \"x\": [0.5, 0.5, 0.5, 0.5, 0.5, 0.5, 0.5, 0.5, 0.5, 0.5, 0.5, 0.5, 1.5, 1.5, 1.5, 1.5, 1.5, 1.5, 1.5, 1.5, 1.5, 1.5, 1.5, 1.5, 2.5, 2.5, 2.5, 2.5, 2.5, 2.5, 2.5, 2.5, 2.5, 2.5, 2.5, 2.5, 3.5, 3.5, 3.5, 3.5, 3.5, 3.5, 3.5, 3.5, 3.5, 3.5, 3.5, 3.5, 4.5, 4.5, 4.5, 4.5, 4.5, 4.5, 4.5, 4.5, 4.5, 4.5, 4.5, 4.5, 5.5, 5.5, 5.5, 5.5, 5.5, 5.5, 5.5, 5.5, 5.5, 5.5, 5.5, 5.5, 6.5, 6.5, 6.5, 6.5, 6.5, 6.5, 6.5, 6.5, 6.5, 6.5, 6.5, 6.5, 7.5, 7.5, 7.5, 7.5, 7.5, 7.5, 7.5, 7.5, 7.5, 7.5, 7.5, 7.5, 8.5, 8.5, 8.5, 8.5, 8.5, 8.5, 8.5, 8.5, 8.5, 8.5, 8.5, 8.5, 9.5, 9.5, 9.5, 9.5, 9.5, 9.5, 9.5, 9.5, 9.5, 9.5, 9.5, 9.5, 10.5, 10.5, 10.5, 10.5, 10.5, 10.5, 10.5, 10.5, 10.5, 10.5, 10.5, 10.5, 11.5, 11.5, 11.5, 11.5, 11.5, 11.5, 11.5, 11.5, 11.5, 11.5, 11.5, 11.5, 12.5, 12.5, 12.5, 12.5, 12.5, 12.5, 12.5, 12.5, 12.5, 12.5, 12.5, 12.5, 13.5, 13.5, 13.5, 13.5, 13.5, 13.5, 13.5, 13.5, 13.5, 13.5, 13.5, 13.5, 14.5, 14.5, 14.5, 14.5, 14.5, 14.5, 14.5, 14.5, 14.5, 14.5, 14.5, 14.5, 15.5, 15.5, 15.5, 15.5, 15.5, 15.5, 15.5, 15.5, 15.5, 15.5, 15.5, 15.5, 16.5, 16.5, 16.5, 16.5, 16.5, 16.5, 16.5, 16.5, 16.5, 16.5, 16.5, 16.5, 17.5, 17.5, 17.5, 17.5, 17.5, 17.5, 17.5, 17.5, 17.5, 17.5, 17.5, 17.5, 18.5, 18.5, 18.5, 18.5, 18.5, 18.5, 18.5, 18.5, 18.5, 18.5, 18.5, 18.5, 19.5, 19.5, 19.5, 19.5, 19.5, 19.5, 19.5, 19.5, 19.5, 19.5, 19.5, 19.5, 20.5, 20.5, 20.5, 20.5, 20.5, 20.5, 20.5, 20.5, 20.5, 20.5, 20.5, 20.5, 21.5, 21.5, 21.5, 21.5, 21.5, 21.5, 21.5, 21.5, 21.5, 21.5, 21.5, 21.5, 22.5, 22.5, 22.5, 22.5, 22.5, 22.5, 22.5, 22.5, 22.5, 22.5, 22.5, 22.5, 23.5, 23.5, 23.5, 23.5, 23.5, 23.5, 23.5, 23.5, 23.5, 23.5, 23.5, 23.5, 24.5, 24.5, 24.5, 24.5, 24.5, 24.5, 24.5, 24.5, 24.5, 24.5, 24.5, 24.5, 25.5, 25.5, 25.5, 25.5, 25.5, 25.5, 25.5, 25.5, 25.5, 25.5, 25.5, 25.5, 26.5, 26.5, 26.5, 26.5, 26.5, 26.5, 26.5, 26.5, 26.5, 26.5, 26.5, 26.5, 27.5, 27.5, 27.5, 27.5, 27.5, 27.5, 27.5, 27.5, 27.5, 27.5, 27.5, 27.5, 28.5, 28.5, 28.5, 28.5, 28.5, 28.5, 28.5, 28.5, 28.5, 28.5, 28.5, 28.5, 29.5, 29.5, 29.5, 29.5, 29.5, 29.5, 29.5, 29.5, 29.5, 29.5, 29.5, 29.5, 30.5, 30.5, 30.5, 30.5, 30.5, 30.5, 30.5, 30.5, 30.5, 30.5, 30.5, 30.5, 31.5, 31.5, 31.5, 31.5, 31.5, 31.5, 31.5, 31.5, 31.5, 31.5, 31.5, 31.5, 32.5, 32.5, 32.5, 32.5, 32.5, 32.5, 32.5, 32.5, 32.5, 32.5, 32.5, 32.5, 33.5, 33.5, 33.5, 33.5, 33.5, 33.5, 33.5, 33.5, 33.5, 33.5, 33.5, 33.5, 34.5, 34.5, 34.5, 34.5, 34.5, 34.5, 34.5, 34.5, 34.5, 34.5, 34.5, 34.5, 35.5, 35.5, 35.5, 35.5, 35.5, 35.5, 35.5, 35.5, 35.5, 35.5, 35.5, 35.5, 36.5, 36.5, 36.5, 36.5, 36.5, 36.5, 36.5, 36.5, 36.5, 36.5, 36.5, 36.5, 37.5, 37.5, 37.5, 37.5, 37.5, 37.5, 37.5, 37.5, 37.5, 37.5, 37.5, 37.5, 38.5, 38.5, 38.5, 38.5, 38.5, 38.5, 38.5, 38.5, 38.5, 38.5, 38.5, 38.5, 39.5, 39.5, 39.5, 39.5, 39.5, 39.5, 39.5, 39.5, 39.5, 39.5, 39.5, 39.5, 40.5, 40.5, 40.5, 40.5, 40.5, 40.5, 40.5, 40.5, 40.5, 40.5, 40.5, 40.5, 41.5, 41.5, 41.5, 41.5, 41.5, 41.5, 41.5, 41.5, 41.5, 41.5, 41.5, 41.5, 42.5, 42.5, 42.5, 42.5, 42.5, 42.5, 42.5, 42.5, 42.5, 42.5, 42.5, 42.5, 43.5, 43.5, 43.5, 43.5, 43.5, 43.5, 43.5, 43.5, 43.5, 43.5, 43.5, 43.5, 44.5, 44.5, 44.5, 44.5, 44.5, 44.5, 44.5, 44.5, 44.5, 44.5, 44.5, 44.5, 45.5, 45.5, 45.5, 45.5, 45.5, 45.5, 45.5, 45.5, 45.5, 45.5, 45.5, 45.5, 46.5, 46.5, 46.5, 46.5, 46.5, 46.5, 46.5, 46.5, 46.5, 46.5, 46.5, 46.5, 47.5, 47.5, 47.5, 47.5, 47.5, 47.5, 47.5, 47.5, 47.5, 47.5, 47.5, 47.5], \"xaxis\": \"x\", \"y\": [\"Jakob Poeltl\", \"Others\", \"Trey Lyles\", \"Lonnie Walker IV\", \"Dejounte Murray\", \"Marco Belinelli\", \"Rudy Gay\", \"Patty Mills\", \"Derrick White\", \"Bryn Forbes\", \"LaMarcus Aldridge\", \"DeMar DeRozan\", \"Jakob Poeltl\", \"Others\", \"Trey Lyles\", \"Lonnie Walker IV\", \"Dejounte Murray\", \"Marco Belinelli\", \"Rudy Gay\", \"Patty Mills\", \"Derrick White\", \"Bryn Forbes\", \"LaMarcus Aldridge\", \"DeMar DeRozan\", \"Jakob Poeltl\", \"Others\", \"Trey Lyles\", \"Lonnie Walker IV\", \"Dejounte Murray\", \"Marco Belinelli\", \"Rudy Gay\", \"Patty Mills\", \"Derrick White\", \"Bryn Forbes\", \"LaMarcus Aldridge\", \"DeMar DeRozan\", \"Jakob Poeltl\", \"Others\", \"Trey Lyles\", \"Lonnie Walker IV\", \"Dejounte Murray\", \"Marco Belinelli\", \"Rudy Gay\", \"Patty Mills\", \"Derrick White\", \"Bryn Forbes\", \"LaMarcus Aldridge\", \"DeMar DeRozan\", \"Jakob Poeltl\", \"Others\", \"Trey Lyles\", \"Lonnie Walker IV\", \"Dejounte Murray\", \"Marco Belinelli\", \"Rudy Gay\", \"Patty Mills\", \"Derrick White\", \"Bryn Forbes\", \"LaMarcus Aldridge\", \"DeMar DeRozan\", \"Jakob Poeltl\", \"Others\", \"Trey Lyles\", \"Lonnie Walker IV\", \"Dejounte Murray\", \"Marco Belinelli\", \"Rudy Gay\", \"Patty Mills\", \"Derrick White\", \"Bryn Forbes\", \"LaMarcus Aldridge\", \"DeMar DeRozan\", \"Jakob Poeltl\", \"Others\", \"Trey Lyles\", \"Lonnie Walker IV\", \"Dejounte Murray\", \"Marco Belinelli\", \"Rudy Gay\", \"Patty Mills\", \"Derrick White\", \"Bryn Forbes\", \"LaMarcus Aldridge\", \"DeMar DeRozan\", \"Jakob Poeltl\", \"Others\", \"Trey Lyles\", \"Lonnie Walker IV\", \"Dejounte Murray\", \"Marco Belinelli\", \"Rudy Gay\", \"Patty Mills\", \"Derrick White\", \"Bryn Forbes\", \"LaMarcus Aldridge\", \"DeMar DeRozan\", \"Jakob Poeltl\", \"Others\", \"Trey Lyles\", \"Lonnie Walker IV\", \"Dejounte Murray\", \"Marco Belinelli\", \"Rudy Gay\", \"Patty Mills\", \"Derrick White\", \"Bryn Forbes\", \"LaMarcus Aldridge\", \"DeMar DeRozan\", \"Jakob Poeltl\", \"Others\", \"Trey Lyles\", \"Lonnie Walker IV\", \"Dejounte Murray\", \"Marco Belinelli\", \"Rudy Gay\", \"Patty Mills\", \"Derrick White\", \"Bryn Forbes\", \"LaMarcus Aldridge\", \"DeMar DeRozan\", \"Jakob Poeltl\", \"Others\", \"Trey Lyles\", \"Lonnie Walker IV\", \"Dejounte Murray\", \"Marco Belinelli\", \"Rudy Gay\", \"Patty Mills\", \"Derrick White\", \"Bryn Forbes\", \"LaMarcus Aldridge\", \"DeMar DeRozan\", \"Jakob Poeltl\", \"Others\", \"Trey Lyles\", \"Lonnie Walker IV\", \"Dejounte Murray\", \"Marco Belinelli\", \"Rudy Gay\", \"Patty Mills\", \"Derrick White\", \"Bryn Forbes\", \"LaMarcus Aldridge\", \"DeMar DeRozan\", \"Jakob Poeltl\", \"Others\", \"Trey Lyles\", \"Lonnie Walker IV\", \"Dejounte Murray\", \"Marco Belinelli\", \"Rudy Gay\", \"Patty Mills\", \"Derrick White\", \"Bryn Forbes\", \"LaMarcus Aldridge\", \"DeMar DeRozan\", \"Jakob Poeltl\", \"Others\", \"Trey Lyles\", \"Lonnie Walker IV\", \"Dejounte Murray\", \"Marco Belinelli\", \"Rudy Gay\", \"Patty Mills\", \"Derrick White\", \"Bryn Forbes\", \"LaMarcus Aldridge\", \"DeMar DeRozan\", \"Jakob Poeltl\", \"Others\", \"Trey Lyles\", \"Lonnie Walker IV\", \"Dejounte Murray\", \"Marco Belinelli\", \"Rudy Gay\", \"Patty Mills\", \"Derrick White\", \"Bryn Forbes\", \"LaMarcus Aldridge\", \"DeMar DeRozan\", \"Jakob Poeltl\", \"Others\", \"Trey Lyles\", \"Lonnie Walker IV\", \"Dejounte Murray\", \"Marco Belinelli\", \"Rudy Gay\", \"Patty Mills\", \"Derrick White\", \"Bryn Forbes\", \"LaMarcus Aldridge\", \"DeMar DeRozan\", \"Jakob Poeltl\", \"Others\", \"Trey Lyles\", \"Lonnie Walker IV\", \"Dejounte Murray\", \"Marco Belinelli\", \"Rudy Gay\", \"Patty Mills\", \"Derrick White\", \"Bryn Forbes\", \"LaMarcus Aldridge\", \"DeMar DeRozan\", \"Jakob Poeltl\", \"Others\", \"Trey Lyles\", \"Lonnie Walker IV\", \"Dejounte Murray\", \"Marco Belinelli\", \"Rudy Gay\", \"Patty Mills\", \"Derrick White\", \"Bryn Forbes\", \"LaMarcus Aldridge\", \"DeMar DeRozan\", \"Jakob Poeltl\", \"Others\", \"Trey Lyles\", \"Lonnie Walker IV\", \"Dejounte Murray\", \"Marco Belinelli\", \"Rudy Gay\", \"Patty Mills\", \"Derrick White\", \"Bryn Forbes\", \"LaMarcus Aldridge\", \"DeMar DeRozan\", \"Jakob Poeltl\", \"Others\", \"Trey Lyles\", \"Lonnie Walker IV\", \"Dejounte Murray\", \"Marco Belinelli\", \"Rudy Gay\", \"Patty Mills\", \"Derrick White\", \"Bryn Forbes\", \"LaMarcus Aldridge\", \"DeMar DeRozan\", \"Jakob Poeltl\", \"Others\", \"Trey Lyles\", \"Lonnie Walker IV\", \"Dejounte Murray\", \"Marco Belinelli\", \"Rudy Gay\", \"Patty Mills\", \"Derrick White\", \"Bryn Forbes\", \"LaMarcus Aldridge\", \"DeMar DeRozan\", \"Jakob Poeltl\", \"Others\", \"Trey Lyles\", \"Lonnie Walker IV\", \"Dejounte Murray\", \"Marco Belinelli\", \"Rudy Gay\", \"Patty Mills\", \"Derrick White\", \"Bryn Forbes\", \"LaMarcus Aldridge\", \"DeMar DeRozan\", \"Jakob Poeltl\", \"Others\", \"Trey Lyles\", \"Lonnie Walker IV\", \"Dejounte Murray\", \"Marco Belinelli\", \"Rudy Gay\", \"Patty Mills\", \"Derrick White\", \"Bryn Forbes\", \"LaMarcus Aldridge\", \"DeMar DeRozan\", \"Jakob Poeltl\", \"Others\", \"Trey Lyles\", \"Lonnie Walker IV\", \"Dejounte Murray\", \"Marco Belinelli\", \"Rudy Gay\", \"Patty Mills\", \"Derrick White\", \"Bryn Forbes\", \"LaMarcus Aldridge\", \"DeMar DeRozan\", \"Jakob Poeltl\", \"Others\", \"Trey Lyles\", \"Lonnie Walker IV\", \"Dejounte Murray\", \"Marco Belinelli\", \"Rudy Gay\", \"Patty Mills\", \"Derrick White\", \"Bryn Forbes\", \"LaMarcus Aldridge\", \"DeMar DeRozan\", \"Jakob Poeltl\", \"Others\", \"Trey Lyles\", \"Lonnie Walker IV\", \"Dejounte Murray\", \"Marco Belinelli\", \"Rudy Gay\", \"Patty Mills\", \"Derrick White\", \"Bryn Forbes\", \"LaMarcus Aldridge\", \"DeMar DeRozan\", \"Jakob Poeltl\", \"Others\", \"Trey Lyles\", \"Lonnie Walker IV\", \"Dejounte Murray\", \"Marco Belinelli\", \"Rudy Gay\", \"Patty Mills\", \"Derrick White\", \"Bryn Forbes\", \"LaMarcus Aldridge\", \"DeMar DeRozan\", \"Jakob Poeltl\", \"Others\", \"Trey Lyles\", \"Lonnie Walker IV\", \"Dejounte Murray\", \"Marco Belinelli\", \"Rudy Gay\", \"Patty Mills\", \"Derrick White\", \"Bryn Forbes\", \"LaMarcus Aldridge\", \"DeMar DeRozan\", \"Jakob Poeltl\", \"Others\", \"Trey Lyles\", \"Lonnie Walker IV\", \"Dejounte Murray\", \"Marco Belinelli\", \"Rudy Gay\", \"Patty Mills\", \"Derrick White\", \"Bryn Forbes\", \"LaMarcus Aldridge\", \"DeMar DeRozan\", \"Jakob Poeltl\", \"Others\", \"Trey Lyles\", \"Lonnie Walker IV\", \"Dejounte Murray\", \"Marco Belinelli\", \"Rudy Gay\", \"Patty Mills\", \"Derrick White\", \"Bryn Forbes\", \"LaMarcus Aldridge\", \"DeMar DeRozan\", \"Jakob Poeltl\", \"Others\", \"Trey Lyles\", \"Lonnie Walker IV\", \"Dejounte Murray\", \"Marco Belinelli\", \"Rudy Gay\", \"Patty Mills\", \"Derrick White\", \"Bryn Forbes\", \"LaMarcus Aldridge\", \"DeMar DeRozan\", \"Jakob Poeltl\", \"Others\", \"Trey Lyles\", \"Lonnie Walker IV\", \"Dejounte Murray\", \"Marco Belinelli\", \"Rudy Gay\", \"Patty Mills\", \"Derrick White\", \"Bryn Forbes\", \"LaMarcus Aldridge\", \"DeMar DeRozan\", \"Jakob Poeltl\", \"Others\", \"Trey Lyles\", \"Lonnie Walker IV\", \"Dejounte Murray\", \"Marco Belinelli\", \"Rudy Gay\", \"Patty Mills\", \"Derrick White\", \"Bryn Forbes\", \"LaMarcus Aldridge\", \"DeMar DeRozan\", \"Jakob Poeltl\", \"Others\", \"Trey Lyles\", \"Lonnie Walker IV\", \"Dejounte Murray\", \"Marco Belinelli\", \"Rudy Gay\", \"Patty Mills\", \"Derrick White\", \"Bryn Forbes\", \"LaMarcus Aldridge\", \"DeMar DeRozan\", \"Jakob Poeltl\", \"Others\", \"Trey Lyles\", \"Lonnie Walker IV\", \"Dejounte Murray\", \"Marco Belinelli\", \"Rudy Gay\", \"Patty Mills\", \"Derrick White\", \"Bryn Forbes\", \"LaMarcus Aldridge\", \"DeMar DeRozan\", \"Jakob Poeltl\", \"Others\", \"Trey Lyles\", \"Lonnie Walker IV\", \"Dejounte Murray\", \"Marco Belinelli\", \"Rudy Gay\", \"Patty Mills\", \"Derrick White\", \"Bryn Forbes\", \"LaMarcus Aldridge\", \"DeMar DeRozan\", \"Jakob Poeltl\", \"Others\", \"Trey Lyles\", \"Lonnie Walker IV\", \"Dejounte Murray\", \"Marco Belinelli\", \"Rudy Gay\", \"Patty Mills\", \"Derrick White\", \"Bryn Forbes\", \"LaMarcus Aldridge\", \"DeMar DeRozan\", \"Jakob Poeltl\", \"Others\", \"Trey Lyles\", \"Lonnie Walker IV\", \"Dejounte Murray\", \"Marco Belinelli\", \"Rudy Gay\", \"Patty Mills\", \"Derrick White\", \"Bryn Forbes\", \"LaMarcus Aldridge\", \"DeMar DeRozan\", \"Jakob Poeltl\", \"Others\", \"Trey Lyles\", \"Lonnie Walker IV\", \"Dejounte Murray\", \"Marco Belinelli\", \"Rudy Gay\", \"Patty Mills\", \"Derrick White\", \"Bryn Forbes\", \"LaMarcus Aldridge\", \"DeMar DeRozan\", \"Jakob Poeltl\", \"Others\", \"Trey Lyles\", \"Lonnie Walker IV\", \"Dejounte Murray\", \"Marco Belinelli\", \"Rudy Gay\", \"Patty Mills\", \"Derrick White\", \"Bryn Forbes\", \"LaMarcus Aldridge\", \"DeMar DeRozan\", \"Jakob Poeltl\", \"Others\", \"Trey Lyles\", \"Lonnie Walker IV\", \"Dejounte Murray\", \"Marco Belinelli\", \"Rudy Gay\", \"Patty Mills\", \"Derrick White\", \"Bryn Forbes\", \"LaMarcus Aldridge\", \"DeMar DeRozan\", \"Jakob Poeltl\", \"Others\", \"Trey Lyles\", \"Lonnie Walker IV\", \"Dejounte Murray\", \"Marco Belinelli\", \"Rudy Gay\", \"Patty Mills\", \"Derrick White\", \"Bryn Forbes\", \"LaMarcus Aldridge\", \"DeMar DeRozan\", \"Jakob Poeltl\", \"Others\", \"Trey Lyles\", \"Lonnie Walker IV\", \"Dejounte Murray\", \"Marco Belinelli\", \"Rudy Gay\", \"Patty Mills\", \"Derrick White\", \"Bryn Forbes\", \"LaMarcus Aldridge\", \"DeMar DeRozan\", \"Jakob Poeltl\", \"Others\", \"Trey Lyles\", \"Lonnie Walker IV\", \"Dejounte Murray\", \"Marco Belinelli\", \"Rudy Gay\", \"Patty Mills\", \"Derrick White\", \"Bryn Forbes\", \"LaMarcus Aldridge\", \"DeMar DeRozan\", \"Jakob Poeltl\", \"Others\", \"Trey Lyles\", \"Lonnie Walker IV\", \"Dejounte Murray\", \"Marco Belinelli\", \"Rudy Gay\", \"Patty Mills\", \"Derrick White\", \"Bryn Forbes\", \"LaMarcus Aldridge\", \"DeMar DeRozan\", \"Jakob Poeltl\", \"Others\", \"Trey Lyles\", \"Lonnie Walker IV\", \"Dejounte Murray\", \"Marco Belinelli\", \"Rudy Gay\", \"Patty Mills\", \"Derrick White\", \"Bryn Forbes\", \"LaMarcus Aldridge\", \"DeMar DeRozan\", \"Jakob Poeltl\", \"Others\", \"Trey Lyles\", \"Lonnie Walker IV\", \"Dejounte Murray\", \"Marco Belinelli\", \"Rudy Gay\", \"Patty Mills\", \"Derrick White\", \"Bryn Forbes\", \"LaMarcus Aldridge\", \"DeMar DeRozan\", \"Jakob Poeltl\", \"Others\", \"Trey Lyles\", \"Lonnie Walker IV\", \"Dejounte Murray\", \"Marco Belinelli\", \"Rudy Gay\", \"Patty Mills\", \"Derrick White\", \"Bryn Forbes\", \"LaMarcus Aldridge\", \"DeMar DeRozan\"], \"yaxis\": \"y\"}],\n",
       "                        {\"annotations\": [{\"showarrow\": false, \"text\": \"Twitter: @_jphwang\", \"textangle\": 0, \"x\": 0.9, \"xref\": \"paper\", \"y\": 1.02, \"yref\": \"paper\"}], \"coloraxis\": {\"cmax\": 120, \"cmin\": 90, \"colorbar\": {\"len\": 300, \"lenmode\": \"pixels\", \"outlinecolor\": \"#909090\", \"outlinewidth\": 1, \"thickness\": 15, \"thicknessmode\": \"pixels\", \"title\": {\"text\": \"Points per<BR>100 shots\"}, \"y\": 1, \"yanchor\": \"top\"}, \"colorscale\": [[0.0, \"rgb(49,54,149)\"], [0.1, \"rgb(69,117,180)\"], [0.2, \"rgb(116,173,209)\"], [0.3, \"rgb(171,217,233)\"], [0.4, \"rgb(224,243,248)\"], [0.5, \"rgb(255,255,191)\"], [0.6, \"rgb(254,224,144)\"], [0.7, \"rgb(253,174,97)\"], [0.8, \"rgb(244,109,67)\"], [0.9, \"rgb(215,48,39)\"], [1.0, \"rgb(165,0,38)\"]]}, \"font\": {\"color\": \"#404040\", \"family\": \"Arial, Tahoma, Helvetica\", \"size\": 10}, \"height\": 500, \"legend\": {\"itemsizing\": \"constant\", \"tracegroupgap\": 0}, \"margin\": {\"t\": 20}, \"paper_bgcolor\": \"white\", \"plot_bgcolor\": \"white\", \"template\": {\"data\": {\"bar\": [{\"error_x\": {\"color\": \"#2a3f5f\"}, \"error_y\": {\"color\": \"#2a3f5f\"}, \"marker\": {\"line\": {\"color\": \"#E5ECF6\", \"width\": 0.5}}, \"type\": \"bar\"}], \"barpolar\": [{\"marker\": {\"line\": {\"color\": \"#E5ECF6\", \"width\": 0.5}}, \"type\": \"barpolar\"}], \"carpet\": [{\"aaxis\": {\"endlinecolor\": \"#2a3f5f\", \"gridcolor\": \"white\", \"linecolor\": \"white\", \"minorgridcolor\": \"white\", \"startlinecolor\": \"#2a3f5f\"}, \"baxis\": {\"endlinecolor\": \"#2a3f5f\", \"gridcolor\": \"white\", \"linecolor\": \"white\", \"minorgridcolor\": \"white\", \"startlinecolor\": \"#2a3f5f\"}, \"type\": \"carpet\"}], \"choropleth\": [{\"colorbar\": {\"outlinewidth\": 0, \"ticks\": \"\"}, \"type\": \"choropleth\"}], \"contour\": [{\"colorbar\": {\"outlinewidth\": 0, \"ticks\": \"\"}, \"colorscale\": [[0.0, \"#0d0887\"], [0.1111111111111111, \"#46039f\"], [0.2222222222222222, \"#7201a8\"], [0.3333333333333333, \"#9c179e\"], [0.4444444444444444, \"#bd3786\"], [0.5555555555555556, \"#d8576b\"], [0.6666666666666666, \"#ed7953\"], [0.7777777777777778, \"#fb9f3a\"], [0.8888888888888888, \"#fdca26\"], [1.0, \"#f0f921\"]], \"type\": \"contour\"}], \"contourcarpet\": [{\"colorbar\": {\"outlinewidth\": 0, \"ticks\": \"\"}, \"type\": \"contourcarpet\"}], \"heatmap\": [{\"colorbar\": {\"outlinewidth\": 0, \"ticks\": \"\"}, \"colorscale\": [[0.0, \"#0d0887\"], [0.1111111111111111, \"#46039f\"], [0.2222222222222222, \"#7201a8\"], [0.3333333333333333, \"#9c179e\"], [0.4444444444444444, \"#bd3786\"], [0.5555555555555556, \"#d8576b\"], [0.6666666666666666, \"#ed7953\"], [0.7777777777777778, \"#fb9f3a\"], [0.8888888888888888, \"#fdca26\"], [1.0, \"#f0f921\"]], \"type\": \"heatmap\"}], \"heatmapgl\": [{\"colorbar\": {\"outlinewidth\": 0, \"ticks\": \"\"}, \"colorscale\": [[0.0, \"#0d0887\"], [0.1111111111111111, \"#46039f\"], [0.2222222222222222, \"#7201a8\"], [0.3333333333333333, \"#9c179e\"], [0.4444444444444444, \"#bd3786\"], [0.5555555555555556, \"#d8576b\"], [0.6666666666666666, \"#ed7953\"], [0.7777777777777778, \"#fb9f3a\"], [0.8888888888888888, \"#fdca26\"], [1.0, \"#f0f921\"]], \"type\": \"heatmapgl\"}], \"histogram\": [{\"marker\": {\"colorbar\": {\"outlinewidth\": 0, \"ticks\": \"\"}}, \"type\": \"histogram\"}], \"histogram2d\": [{\"colorbar\": {\"outlinewidth\": 0, \"ticks\": \"\"}, \"colorscale\": [[0.0, \"#0d0887\"], [0.1111111111111111, \"#46039f\"], [0.2222222222222222, \"#7201a8\"], [0.3333333333333333, \"#9c179e\"], [0.4444444444444444, \"#bd3786\"], [0.5555555555555556, \"#d8576b\"], [0.6666666666666666, \"#ed7953\"], [0.7777777777777778, \"#fb9f3a\"], [0.8888888888888888, \"#fdca26\"], [1.0, \"#f0f921\"]], \"type\": \"histogram2d\"}], \"histogram2dcontour\": [{\"colorbar\": {\"outlinewidth\": 0, \"ticks\": \"\"}, \"colorscale\": [[0.0, \"#0d0887\"], [0.1111111111111111, \"#46039f\"], [0.2222222222222222, \"#7201a8\"], [0.3333333333333333, \"#9c179e\"], [0.4444444444444444, \"#bd3786\"], [0.5555555555555556, \"#d8576b\"], [0.6666666666666666, \"#ed7953\"], [0.7777777777777778, \"#fb9f3a\"], [0.8888888888888888, \"#fdca26\"], [1.0, \"#f0f921\"]], \"type\": \"histogram2dcontour\"}], \"mesh3d\": [{\"colorbar\": {\"outlinewidth\": 0, \"ticks\": \"\"}, \"type\": \"mesh3d\"}], \"parcoords\": [{\"line\": {\"colorbar\": {\"outlinewidth\": 0, \"ticks\": \"\"}}, \"type\": \"parcoords\"}], \"pie\": [{\"automargin\": true, \"type\": \"pie\"}], \"scatter\": [{\"marker\": {\"colorbar\": {\"outlinewidth\": 0, \"ticks\": \"\"}}, \"type\": \"scatter\"}], \"scatter3d\": [{\"line\": {\"colorbar\": {\"outlinewidth\": 0, \"ticks\": \"\"}}, \"marker\": {\"colorbar\": {\"outlinewidth\": 0, \"ticks\": \"\"}}, \"type\": \"scatter3d\"}], \"scattercarpet\": [{\"marker\": {\"colorbar\": {\"outlinewidth\": 0, \"ticks\": \"\"}}, \"type\": \"scattercarpet\"}], \"scattergeo\": [{\"marker\": {\"colorbar\": {\"outlinewidth\": 0, \"ticks\": \"\"}}, \"type\": \"scattergeo\"}], \"scattergl\": [{\"marker\": {\"colorbar\": {\"outlinewidth\": 0, \"ticks\": \"\"}}, \"type\": \"scattergl\"}], \"scattermapbox\": [{\"marker\": {\"colorbar\": {\"outlinewidth\": 0, \"ticks\": \"\"}}, \"type\": \"scattermapbox\"}], \"scatterpolar\": [{\"marker\": {\"colorbar\": {\"outlinewidth\": 0, \"ticks\": \"\"}}, \"type\": \"scatterpolar\"}], \"scatterpolargl\": [{\"marker\": {\"colorbar\": {\"outlinewidth\": 0, \"ticks\": \"\"}}, \"type\": \"scatterpolargl\"}], \"scatterternary\": [{\"marker\": {\"colorbar\": {\"outlinewidth\": 0, \"ticks\": \"\"}}, \"type\": \"scatterternary\"}], \"surface\": [{\"colorbar\": {\"outlinewidth\": 0, \"ticks\": \"\"}, \"colorscale\": [[0.0, \"#0d0887\"], [0.1111111111111111, \"#46039f\"], [0.2222222222222222, \"#7201a8\"], [0.3333333333333333, \"#9c179e\"], [0.4444444444444444, \"#bd3786\"], [0.5555555555555556, \"#d8576b\"], [0.6666666666666666, \"#ed7953\"], [0.7777777777777778, \"#fb9f3a\"], [0.8888888888888888, \"#fdca26\"], [1.0, \"#f0f921\"]], \"type\": \"surface\"}], \"table\": [{\"cells\": {\"fill\": {\"color\": \"#EBF0F8\"}, \"line\": {\"color\": \"white\"}}, \"header\": {\"fill\": {\"color\": \"#C8D4E3\"}, \"line\": {\"color\": \"white\"}}, \"type\": \"table\"}]}, \"layout\": {\"annotationdefaults\": {\"arrowcolor\": \"#2a3f5f\", \"arrowhead\": 0, \"arrowwidth\": 1}, \"coloraxis\": {\"colorbar\": {\"outlinewidth\": 0, \"ticks\": \"\"}}, \"colorscale\": {\"diverging\": [[0, \"#8e0152\"], [0.1, \"#c51b7d\"], [0.2, \"#de77ae\"], [0.3, \"#f1b6da\"], [0.4, \"#fde0ef\"], [0.5, \"#f7f7f7\"], [0.6, \"#e6f5d0\"], [0.7, \"#b8e186\"], [0.8, \"#7fbc41\"], [0.9, \"#4d9221\"], [1, \"#276419\"]], \"sequential\": [[0.0, \"#0d0887\"], [0.1111111111111111, \"#46039f\"], [0.2222222222222222, \"#7201a8\"], [0.3333333333333333, \"#9c179e\"], [0.4444444444444444, \"#bd3786\"], [0.5555555555555556, \"#d8576b\"], [0.6666666666666666, \"#ed7953\"], [0.7777777777777778, \"#fb9f3a\"], [0.8888888888888888, \"#fdca26\"], [1.0, \"#f0f921\"]], \"sequentialminus\": [[0.0, \"#0d0887\"], [0.1111111111111111, \"#46039f\"], [0.2222222222222222, \"#7201a8\"], [0.3333333333333333, \"#9c179e\"], [0.4444444444444444, \"#bd3786\"], [0.5555555555555556, \"#d8576b\"], [0.6666666666666666, \"#ed7953\"], [0.7777777777777778, \"#fb9f3a\"], [0.8888888888888888, \"#fdca26\"], [1.0, \"#f0f921\"]]}, \"colorway\": [\"#636efa\", \"#EF553B\", \"#00cc96\", \"#ab63fa\", \"#FFA15A\", \"#19d3f3\", \"#FF6692\", \"#B6E880\", \"#FF97FF\", \"#FECB52\"], \"font\": {\"color\": \"#2a3f5f\"}, \"geo\": {\"bgcolor\": \"white\", \"lakecolor\": \"white\", \"landcolor\": \"#E5ECF6\", \"showlakes\": true, \"showland\": true, \"subunitcolor\": \"white\"}, \"hoverlabel\": {\"align\": \"left\"}, \"hovermode\": \"closest\", \"mapbox\": {\"style\": \"light\"}, \"paper_bgcolor\": \"white\", \"plot_bgcolor\": \"#E5ECF6\", \"polar\": {\"angularaxis\": {\"gridcolor\": \"white\", \"linecolor\": \"white\", \"ticks\": \"\"}, \"bgcolor\": \"#E5ECF6\", \"radialaxis\": {\"gridcolor\": \"white\", \"linecolor\": \"white\", \"ticks\": \"\"}}, \"scene\": {\"xaxis\": {\"backgroundcolor\": \"#E5ECF6\", \"gridcolor\": \"white\", \"gridwidth\": 2, \"linecolor\": \"white\", \"showbackground\": true, \"ticks\": \"\", \"zerolinecolor\": \"white\"}, \"yaxis\": {\"backgroundcolor\": \"#E5ECF6\", \"gridcolor\": \"white\", \"gridwidth\": 2, \"linecolor\": \"white\", \"showbackground\": true, \"ticks\": \"\", \"zerolinecolor\": \"white\"}, \"zaxis\": {\"backgroundcolor\": \"#E5ECF6\", \"gridcolor\": \"white\", \"gridwidth\": 2, \"linecolor\": \"white\", \"showbackground\": true, \"ticks\": \"\", \"zerolinecolor\": \"white\"}}, \"shapedefaults\": {\"line\": {\"color\": \"#2a3f5f\"}}, \"ternary\": {\"aaxis\": {\"gridcolor\": \"white\", \"linecolor\": \"white\", \"ticks\": \"\"}, \"baxis\": {\"gridcolor\": \"white\", \"linecolor\": \"white\", \"ticks\": \"\"}, \"bgcolor\": \"#E5ECF6\", \"caxis\": {\"gridcolor\": \"white\", \"linecolor\": \"white\", \"ticks\": \"\"}}, \"title\": {\"x\": 0.05}, \"xaxis\": {\"automargin\": true, \"gridcolor\": \"white\", \"linecolor\": \"white\", \"ticks\": \"\", \"title\": {\"standoff\": 15}, \"zerolinecolor\": \"white\", \"zerolinewidth\": 2}, \"yaxis\": {\"automargin\": true, \"gridcolor\": \"white\", \"linecolor\": \"white\", \"ticks\": \"\", \"title\": {\"standoff\": 15}, \"zerolinecolor\": \"white\", \"zerolinewidth\": 2}}}, \"width\": 1250, \"xaxis\": {\"anchor\": \"y\", \"domain\": [0.0, 1.0], \"fixedrange\": true, \"gridcolor\": \"LightGray\", \"gridwidth\": 1, \"range\": [0, 49], \"showgrid\": true, \"tickvals\": [0, 6, 12, 18, 24, 30, 36, 42, 48], \"title\": {\"text\": \"Minute\"}}, \"yaxis\": {\"anchor\": \"x\", \"domain\": [0.0, 1.0], \"fixedrange\": true, \"gridcolor\": \"LightGray\", \"gridwidth\": 1, \"range\": [-1, 12], \"showgrid\": true, \"tickson\": \"boundaries\", \"title\": {\"text\": \"Player\"}}},\n",
       "                        {\"responsive\": true}\n",
       "                    ).then(function(){\n",
       "                            \n",
       "var gd = document.getElementById('e7bc7928-3563-4ca3-b5ab-0fe2452ee158');\n",
       "var x = new MutationObserver(function (mutations, observer) {{\n",
       "        var display = window.getComputedStyle(gd).display;\n",
       "        if (!display || display === 'none') {{\n",
       "            console.log([gd, 'removed!']);\n",
       "            Plotly.purge(gd);\n",
       "            observer.disconnect();\n",
       "        }}\n",
       "}});\n",
       "\n",
       "// Listen for the removal of the full notebook cells\n",
       "var notebookContainer = gd.closest('#notebook-container');\n",
       "if (notebookContainer) {{\n",
       "    x.observe(notebookContainer, {childList: true});\n",
       "}}\n",
       "\n",
       "// Listen for the clearing of the current output cell\n",
       "var outputEl = gd.closest('.output');\n",
       "if (outputEl) {{\n",
       "    x.observe(outputEl, {childList: true});\n",
       "}}\n",
       "\n",
       "                        })\n",
       "                };\n",
       "                });\n",
       "            </script>\n",
       "        </div>"
      ]
     },
     "metadata": {},
     "output_type": "display_data"
    }
   ],
   "source": [
    "fig = make_shot_dist_chart(\n",
    "    all_teams_df[all_teams_df.group == 'SAS'], col_col='pl_pps', range_color=[90, 120], size_col='shots_freq')\n",
    "clean_chart_format(fig)\n",
    "fig.update_layout(height=500, width=1250)\n",
    "fig.show()"
   ]
  },
  {
   "cell_type": "code",
   "execution_count": null,
   "metadata": {},
   "outputs": [],
   "source": []
  }
 ],
 "metadata": {
  "kernelspec": {
   "display_name": "Python 3",
   "language": "python",
   "name": "python3"
  },
  "language_info": {
   "codemirror_mode": {
    "name": "ipython",
    "version": 3
   },
   "file_extension": ".py",
   "mimetype": "text/x-python",
   "name": "python",
   "nbconvert_exporter": "python",
   "pygments_lexer": "ipython3",
   "version": "3.7.7"
  }
 },
 "nbformat": 4,
 "nbformat_minor": 4
}
