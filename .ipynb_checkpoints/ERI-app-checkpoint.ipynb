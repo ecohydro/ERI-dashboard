{
 "cells": [
  {
   "cell_type": "code",
   "execution_count": 37,
   "metadata": {},
   "outputs": [],
   "source": [
    "# LOAD\n",
    "import pandas as pd\n",
    "import plotly.express as px\n",
    "import dash\n",
    "import dash_core_components as dcc\n",
    "import dash_html_components as html\n",
    "import plotly.graph_objects as go\n",
    "from dash.dependencies import Input, Output"
   ]
  },
  {
   "cell_type": "code",
   "execution_count": 38,
   "metadata": {},
   "outputs": [],
   "source": [
    "# DATA, VARIABLES\n",
    "df = pd.read_csv('9-document-topic-viz.csv', index_col=0)\n",
    "df.head()\n",
    "mytitle='ERI projects & publications (2009 - 2019) clustered by topic'\n",
    "tabtitle='ERI Research Map'\n",
    "githublink='https://github.com/saralafia'"
   ]
  },
  {
   "cell_type": "code",
   "execution_count": null,
   "metadata": {},
   "outputs": [
    {
     "name": "stdout",
     "output_type": "stream",
     "text": [
      " * Serving Flask app \"__main__\" (lazy loading)\n",
      " * Environment: production\n",
      "\u001b[31m   WARNING: This is a development server. Do not use it in a production deployment.\u001b[0m\n",
      "\u001b[2m   Use a production WSGI server instead.\u001b[0m\n",
      " * Debug mode: off\n"
     ]
    },
    {
     "name": "stderr",
     "output_type": "stream",
     "text": [
      " * Running on http://127.0.0.1:8050/ (Press CTRL+C to quit)\n",
      "127.0.0.1 - - [13/May/2020 20:38:07] \"\u001b[37mGET / HTTP/1.1\u001b[0m\" 200 -\n",
      "127.0.0.1 - - [13/May/2020 20:38:07] \"\u001b[37mGET /_dash-dependencies HTTP/1.1\u001b[0m\" 200 -\n",
      "127.0.0.1 - - [13/May/2020 20:38:07] \"\u001b[37mGET /_favicon.ico?v=1.12.0 HTTP/1.1\u001b[0m\" 200 -\n",
      "127.0.0.1 - - [13/May/2020 20:38:07] \"\u001b[37mGET /_dash-layout HTTP/1.1\u001b[0m\" 200 -\n"
     ]
    }
   ],
   "source": [
    "# DASH\n",
    "fig = px.scatter(df, \n",
    "                 x=df.x, \n",
    "                 y=df.y,\n",
    "                 color=df.main_label, \n",
    "                 hover_data={'x':False,\n",
    "                             'y':False, \n",
    "                             'title':df.title,\n",
    "                             'authors':df.authors,\n",
    "                             'identifier':df.identifier,\n",
    "                             'year':df.year, \n",
    "                             'type':df.type, \n",
    "                             'topic_keywords':df.main_keys, \n",
    "                             'main_label':False},\n",
    "                 color_discrete_sequence=px.colors.qualitative.D3,\n",
    "                 #title=mytitle,\n",
    "                 template='plotly_white')\n",
    "\n",
    "fig.update_layout(xaxis_showgrid=False, \n",
    "                  yaxis_showgrid=False, \n",
    "                  xaxis_zeroline=False, \n",
    "                  yaxis_zeroline=False, \n",
    "                  yaxis_visible=False, \n",
    "                  xaxis_visible=False)\n",
    "\n",
    "fig.update_layout(height=800, width=1200, legend_title='Main Topic', legend= {'itemsizing': 'constant'})\n",
    "\n",
    "external_stylesheets = ['https://codepen.io/chriddyp/pen/bWLwgP.css']\n",
    "app = dash.Dash(__name__, external_stylesheets=external_stylesheets)\n",
    "server = app.server\n",
    "app.title=tabtitle\n",
    "\n",
    "app.layout = html.Div(children=[\n",
    "    html.H1(mytitle), \n",
    "    html.A('code + data', href=githublink, target=\"_blank\"),\n",
    "    html.Br(),\n",
    "    dcc.Graph(\n",
    "        id='ERI-map',\n",
    "        figure=fig\n",
    "    ), \n",
    "])\n",
    "\n",
    "if __name__ == '__main__':\n",
    "    app.run_server(debug=False)"
   ]
  },
  {
   "cell_type": "code",
   "execution_count": null,
   "metadata": {},
   "outputs": [],
   "source": []
  }
 ],
 "metadata": {
  "kernelspec": {
   "display_name": "Python 3",
   "language": "python",
   "name": "python3"
  },
  "language_info": {
   "codemirror_mode": {
    "name": "ipython",
    "version": 3
   },
   "file_extension": ".py",
   "mimetype": "text/x-python",
   "name": "python",
   "nbconvert_exporter": "python",
   "pygments_lexer": "ipython3",
   "version": "3.7.7"
  }
 },
 "nbformat": 4,
 "nbformat_minor": 4
}
